{
  "cells": [
    {
      "cell_type": "markdown",
      "metadata": {
        "id": "2BiTzNq7ttYK"
      },
      "source": [
        "## IDENTIFIKASI MASALAH"
      ]
    },
    {
      "cell_type": "markdown",
      "metadata": {
        "id": "gAAudknNI1rO"
      },
      "source": [
        "#### Framework SMART\n",
        "\n",
        "**Case Study: Meningkatkan Peluang Pekerjaan sebagai Data Analyst dengan menggunakan Metode SMART**\n",
        "\n",
        "Sebagai lulusan baru dari program Teknik Informatika di Institut Teknologi Sepuluh Nopember, saya memiliki keinginan untuk memulai karir sebagai data analyst. Meskipun telah berupaya mencari pekerjaan selama satu bulan terakhir, namun belum berhasil mendapatkan kesempatan pekerjaan di bidang ini. Dalam usaha meningkatkan peluang saya, saya memutuskan untuk fokus pada peningkatan keterampilan dan pemahaman mendalam di bidang data analyst. Untuk mendapatkan wawasan yang lebih baik, saya akan melakukan eksplorasi terhadap job listing data analyst di Amerika Serikat, sehingga saya dapat memperkuat kemampuan dan pengetahuan saya sesuai dengan tuntutan pasar kerja. Tujuannya adalah agar saya dapat mendapatkan pekerjaan yang sesuai dengan kemampuan dan pengetahuan yang telah saya peroleh selama studi dan praktikum di kampus.\n",
        "\n",
        "1. **Specific:** Menganalisis dataset pekerjaan terbuka, khususnya **LinkedIn Data Analyst jobs listings**, untuk mendapatkan wawasan tentang tren pekerjaan, karakteristik perusahaan, dan persyaratan kualifikasi.\n",
        "\n",
        "2. **Measurable:**\n",
        "    - Menetapkan target gaji di atas 8.5 juta sebagai parameter keberhasilan.\n",
        "    - Melamar pekerjaan sebagai Data Analyst setidaknya pada 20-30 pekerjaan sebagai langkah konkrit dalam mencapai tujuan dalam waktu 2 minggu.\n",
        "\n",
        "3. **Achievable:** Dengan memanfaatkan dataset LinkedIn, saya dapat menemukan insight baru yang dapat meningkatkan kemungkinan mendapatkan pekerjaan sebagai data analyst.\n",
        "\n",
        "4. **Relevant:** Analisis terhadap job listings relevan karena akan memberikan gambaran langsung tentang tuntutan pasar kerja untuk posisi Data Analyst.\n",
        "\n",
        "5. **Time-Bound:**  Menyelesaikan eksplorasi dan analisis dataset LinkedIn dalam waktu 1 bulan.\n",
        "\n",
        "**Kesimpulan:**\n",
        "Dalam upaya meningkatkan peluang pekerjaan sebagai Data Analyst, saya merancang sebuah studi kasus dengan menggunakan metode SMART. Fokus utama studi ini adalah menganalisis dataset pekerjaan terbuka, khususnya LinkedIn Data Analyst jobs listings, untuk memahami tren pekerjaan, karakteristik perusahaan, dan persyaratan kualifikasi. Dengan menetapkan target gaji di atas 8.5 juta dan merencanakan pengiriman 20-30 lamaran pekerjaan dalam waktu 2 minggu, saya berharap dapat meningkatkan peluang saya untuk mendapatkan pekerjaan yang sesuai dengan kemampuan dan pengetahuan yang saya miliki. Analisis terhadap job listings ini diharapkan memberikan wawasan langsung tentang tuntutan pasar kerja, sehingga dapat menjadi landasan yang kuat dalam mempersiapkan diri untuk bersaing di dunia kerja sebagai seorang Data Analyst."
      ]
    },
    {
      "cell_type": "markdown",
      "metadata": {
        "id": "oftmQO_7I1rP"
      },
      "source": [
        "## DATA LOADING"
      ]
    },
    {
      "cell_type": "markdown",
      "metadata": {
        "id": "a-gsZ7f8I1rP"
      },
      "source": [
        "Melakukan eksplorasi data untuk mengetahui data-data yang tidak sesuai dengan keinginan kita"
      ]
    },
    {
      "cell_type": "markdown",
      "metadata": {
        "id": "_jzTqdVQI1rP"
      },
      "source": [
        "### Memuat Data `linkedin jobs`"
      ]
    },
    {
      "cell_type": "code",
      "execution_count": 3,
      "metadata": {
        "colab": {
          "base_uri": "https://localhost:8080/",
          "height": 0
        },
        "id": "uK0mgRgbI1rP",
        "outputId": "7eb744e7-aa58-4cc9-ab8a-c5ba255ad12f"
      },
      "outputs": [
        {
          "data": {
            "text/html": [
              "<div>\n",
              "<style scoped>\n",
              "    .dataframe tbody tr th:only-of-type {\n",
              "        vertical-align: middle;\n",
              "    }\n",
              "\n",
              "    .dataframe tbody tr th {\n",
              "        vertical-align: top;\n",
              "    }\n",
              "\n",
              "    .dataframe thead th {\n",
              "        text-align: right;\n",
              "    }\n",
              "</style>\n",
              "<table border=\"1\" class=\"dataframe\">\n",
              "  <thead>\n",
              "    <tr style=\"text-align: right;\">\n",
              "      <th></th>\n",
              "      <th>title</th>\n",
              "      <th>company</th>\n",
              "      <th>description</th>\n",
              "      <th>onsite_remote</th>\n",
              "      <th>salary</th>\n",
              "      <th>location</th>\n",
              "      <th>criteria</th>\n",
              "      <th>posted_date</th>\n",
              "      <th>link</th>\n",
              "    </tr>\n",
              "  </thead>\n",
              "  <tbody>\n",
              "    <tr>\n",
              "      <th>0</th>\n",
              "      <td>Data Analyst</td>\n",
              "      <td>NNC</td>\n",
              "      <td>We are looking for a passionate certified Data...</td>\n",
              "      <td>onsite</td>\n",
              "      <td>NaN</td>\n",
              "      <td>Cairo, Cairo, Egypt</td>\n",
              "      <td>[{'مستوى الأقدمية': 'غير مطبق'}, {'نوع التوظيف...</td>\n",
              "      <td>2022-11-18</td>\n",
              "      <td>https://eg.linkedin.com/jobs/view/data-analyst...</td>\n",
              "    </tr>\n",
              "    <tr>\n",
              "      <th>1</th>\n",
              "      <td>Data Analyst</td>\n",
              "      <td>Watu Credit</td>\n",
              "      <td>WATU is a focus-driven, customer-centric compa...</td>\n",
              "      <td>onsite</td>\n",
              "      <td>NaN</td>\n",
              "      <td>Nairobi County, Kenya</td>\n",
              "      <td>[{'Seniority level': 'Associate'}, {'Employmen...</td>\n",
              "      <td>2022-11-01</td>\n",
              "      <td>https://ke.linkedin.com/jobs/view/data-analyst...</td>\n",
              "    </tr>\n",
              "    <tr>\n",
              "      <th>2</th>\n",
              "      <td>Data Analyst (Credit Risk)</td>\n",
              "      <td>Kuda</td>\n",
              "      <td>Kuda is a fintech on a mission to make financi...</td>\n",
              "      <td>onsite</td>\n",
              "      <td>NaN</td>\n",
              "      <td>Cape Town, Western Cape, South Africa</td>\n",
              "      <td>[{'Seniority level': 'Not Applicable'}, {'Empl...</td>\n",
              "      <td>2022-11-21</td>\n",
              "      <td>https://za.linkedin.com/jobs/view/data-analyst...</td>\n",
              "    </tr>\n",
              "    <tr>\n",
              "      <th>3</th>\n",
              "      <td>Data Analyst</td>\n",
              "      <td>Watu Credit</td>\n",
              "      <td>Role: Data AnalystReporting to: Data Analytics...</td>\n",
              "      <td>onsite</td>\n",
              "      <td>NaN</td>\n",
              "      <td>Nairobi, Nairobi County, Kenya</td>\n",
              "      <td>[{'Seniority level': 'Mid-Senior level'}, {'Em...</td>\n",
              "      <td>2022-11-01</td>\n",
              "      <td>https://ke.linkedin.com/jobs/view/data-analyst...</td>\n",
              "    </tr>\n",
              "    <tr>\n",
              "      <th>4</th>\n",
              "      <td>Data Analyst</td>\n",
              "      <td>Tata Consultancy Services</td>\n",
              "      <td>About Tata Consultancy ServicesTata Consultanc...</td>\n",
              "      <td>onsite</td>\n",
              "      <td>NaN</td>\n",
              "      <td>City of Johannesburg, Gauteng, South Africa</td>\n",
              "      <td>[{'Seniority level': 'Mid-Senior level'}, {'Em...</td>\n",
              "      <td>2022-10-27</td>\n",
              "      <td>https://za.linkedin.com/jobs/view/data-analyst...</td>\n",
              "    </tr>\n",
              "    <tr>\n",
              "      <th>...</th>\n",
              "      <td>...</td>\n",
              "      <td>...</td>\n",
              "      <td>...</td>\n",
              "      <td>...</td>\n",
              "      <td>...</td>\n",
              "      <td>...</td>\n",
              "      <td>...</td>\n",
              "      <td>...</td>\n",
              "      <td>...</td>\n",
              "    </tr>\n",
              "    <tr>\n",
              "      <th>8485</th>\n",
              "      <td>Junior Data Analyst</td>\n",
              "      <td>Iris Software Inc.</td>\n",
              "      <td>Iris's client, one of the world's largest fina...</td>\n",
              "      <td>hybrid</td>\n",
              "      <td>NaN</td>\n",
              "      <td>Texas, United States</td>\n",
              "      <td>[{'Seniority level': 'Mid-Senior level'}, {'Em...</td>\n",
              "      <td>2022-10-21</td>\n",
              "      <td>https://www.linkedin.com/jobs/view/junior-data...</td>\n",
              "    </tr>\n",
              "    <tr>\n",
              "      <th>8486</th>\n",
              "      <td>Data Analyst (SQL)</td>\n",
              "      <td>Marwood Group</td>\n",
              "      <td>The Marwood Group (Marwood) is a leading healt...</td>\n",
              "      <td>hybrid</td>\n",
              "      <td>$75,000.00\\r\\n            -\\r\\n            $95...</td>\n",
              "      <td>New York City Metropolitan Area</td>\n",
              "      <td>[{'Seniority level': 'Mid-Senior level'}, {'Em...</td>\n",
              "      <td>2022-10-26</td>\n",
              "      <td>https://www.linkedin.com/jobs/view/data-analys...</td>\n",
              "    </tr>\n",
              "    <tr>\n",
              "      <th>8487</th>\n",
              "      <td>Data Analyst</td>\n",
              "      <td>SmartSense by Digi</td>\n",
              "      <td>Join a high-performing, tight-knit team at a f...</td>\n",
              "      <td>hybrid</td>\n",
              "      <td>NaN</td>\n",
              "      <td>Mishawaka, IN</td>\n",
              "      <td>[{'Seniority level': 'Associate'}, {'Employmen...</td>\n",
              "      <td>2022-11-17</td>\n",
              "      <td>https://www.linkedin.com/jobs/view/data-analys...</td>\n",
              "    </tr>\n",
              "    <tr>\n",
              "      <th>8488</th>\n",
              "      <td>Data Analyst</td>\n",
              "      <td>Synergy Search</td>\n",
              "      <td>Nashville (Berry Hill) based company looking t...</td>\n",
              "      <td>hybrid</td>\n",
              "      <td>$85,000.00\\r\\n            -\\r\\n            $95...</td>\n",
              "      <td>Nashville Metropolitan Area</td>\n",
              "      <td>[{'Seniority level': 'Not Applicable'}, {'Empl...</td>\n",
              "      <td>2022-11-14</td>\n",
              "      <td>https://www.linkedin.com/jobs/view/data-analys...</td>\n",
              "    </tr>\n",
              "    <tr>\n",
              "      <th>8489</th>\n",
              "      <td>Data Analyst</td>\n",
              "      <td>Insight Global</td>\n",
              "      <td>Overview - Minimum 5 years in a quantitative d...</td>\n",
              "      <td>hybrid</td>\n",
              "      <td>$130,000.00\\r\\n            -\\r\\n            $1...</td>\n",
              "      <td>Burbank, CA</td>\n",
              "      <td>[{'Seniority level': 'Mid-Senior level'}, {'Em...</td>\n",
              "      <td>2022-11-14</td>\n",
              "      <td>https://www.linkedin.com/jobs/view/data-analys...</td>\n",
              "    </tr>\n",
              "  </tbody>\n",
              "</table>\n",
              "<p>8490 rows × 9 columns</p>\n",
              "</div>"
            ],
            "text/plain": [
              "                           title                    company  \\\n",
              "0                   Data Analyst                        NNC   \n",
              "1                   Data Analyst                Watu Credit   \n",
              "2     Data Analyst (Credit Risk)                       Kuda   \n",
              "3                   Data Analyst                Watu Credit   \n",
              "4                   Data Analyst  Tata Consultancy Services   \n",
              "...                          ...                        ...   \n",
              "8485         Junior Data Analyst         Iris Software Inc.   \n",
              "8486          Data Analyst (SQL)              Marwood Group   \n",
              "8487                Data Analyst         SmartSense by Digi   \n",
              "8488                Data Analyst             Synergy Search   \n",
              "8489                Data Analyst             Insight Global   \n",
              "\n",
              "                                            description onsite_remote  \\\n",
              "0     We are looking for a passionate certified Data...        onsite   \n",
              "1     WATU is a focus-driven, customer-centric compa...        onsite   \n",
              "2     Kuda is a fintech on a mission to make financi...        onsite   \n",
              "3     Role: Data AnalystReporting to: Data Analytics...        onsite   \n",
              "4     About Tata Consultancy ServicesTata Consultanc...        onsite   \n",
              "...                                                 ...           ...   \n",
              "8485  Iris's client, one of the world's largest fina...        hybrid   \n",
              "8486  The Marwood Group (Marwood) is a leading healt...        hybrid   \n",
              "8487  Join a high-performing, tight-knit team at a f...        hybrid   \n",
              "8488  Nashville (Berry Hill) based company looking t...        hybrid   \n",
              "8489  Overview - Minimum 5 years in a quantitative d...        hybrid   \n",
              "\n",
              "                                                 salary  \\\n",
              "0                                                   NaN   \n",
              "1                                                   NaN   \n",
              "2                                                   NaN   \n",
              "3                                                   NaN   \n",
              "4                                                   NaN   \n",
              "...                                                 ...   \n",
              "8485                                                NaN   \n",
              "8486  $75,000.00\\r\\n            -\\r\\n            $95...   \n",
              "8487                                                NaN   \n",
              "8488  $85,000.00\\r\\n            -\\r\\n            $95...   \n",
              "8489  $130,000.00\\r\\n            -\\r\\n            $1...   \n",
              "\n",
              "                                         location  \\\n",
              "0                             Cairo, Cairo, Egypt   \n",
              "1                           Nairobi County, Kenya   \n",
              "2           Cape Town, Western Cape, South Africa   \n",
              "3                  Nairobi, Nairobi County, Kenya   \n",
              "4     City of Johannesburg, Gauteng, South Africa   \n",
              "...                                           ...   \n",
              "8485                         Texas, United States   \n",
              "8486              New York City Metropolitan Area   \n",
              "8487                                Mishawaka, IN   \n",
              "8488                  Nashville Metropolitan Area   \n",
              "8489                                  Burbank, CA   \n",
              "\n",
              "                                               criteria posted_date  \\\n",
              "0     [{'مستوى الأقدمية': 'غير مطبق'}, {'نوع التوظيف...  2022-11-18   \n",
              "1     [{'Seniority level': 'Associate'}, {'Employmen...  2022-11-01   \n",
              "2     [{'Seniority level': 'Not Applicable'}, {'Empl...  2022-11-21   \n",
              "3     [{'Seniority level': 'Mid-Senior level'}, {'Em...  2022-11-01   \n",
              "4     [{'Seniority level': 'Mid-Senior level'}, {'Em...  2022-10-27   \n",
              "...                                                 ...         ...   \n",
              "8485  [{'Seniority level': 'Mid-Senior level'}, {'Em...  2022-10-21   \n",
              "8486  [{'Seniority level': 'Mid-Senior level'}, {'Em...  2022-10-26   \n",
              "8487  [{'Seniority level': 'Associate'}, {'Employmen...  2022-11-17   \n",
              "8488  [{'Seniority level': 'Not Applicable'}, {'Empl...  2022-11-14   \n",
              "8489  [{'Seniority level': 'Mid-Senior level'}, {'Em...  2022-11-14   \n",
              "\n",
              "                                                   link  \n",
              "0     https://eg.linkedin.com/jobs/view/data-analyst...  \n",
              "1     https://ke.linkedin.com/jobs/view/data-analyst...  \n",
              "2     https://za.linkedin.com/jobs/view/data-analyst...  \n",
              "3     https://ke.linkedin.com/jobs/view/data-analyst...  \n",
              "4     https://za.linkedin.com/jobs/view/data-analyst...  \n",
              "...                                                 ...  \n",
              "8485  https://www.linkedin.com/jobs/view/junior-data...  \n",
              "8486  https://www.linkedin.com/jobs/view/data-analys...  \n",
              "8487  https://www.linkedin.com/jobs/view/data-analys...  \n",
              "8488  https://www.linkedin.com/jobs/view/data-analys...  \n",
              "8489  https://www.linkedin.com/jobs/view/data-analys...  \n",
              "\n",
              "[8490 rows x 9 columns]"
            ]
          },
          "execution_count": 3,
          "metadata": {},
          "output_type": "execute_result"
        }
      ],
      "source": [
        "# Memuat data\n",
        "import pandas as pd\n",
        "\n",
        "df1 = pd.read_csv('dataset/linkedin-jobs-africa.csv')\n",
        "df2 = pd.read_csv('dataset/linkedin-jobs-canada.csv')\n",
        "df3 = pd.read_csv('dataset/linkedin-jobs-usa.csv')\n",
        "\n",
        "df = pd.concat([df1, df2, df3], ignore_index=True)\n",
        "df\n",
        "\n"
      ]
    },
    {
      "cell_type": "markdown",
      "metadata": {
        "id": "pdfAYfGfI1rR"
      },
      "source": [
        "### Melihat informasi data lebih detail"
      ]
    },
    {
      "cell_type": "code",
      "execution_count": 20,
      "metadata": {
        "colab": {
          "base_uri": "https://localhost:8080/"
        },
        "id": "MERyeQL3I1rR",
        "outputId": "2a04c7ed-8f3b-47ba-c55f-6d420bb5ec3b"
      },
      "outputs": [
        {
          "name": "stdout",
          "output_type": "stream",
          "text": [
            "<class 'pandas.core.frame.DataFrame'>\n",
            "RangeIndex: 8490 entries, 0 to 8489\n",
            "Data columns (total 9 columns):\n",
            " #   Column         Non-Null Count  Dtype \n",
            "---  ------         --------------  ----- \n",
            " 0   title          8490 non-null   object\n",
            " 1   company        8490 non-null   object\n",
            " 2   description    8490 non-null   object\n",
            " 3   onsite_remote  8490 non-null   object\n",
            " 4   salary         965 non-null    object\n",
            " 5   location       8490 non-null   object\n",
            " 6   criteria       8490 non-null   object\n",
            " 7   posted_date    8490 non-null   object\n",
            " 8   link           8490 non-null   object\n",
            "dtypes: object(9)\n",
            "memory usage: 597.1+ KB\n"
          ]
        }
      ],
      "source": [
        "df.info()"
      ]
    },
    {
      "cell_type": "markdown",
      "metadata": {
        "id": "98ayq85cI1rS"
      },
      "source": [
        "Informasi lain:\n",
        "1. Data berjumlah `8490`\n",
        "2. Memiliki kolom sebanyak `9` kolom\n",
        "3. Teindikasi ada data yang `Nan`\n",
        "4. Pada kolom `criteria` akan dilakukan pemecahan isi data untuk dibagi lagi menjadi kolom baru\n",
        "5. Mengubah `posted_date` menjadi type data `to_datetime`"
      ]
    },
    {
      "cell_type": "code",
      "execution_count": 21,
      "metadata": {},
      "outputs": [
        {
          "data": {
            "text/plain": [
              "dtype('<M8[ns]')"
            ]
          },
          "execution_count": 21,
          "metadata": {},
          "output_type": "execute_result"
        }
      ],
      "source": [
        "df['posted_date']=pd.to_datetime(df['posted_date'])\n",
        "df['posted_date'].dtypes"
      ]
    },
    {
      "cell_type": "markdown",
      "metadata": {
        "id": "2o5CrVIXI1rS"
      },
      "source": [
        "## Data Cleaning"
      ]
    },
    {
      "cell_type": "code",
      "execution_count": 22,
      "metadata": {
        "colab": {
          "base_uri": "https://localhost:8080/"
        },
        "id": "LCjfBq2aI1rS",
        "outputId": "c7b3ae51-fe21-41d1-88c8-17414687bf8a"
      },
      "outputs": [
        {
          "data": {
            "text/plain": [
              "0"
            ]
          },
          "execution_count": 22,
          "metadata": {},
          "output_type": "execute_result"
        }
      ],
      "source": [
        "df.duplicated().sum()"
      ]
    },
    {
      "cell_type": "code",
      "execution_count": 23,
      "metadata": {},
      "outputs": [
        {
          "data": {
            "text/plain": [
              "salary\n",
              "$50.00\\r\\n            -\\r\\n            $60.00              89\n",
              "$100,000.00\\r\\n            -\\r\\n            $120,000.00    50\n",
              "$85,000.00\\r\\n            -\\r\\n            $100,000.00     38\n",
              "$125,000.00\\r\\n            -\\r\\n            $155,000.00    37\n",
              "$60.00\\r\\n            -\\r\\n            $60.00              37\n",
              "$40.00\\r\\n            -\\r\\n            $60.00              37\n",
              "$30.00\\r\\n            -\\r\\n            $33.00              37\n",
              "$120,000.00\\r\\n            -\\r\\n            $130,000.00    36\n",
              "$30.00\\r\\n            -\\r\\n            $30.00              36\n",
              "$59.69\\r\\n            -\\r\\n            $79.58              36\n",
              "$22.00\\r\\n            -\\r\\n            $24.00              35\n",
              "$80,000.00\\r\\n            -\\r\\n            $90,000.00      35\n",
              "$73,036.00\\r\\n            -\\r\\n            $105,901.00     35\n",
              "$135,000.00\\r\\n            -\\r\\n            $140,000.00    34\n",
              "$70,000.00\\r\\n            -\\r\\n            $80,000.00      34\n",
              "$60,000.00\\r\\n            -\\r\\n            $90,000.00      34\n",
              "$40.00\\r\\n            -\\r\\n            $50.00              34\n",
              "$120,000.00\\r\\n            -\\r\\n            $135,000.00    34\n",
              "$80,000.00\\r\\n            -\\r\\n            $110,000.00     34\n",
              "$90,000.00\\r\\n            -\\r\\n            $120,000.00     30\n",
              "$38.00\\r\\n            -\\r\\n            $45.00              24\n",
              "$75,000.00\\r\\n            -\\r\\n            $95,000.00      23\n",
              "$50,000.00\\r\\n            -\\r\\n            $55,000.00      22\n",
              "$40.00\\r\\n            -\\r\\n            $100.00             21\n",
              "$5,800.00\\r\\n            -\\r\\n            $6,000.00        21\n",
              "$75,000.00\\r\\n            -\\r\\n            $90,000.00      17\n",
              "$130,000.00\\r\\n            -\\r\\n            $150,000.00    16\n",
              "$28.00\\r\\n            -\\r\\n            $30.00              10\n",
              "$65,000.00\\r\\n            -\\r\\n            $70,000.00       6\n",
              "$30.00\\r\\n            -\\r\\n            $40.00               5\n",
              "$35.00\\r\\n            -\\r\\n            $37.00               5\n",
              "$100,000.00\\r\\n            -\\r\\n            $115,000.00     3\n",
              "$80,000.00\\r\\n            -\\r\\n            $100,000.00      3\n",
              "$70,000.00\\r\\n            -\\r\\n            $70,000.00       2\n",
              "$60,000.00\\r\\n            -\\r\\n            $65,000.00       2\n",
              "$120,000.00\\r\\n            -\\r\\n            $150,000.00     1\n",
              "$80,000.00\\r\\n            -\\r\\n            $95,000.00       1\n",
              "$80,000.00\\r\\n            -\\r\\n            $102,000.00      1\n",
              "$68.00\\r\\n            -\\r\\n            $70.00               1\n",
              "$90,000.00\\r\\n            -\\r\\n            $135,000.00      1\n",
              "$75,000.00\\r\\n            -\\r\\n            $93,000.00       1\n",
              "$38.00\\r\\n            -\\r\\n            $43.00               1\n",
              "$40.00\\r\\n            -\\r\\n            $45.00               1\n",
              "CA$135.00\\r\\n            -\\r\\n            CA$145.00         1\n",
              "$50.00\\r\\n            -\\r\\n            $50.00               1\n",
              "$55,000.00\\r\\n            -\\r\\n            $70,000.00       1\n",
              "$65,500.00\\r\\n            -\\r\\n            $78,500.00       1\n",
              "$85,000.00\\r\\n            -\\r\\n            $95,000.00       1\n",
              "Name: count, dtype: int64"
            ]
          },
          "execution_count": 23,
          "metadata": {},
          "output_type": "execute_result"
        }
      ],
      "source": [
        "df['salary'].value_counts()"
      ]
    },
    {
      "cell_type": "code",
      "execution_count": 24,
      "metadata": {},
      "outputs": [],
      "source": [
        "df['salary'] = df['salary'].str.replace('\\r\\n', '').str.replace(',', '').str.strip()\n"
      ]
    },
    {
      "cell_type": "code",
      "execution_count": 25,
      "metadata": {},
      "outputs": [
        {
          "data": {
            "text/plain": [
              "salary\n",
              "$50.00            -            $60.00            89\n",
              "$100000.00            -            $120000.00    50\n",
              "$85000.00            -            $100000.00     38\n",
              "$30.00            -            $33.00            37\n",
              "$40.00            -            $60.00            37\n",
              "$125000.00            -            $155000.00    37\n",
              "$60.00            -            $60.00            37\n",
              "$120000.00            -            $130000.00    36\n",
              "$59.69            -            $79.58            36\n",
              "$30.00            -            $30.00            36\n",
              "$80000.00            -            $90000.00      35\n",
              "$73036.00            -            $105901.00     35\n",
              "$22.00            -            $24.00            35\n",
              "$135000.00            -            $140000.00    34\n",
              "$70000.00            -            $80000.00      34\n",
              "$60000.00            -            $90000.00      34\n",
              "$40.00            -            $50.00            34\n",
              "$80000.00            -            $110000.00     34\n",
              "$120000.00            -            $135000.00    34\n",
              "$90000.00            -            $120000.00     30\n",
              "$38.00            -            $45.00            24\n",
              "$75000.00            -            $95000.00      23\n",
              "$50000.00            -            $55000.00      22\n",
              "$5800.00            -            $6000.00        21\n",
              "$40.00            -            $100.00           21\n",
              "$75000.00            -            $90000.00      17\n",
              "$130000.00            -            $150000.00    16\n",
              "$28.00            -            $30.00            10\n",
              "$65000.00            -            $70000.00       6\n",
              "$35.00            -            $37.00             5\n",
              "$30.00            -            $40.00             5\n",
              "$80000.00            -            $100000.00      3\n",
              "$100000.00            -            $115000.00     3\n",
              "$70000.00            -            $70000.00       2\n",
              "$60000.00            -            $65000.00       2\n",
              "$68.00            -            $70.00             1\n",
              "$65500.00            -            $78500.00       1\n",
              "$75000.00            -            $93000.00       1\n",
              "$55000.00            -            $70000.00       1\n",
              "$80000.00            -            $102000.00      1\n",
              "$50.00            -            $50.00             1\n",
              "$40.00            -            $45.00             1\n",
              "$80000.00            -            $95000.00       1\n",
              "$38.00            -            $43.00             1\n",
              "$85000.00            -            $95000.00       1\n",
              "$120000.00            -            $150000.00     1\n",
              "$90000.00            -            $135000.00      1\n",
              "CA$135.00            -            CA$145.00       1\n",
              "Name: count, dtype: int64"
            ]
          },
          "execution_count": 25,
          "metadata": {},
          "output_type": "execute_result"
        }
      ],
      "source": [
        "df.value_counts('salary')"
      ]
    },
    {
      "cell_type": "code",
      "execution_count": 26,
      "metadata": {},
      "outputs": [
        {
          "data": {
            "text/plain": [
              "title               0\n",
              "company             0\n",
              "description         0\n",
              "onsite_remote       0\n",
              "salary           7525\n",
              "location            0\n",
              "criteria            0\n",
              "posted_date         0\n",
              "link                0\n",
              "dtype: int64"
            ]
          },
          "execution_count": 26,
          "metadata": {},
          "output_type": "execute_result"
        }
      ],
      "source": [
        "df.isnull().sum()"
      ]
    },
    {
      "cell_type": "code",
      "execution_count": 27,
      "metadata": {},
      "outputs": [],
      "source": [
        "df_copy = df.dropna()"
      ]
    },
    {
      "cell_type": "code",
      "execution_count": 28,
      "metadata": {},
      "outputs": [
        {
          "name": "stdout",
          "output_type": "stream",
          "text": [
            "<class 'pandas.core.frame.DataFrame'>\n",
            "Index: 965 entries, 3849 to 8489\n",
            "Data columns (total 9 columns):\n",
            " #   Column         Non-Null Count  Dtype         \n",
            "---  ------         --------------  -----         \n",
            " 0   title          965 non-null    object        \n",
            " 1   company        965 non-null    object        \n",
            " 2   description    965 non-null    object        \n",
            " 3   onsite_remote  965 non-null    object        \n",
            " 4   salary         965 non-null    object        \n",
            " 5   location       965 non-null    object        \n",
            " 6   criteria       965 non-null    object        \n",
            " 7   posted_date    965 non-null    datetime64[ns]\n",
            " 8   link           965 non-null    object        \n",
            "dtypes: datetime64[ns](1), object(8)\n",
            "memory usage: 75.4+ KB\n"
          ]
        }
      ],
      "source": [
        "df_copy.info()"
      ]
    },
    {
      "cell_type": "markdown",
      "metadata": {},
      "source": [
        "## Exploratory Data Analysis (EDA)"
      ]
    },
    {
      "cell_type": "markdown",
      "metadata": {},
      "source": [
        "### Informasi umum pekerjaan sebagai Data Analyst"
      ]
    },
    {
      "cell_type": "markdown",
      "metadata": {},
      "source": [
        "#### Top 10 Perusahaan yang membuka lowongan terbanyak"
      ]
    },
    {
      "cell_type": "code",
      "execution_count": 66,
      "metadata": {},
      "outputs": [
        {
          "data": {
            "application/vnd.plotly.v1+json": {
              "config": {
                "plotlyServerURL": "https://plot.ly"
              },
              "data": [
                {
                  "alignmentgroup": "True",
                  "hovertemplate": "Company=%{y}<br>count=%{x}<br>company_counts=%{text}<extra></extra>",
                  "legendgroup": "Insight Global",
                  "marker": {
                    "color": "#636efa",
                    "pattern": {
                      "shape": ""
                    }
                  },
                  "name": "Insight Global",
                  "offsetgroup": "Insight Global",
                  "orientation": "h",
                  "showlegend": true,
                  "text": [
                    96,
                    96,
                    96,
                    96,
                    96,
                    96,
                    96,
                    96,
                    96,
                    96,
                    96,
                    96,
                    96,
                    96,
                    96,
                    96,
                    96,
                    96,
                    96,
                    96,
                    96,
                    96,
                    96,
                    96,
                    96,
                    96,
                    96,
                    96,
                    96,
                    96,
                    96,
                    96,
                    96,
                    96,
                    96,
                    96,
                    96,
                    96,
                    96,
                    96,
                    96,
                    96,
                    96,
                    96,
                    96,
                    96,
                    96,
                    96,
                    96,
                    96,
                    96,
                    96,
                    96,
                    96,
                    96,
                    96,
                    96,
                    96,
                    96,
                    96,
                    96,
                    96,
                    96,
                    96,
                    96,
                    96,
                    96,
                    96,
                    96,
                    96,
                    96,
                    96,
                    96,
                    96,
                    96,
                    96,
                    96,
                    96,
                    96,
                    96,
                    96,
                    96,
                    96,
                    96,
                    96,
                    96,
                    96,
                    96,
                    96,
                    96,
                    96,
                    96,
                    96,
                    96,
                    96,
                    96
                  ],
                  "textposition": "auto",
                  "type": "bar",
                  "x": [
                    1,
                    1,
                    1,
                    1,
                    1,
                    1,
                    1,
                    1,
                    1,
                    1,
                    1,
                    1,
                    1,
                    1,
                    1,
                    1,
                    1,
                    1,
                    1,
                    1,
                    1,
                    1,
                    1,
                    1,
                    1,
                    1,
                    1,
                    1,
                    1,
                    1,
                    1,
                    1,
                    1,
                    1,
                    1,
                    1,
                    1,
                    1,
                    1,
                    1,
                    1,
                    1,
                    1,
                    1,
                    1,
                    1,
                    1,
                    1,
                    1,
                    1,
                    1,
                    1,
                    1,
                    1,
                    1,
                    1,
                    1,
                    1,
                    1,
                    1,
                    1,
                    1,
                    1,
                    1,
                    1,
                    1,
                    1,
                    1,
                    1,
                    1,
                    1,
                    1,
                    1,
                    1,
                    1,
                    1,
                    1,
                    1,
                    1,
                    1,
                    1,
                    1,
                    1,
                    1,
                    1,
                    1,
                    1,
                    1,
                    1,
                    1,
                    1,
                    1,
                    1,
                    1,
                    1,
                    1
                  ],
                  "xaxis": "x",
                  "y": [
                    "Insight Global",
                    "Insight Global",
                    "Insight Global",
                    "Insight Global",
                    "Insight Global",
                    "Insight Global",
                    "Insight Global",
                    "Insight Global",
                    "Insight Global",
                    "Insight Global",
                    "Insight Global",
                    "Insight Global",
                    "Insight Global",
                    "Insight Global",
                    "Insight Global",
                    "Insight Global",
                    "Insight Global",
                    "Insight Global",
                    "Insight Global",
                    "Insight Global",
                    "Insight Global",
                    "Insight Global",
                    "Insight Global",
                    "Insight Global",
                    "Insight Global",
                    "Insight Global",
                    "Insight Global",
                    "Insight Global",
                    "Insight Global",
                    "Insight Global",
                    "Insight Global",
                    "Insight Global",
                    "Insight Global",
                    "Insight Global",
                    "Insight Global",
                    "Insight Global",
                    "Insight Global",
                    "Insight Global",
                    "Insight Global",
                    "Insight Global",
                    "Insight Global",
                    "Insight Global",
                    "Insight Global",
                    "Insight Global",
                    "Insight Global",
                    "Insight Global",
                    "Insight Global",
                    "Insight Global",
                    "Insight Global",
                    "Insight Global",
                    "Insight Global",
                    "Insight Global",
                    "Insight Global",
                    "Insight Global",
                    "Insight Global",
                    "Insight Global",
                    "Insight Global",
                    "Insight Global",
                    "Insight Global",
                    "Insight Global",
                    "Insight Global",
                    "Insight Global",
                    "Insight Global",
                    "Insight Global",
                    "Insight Global",
                    "Insight Global",
                    "Insight Global",
                    "Insight Global",
                    "Insight Global",
                    "Insight Global",
                    "Insight Global",
                    "Insight Global",
                    "Insight Global",
                    "Insight Global",
                    "Insight Global",
                    "Insight Global",
                    "Insight Global",
                    "Insight Global",
                    "Insight Global",
                    "Insight Global",
                    "Insight Global",
                    "Insight Global",
                    "Insight Global",
                    "Insight Global",
                    "Insight Global",
                    "Insight Global",
                    "Insight Global",
                    "Insight Global",
                    "Insight Global",
                    "Insight Global",
                    "Insight Global",
                    "Insight Global",
                    "Insight Global",
                    "Insight Global",
                    "Insight Global",
                    "Insight Global"
                  ],
                  "yaxis": "y"
                },
                {
                  "alignmentgroup": "True",
                  "hovertemplate": "Company=%{y}<br>count=%{x}<br>company_counts=%{text}<extra></extra>",
                  "legendgroup": "Launch Consulting Group",
                  "marker": {
                    "color": "#EF553B",
                    "pattern": {
                      "shape": ""
                    }
                  },
                  "name": "Launch Consulting Group",
                  "offsetgroup": "Launch Consulting Group",
                  "orientation": "h",
                  "showlegend": true,
                  "text": [
                    38,
                    38,
                    38,
                    38,
                    38,
                    38,
                    38,
                    38,
                    38,
                    38,
                    38,
                    38,
                    38,
                    38,
                    38,
                    38,
                    38,
                    38,
                    38,
                    38,
                    38,
                    38,
                    38,
                    38,
                    38,
                    38,
                    38,
                    38,
                    38,
                    38,
                    38,
                    38,
                    38,
                    38,
                    38,
                    38,
                    38,
                    38
                  ],
                  "textposition": "auto",
                  "type": "bar",
                  "x": [
                    1,
                    1,
                    1,
                    1,
                    1,
                    1,
                    1,
                    1,
                    1,
                    1,
                    1,
                    1,
                    1,
                    1,
                    1,
                    1,
                    1,
                    1,
                    1,
                    1,
                    1,
                    1,
                    1,
                    1,
                    1,
                    1,
                    1,
                    1,
                    1,
                    1,
                    1,
                    1,
                    1,
                    1,
                    1,
                    1,
                    1,
                    1
                  ],
                  "xaxis": "x",
                  "y": [
                    "Launch Consulting Group",
                    "Launch Consulting Group",
                    "Launch Consulting Group",
                    "Launch Consulting Group",
                    "Launch Consulting Group",
                    "Launch Consulting Group",
                    "Launch Consulting Group",
                    "Launch Consulting Group",
                    "Launch Consulting Group",
                    "Launch Consulting Group",
                    "Launch Consulting Group",
                    "Launch Consulting Group",
                    "Launch Consulting Group",
                    "Launch Consulting Group",
                    "Launch Consulting Group",
                    "Launch Consulting Group",
                    "Launch Consulting Group",
                    "Launch Consulting Group",
                    "Launch Consulting Group",
                    "Launch Consulting Group",
                    "Launch Consulting Group",
                    "Launch Consulting Group",
                    "Launch Consulting Group",
                    "Launch Consulting Group",
                    "Launch Consulting Group",
                    "Launch Consulting Group",
                    "Launch Consulting Group",
                    "Launch Consulting Group",
                    "Launch Consulting Group",
                    "Launch Consulting Group",
                    "Launch Consulting Group",
                    "Launch Consulting Group",
                    "Launch Consulting Group",
                    "Launch Consulting Group",
                    "Launch Consulting Group",
                    "Launch Consulting Group",
                    "Launch Consulting Group",
                    "Launch Consulting Group"
                  ],
                  "yaxis": "y"
                },
                {
                  "alignmentgroup": "True",
                  "hovertemplate": "Company=%{y}<br>count=%{x}<br>company_counts=%{text}<extra></extra>",
                  "legendgroup": "London Approach",
                  "marker": {
                    "color": "#00cc96",
                    "pattern": {
                      "shape": ""
                    }
                  },
                  "name": "London Approach",
                  "offsetgroup": "London Approach",
                  "orientation": "h",
                  "showlegend": true,
                  "text": [
                    38,
                    38,
                    38,
                    38,
                    38,
                    38,
                    38,
                    38,
                    38,
                    38,
                    38,
                    38,
                    38,
                    38,
                    38,
                    38,
                    38,
                    38,
                    38,
                    38,
                    38,
                    38,
                    38,
                    38,
                    38,
                    38,
                    38,
                    38,
                    38,
                    38,
                    38,
                    38,
                    38,
                    38,
                    38,
                    38,
                    38,
                    38
                  ],
                  "textposition": "auto",
                  "type": "bar",
                  "x": [
                    1,
                    1,
                    1,
                    1,
                    1,
                    1,
                    1,
                    1,
                    1,
                    1,
                    1,
                    1,
                    1,
                    1,
                    1,
                    1,
                    1,
                    1,
                    1,
                    1,
                    1,
                    1,
                    1,
                    1,
                    1,
                    1,
                    1,
                    1,
                    1,
                    1,
                    1,
                    1,
                    1,
                    1,
                    1,
                    1,
                    1,
                    1
                  ],
                  "xaxis": "x",
                  "y": [
                    "London Approach",
                    "London Approach",
                    "London Approach",
                    "London Approach",
                    "London Approach",
                    "London Approach",
                    "London Approach",
                    "London Approach",
                    "London Approach",
                    "London Approach",
                    "London Approach",
                    "London Approach",
                    "London Approach",
                    "London Approach",
                    "London Approach",
                    "London Approach",
                    "London Approach",
                    "London Approach",
                    "London Approach",
                    "London Approach",
                    "London Approach",
                    "London Approach",
                    "London Approach",
                    "London Approach",
                    "London Approach",
                    "London Approach",
                    "London Approach",
                    "London Approach",
                    "London Approach",
                    "London Approach",
                    "London Approach",
                    "London Approach",
                    "London Approach",
                    "London Approach",
                    "London Approach",
                    "London Approach",
                    "London Approach",
                    "London Approach"
                  ],
                  "yaxis": "y"
                },
                {
                  "alignmentgroup": "True",
                  "hovertemplate": "Company=%{y}<br>count=%{x}<br>company_counts=%{text}<extra></extra>",
                  "legendgroup": "CRG",
                  "marker": {
                    "color": "#ab63fa",
                    "pattern": {
                      "shape": ""
                    }
                  },
                  "name": "CRG",
                  "offsetgroup": "CRG",
                  "orientation": "h",
                  "showlegend": true,
                  "text": [
                    37,
                    37,
                    37,
                    37,
                    37,
                    37,
                    37,
                    37,
                    37,
                    37,
                    37,
                    37,
                    37,
                    37,
                    37,
                    37,
                    37,
                    37,
                    37,
                    37,
                    37,
                    37,
                    37,
                    37,
                    37,
                    37,
                    37,
                    37,
                    37,
                    37,
                    37,
                    37,
                    37,
                    37,
                    37,
                    37,
                    37
                  ],
                  "textposition": "auto",
                  "type": "bar",
                  "x": [
                    1,
                    1,
                    1,
                    1,
                    1,
                    1,
                    1,
                    1,
                    1,
                    1,
                    1,
                    1,
                    1,
                    1,
                    1,
                    1,
                    1,
                    1,
                    1,
                    1,
                    1,
                    1,
                    1,
                    1,
                    1,
                    1,
                    1,
                    1,
                    1,
                    1,
                    1,
                    1,
                    1,
                    1,
                    1,
                    1,
                    1
                  ],
                  "xaxis": "x",
                  "y": [
                    "CRG",
                    "CRG",
                    "CRG",
                    "CRG",
                    "CRG",
                    "CRG",
                    "CRG",
                    "CRG",
                    "CRG",
                    "CRG",
                    "CRG",
                    "CRG",
                    "CRG",
                    "CRG",
                    "CRG",
                    "CRG",
                    "CRG",
                    "CRG",
                    "CRG",
                    "CRG",
                    "CRG",
                    "CRG",
                    "CRG",
                    "CRG",
                    "CRG",
                    "CRG",
                    "CRG",
                    "CRG",
                    "CRG",
                    "CRG",
                    "CRG",
                    "CRG",
                    "CRG",
                    "CRG",
                    "CRG",
                    "CRG",
                    "CRG"
                  ],
                  "yaxis": "y"
                },
                {
                  "alignmentgroup": "True",
                  "hovertemplate": "Company=%{y}<br>count=%{x}<br>company_counts=%{text}<extra></extra>",
                  "legendgroup": "Synergy Interactive",
                  "marker": {
                    "color": "#FFA15A",
                    "pattern": {
                      "shape": ""
                    }
                  },
                  "name": "Synergy Interactive",
                  "offsetgroup": "Synergy Interactive",
                  "orientation": "h",
                  "showlegend": true,
                  "text": [
                    37,
                    37,
                    37,
                    37,
                    37,
                    37,
                    37,
                    37,
                    37,
                    37,
                    37,
                    37,
                    37,
                    37,
                    37,
                    37,
                    37,
                    37,
                    37,
                    37,
                    37,
                    37,
                    37,
                    37,
                    37,
                    37,
                    37,
                    37,
                    37,
                    37,
                    37,
                    37,
                    37,
                    37,
                    37,
                    37,
                    37
                  ],
                  "textposition": "auto",
                  "type": "bar",
                  "x": [
                    1,
                    1,
                    1,
                    1,
                    1,
                    1,
                    1,
                    1,
                    1,
                    1,
                    1,
                    1,
                    1,
                    1,
                    1,
                    1,
                    1,
                    1,
                    1,
                    1,
                    1,
                    1,
                    1,
                    1,
                    1,
                    1,
                    1,
                    1,
                    1,
                    1,
                    1,
                    1,
                    1,
                    1,
                    1,
                    1,
                    1
                  ],
                  "xaxis": "x",
                  "y": [
                    "Synergy Interactive",
                    "Synergy Interactive",
                    "Synergy Interactive",
                    "Synergy Interactive",
                    "Synergy Interactive",
                    "Synergy Interactive",
                    "Synergy Interactive",
                    "Synergy Interactive",
                    "Synergy Interactive",
                    "Synergy Interactive",
                    "Synergy Interactive",
                    "Synergy Interactive",
                    "Synergy Interactive",
                    "Synergy Interactive",
                    "Synergy Interactive",
                    "Synergy Interactive",
                    "Synergy Interactive",
                    "Synergy Interactive",
                    "Synergy Interactive",
                    "Synergy Interactive",
                    "Synergy Interactive",
                    "Synergy Interactive",
                    "Synergy Interactive",
                    "Synergy Interactive",
                    "Synergy Interactive",
                    "Synergy Interactive",
                    "Synergy Interactive",
                    "Synergy Interactive",
                    "Synergy Interactive",
                    "Synergy Interactive",
                    "Synergy Interactive",
                    "Synergy Interactive",
                    "Synergy Interactive",
                    "Synergy Interactive",
                    "Synergy Interactive",
                    "Synergy Interactive",
                    "Synergy Interactive"
                  ],
                  "yaxis": "y"
                },
                {
                  "alignmentgroup": "True",
                  "hovertemplate": "Company=%{y}<br>count=%{x}<br>company_counts=%{text}<extra></extra>",
                  "legendgroup": "EdgeLink",
                  "marker": {
                    "color": "#19d3f3",
                    "pattern": {
                      "shape": ""
                    }
                  },
                  "name": "EdgeLink",
                  "offsetgroup": "EdgeLink",
                  "orientation": "h",
                  "showlegend": true,
                  "text": [
                    37,
                    37,
                    37,
                    37,
                    37,
                    37,
                    37,
                    37,
                    37,
                    37,
                    37,
                    37,
                    37,
                    37,
                    37,
                    37,
                    37,
                    37,
                    37,
                    37,
                    37,
                    37,
                    37,
                    37,
                    37,
                    37,
                    37,
                    37,
                    37,
                    37,
                    37,
                    37,
                    37,
                    37,
                    37,
                    37,
                    37
                  ],
                  "textposition": "auto",
                  "type": "bar",
                  "x": [
                    1,
                    1,
                    1,
                    1,
                    1,
                    1,
                    1,
                    1,
                    1,
                    1,
                    1,
                    1,
                    1,
                    1,
                    1,
                    1,
                    1,
                    1,
                    1,
                    1,
                    1,
                    1,
                    1,
                    1,
                    1,
                    1,
                    1,
                    1,
                    1,
                    1,
                    1,
                    1,
                    1,
                    1,
                    1,
                    1,
                    1
                  ],
                  "xaxis": "x",
                  "y": [
                    "EdgeLink",
                    "EdgeLink",
                    "EdgeLink",
                    "EdgeLink",
                    "EdgeLink",
                    "EdgeLink",
                    "EdgeLink",
                    "EdgeLink",
                    "EdgeLink",
                    "EdgeLink",
                    "EdgeLink",
                    "EdgeLink",
                    "EdgeLink",
                    "EdgeLink",
                    "EdgeLink",
                    "EdgeLink",
                    "EdgeLink",
                    "EdgeLink",
                    "EdgeLink",
                    "EdgeLink",
                    "EdgeLink",
                    "EdgeLink",
                    "EdgeLink",
                    "EdgeLink",
                    "EdgeLink",
                    "EdgeLink",
                    "EdgeLink",
                    "EdgeLink",
                    "EdgeLink",
                    "EdgeLink",
                    "EdgeLink",
                    "EdgeLink",
                    "EdgeLink",
                    "EdgeLink",
                    "EdgeLink",
                    "EdgeLink",
                    "EdgeLink"
                  ],
                  "yaxis": "y"
                },
                {
                  "alignmentgroup": "True",
                  "hovertemplate": "Company=%{y}<br>count=%{x}<br>company_counts=%{text}<extra></extra>",
                  "legendgroup": "Adfire Health",
                  "marker": {
                    "color": "#FF6692",
                    "pattern": {
                      "shape": ""
                    }
                  },
                  "name": "Adfire Health",
                  "offsetgroup": "Adfire Health",
                  "orientation": "h",
                  "showlegend": true,
                  "text": [
                    36,
                    36,
                    36,
                    36,
                    36,
                    36,
                    36,
                    36,
                    36,
                    36,
                    36,
                    36,
                    36,
                    36,
                    36,
                    36,
                    36,
                    36,
                    36,
                    36,
                    36,
                    36,
                    36,
                    36,
                    36,
                    36,
                    36,
                    36,
                    36,
                    36,
                    36,
                    36,
                    36,
                    36,
                    36,
                    36
                  ],
                  "textposition": "auto",
                  "type": "bar",
                  "x": [
                    1,
                    1,
                    1,
                    1,
                    1,
                    1,
                    1,
                    1,
                    1,
                    1,
                    1,
                    1,
                    1,
                    1,
                    1,
                    1,
                    1,
                    1,
                    1,
                    1,
                    1,
                    1,
                    1,
                    1,
                    1,
                    1,
                    1,
                    1,
                    1,
                    1,
                    1,
                    1,
                    1,
                    1,
                    1,
                    1
                  ],
                  "xaxis": "x",
                  "y": [
                    "Adfire Health",
                    "Adfire Health",
                    "Adfire Health",
                    "Adfire Health",
                    "Adfire Health",
                    "Adfire Health",
                    "Adfire Health",
                    "Adfire Health",
                    "Adfire Health",
                    "Adfire Health",
                    "Adfire Health",
                    "Adfire Health",
                    "Adfire Health",
                    "Adfire Health",
                    "Adfire Health",
                    "Adfire Health",
                    "Adfire Health",
                    "Adfire Health",
                    "Adfire Health",
                    "Adfire Health",
                    "Adfire Health",
                    "Adfire Health",
                    "Adfire Health",
                    "Adfire Health",
                    "Adfire Health",
                    "Adfire Health",
                    "Adfire Health",
                    "Adfire Health",
                    "Adfire Health",
                    "Adfire Health",
                    "Adfire Health",
                    "Adfire Health",
                    "Adfire Health",
                    "Adfire Health",
                    "Adfire Health",
                    "Adfire Health"
                  ],
                  "yaxis": "y"
                },
                {
                  "alignmentgroup": "True",
                  "hovertemplate": "Company=%{y}<br>count=%{x}<br>company_counts=%{text}<extra></extra>",
                  "legendgroup": "Gridiron IT",
                  "marker": {
                    "color": "#B6E880",
                    "pattern": {
                      "shape": ""
                    }
                  },
                  "name": "Gridiron IT",
                  "offsetgroup": "Gridiron IT",
                  "orientation": "h",
                  "showlegend": true,
                  "text": [
                    36,
                    36,
                    36,
                    36,
                    36,
                    36,
                    36,
                    36,
                    36,
                    36,
                    36,
                    36,
                    36,
                    36,
                    36,
                    36,
                    36,
                    36,
                    36,
                    36,
                    36,
                    36,
                    36,
                    36,
                    36,
                    36,
                    36,
                    36,
                    36,
                    36,
                    36,
                    36,
                    36,
                    36,
                    36,
                    36
                  ],
                  "textposition": "auto",
                  "type": "bar",
                  "x": [
                    1,
                    1,
                    1,
                    1,
                    1,
                    1,
                    1,
                    1,
                    1,
                    1,
                    1,
                    1,
                    1,
                    1,
                    1,
                    1,
                    1,
                    1,
                    1,
                    1,
                    1,
                    1,
                    1,
                    1,
                    1,
                    1,
                    1,
                    1,
                    1,
                    1,
                    1,
                    1,
                    1,
                    1,
                    1,
                    1
                  ],
                  "xaxis": "x",
                  "y": [
                    "Gridiron IT",
                    "Gridiron IT",
                    "Gridiron IT",
                    "Gridiron IT",
                    "Gridiron IT",
                    "Gridiron IT",
                    "Gridiron IT",
                    "Gridiron IT",
                    "Gridiron IT",
                    "Gridiron IT",
                    "Gridiron IT",
                    "Gridiron IT",
                    "Gridiron IT",
                    "Gridiron IT",
                    "Gridiron IT",
                    "Gridiron IT",
                    "Gridiron IT",
                    "Gridiron IT",
                    "Gridiron IT",
                    "Gridiron IT",
                    "Gridiron IT",
                    "Gridiron IT",
                    "Gridiron IT",
                    "Gridiron IT",
                    "Gridiron IT",
                    "Gridiron IT",
                    "Gridiron IT",
                    "Gridiron IT",
                    "Gridiron IT",
                    "Gridiron IT",
                    "Gridiron IT",
                    "Gridiron IT",
                    "Gridiron IT",
                    "Gridiron IT",
                    "Gridiron IT",
                    "Gridiron IT"
                  ],
                  "yaxis": "y"
                },
                {
                  "alignmentgroup": "True",
                  "hovertemplate": "Company=%{y}<br>count=%{x}<br>company_counts=%{text}<extra></extra>",
                  "legendgroup": "Cypress HCM",
                  "marker": {
                    "color": "#FF97FF",
                    "pattern": {
                      "shape": ""
                    }
                  },
                  "name": "Cypress HCM",
                  "offsetgroup": "Cypress HCM",
                  "orientation": "h",
                  "showlegend": true,
                  "text": [
                    36,
                    36,
                    36,
                    36,
                    36,
                    36,
                    36,
                    36,
                    36,
                    36,
                    36,
                    36,
                    36,
                    36,
                    36,
                    36,
                    36,
                    36,
                    36,
                    36,
                    36,
                    36,
                    36,
                    36,
                    36,
                    36,
                    36,
                    36,
                    36,
                    36,
                    36,
                    36,
                    36,
                    36,
                    36,
                    36
                  ],
                  "textposition": "auto",
                  "type": "bar",
                  "x": [
                    1,
                    1,
                    1,
                    1,
                    1,
                    1,
                    1,
                    1,
                    1,
                    1,
                    1,
                    1,
                    1,
                    1,
                    1,
                    1,
                    1,
                    1,
                    1,
                    1,
                    1,
                    1,
                    1,
                    1,
                    1,
                    1,
                    1,
                    1,
                    1,
                    1,
                    1,
                    1,
                    1,
                    1,
                    1,
                    1
                  ],
                  "xaxis": "x",
                  "y": [
                    "Cypress HCM",
                    "Cypress HCM",
                    "Cypress HCM",
                    "Cypress HCM",
                    "Cypress HCM",
                    "Cypress HCM",
                    "Cypress HCM",
                    "Cypress HCM",
                    "Cypress HCM",
                    "Cypress HCM",
                    "Cypress HCM",
                    "Cypress HCM",
                    "Cypress HCM",
                    "Cypress HCM",
                    "Cypress HCM",
                    "Cypress HCM",
                    "Cypress HCM",
                    "Cypress HCM",
                    "Cypress HCM",
                    "Cypress HCM",
                    "Cypress HCM",
                    "Cypress HCM",
                    "Cypress HCM",
                    "Cypress HCM",
                    "Cypress HCM",
                    "Cypress HCM",
                    "Cypress HCM",
                    "Cypress HCM",
                    "Cypress HCM",
                    "Cypress HCM",
                    "Cypress HCM",
                    "Cypress HCM",
                    "Cypress HCM",
                    "Cypress HCM",
                    "Cypress HCM",
                    "Cypress HCM"
                  ],
                  "yaxis": "y"
                },
                {
                  "alignmentgroup": "True",
                  "hovertemplate": "Company=%{y}<br>count=%{x}<br>company_counts=%{text}<extra></extra>",
                  "legendgroup": "Mainz Brady Group",
                  "marker": {
                    "color": "#FECB52",
                    "pattern": {
                      "shape": ""
                    }
                  },
                  "name": "Mainz Brady Group",
                  "offsetgroup": "Mainz Brady Group",
                  "orientation": "h",
                  "showlegend": true,
                  "text": [
                    36,
                    36,
                    36,
                    36,
                    36,
                    36,
                    36,
                    36,
                    36,
                    36,
                    36,
                    36,
                    36,
                    36,
                    36,
                    36,
                    36,
                    36,
                    36,
                    36,
                    36,
                    36,
                    36,
                    36,
                    36,
                    36,
                    36,
                    36,
                    36,
                    36,
                    36,
                    36,
                    36,
                    36,
                    36,
                    36
                  ],
                  "textposition": "auto",
                  "type": "bar",
                  "x": [
                    1,
                    1,
                    1,
                    1,
                    1,
                    1,
                    1,
                    1,
                    1,
                    1,
                    1,
                    1,
                    1,
                    1,
                    1,
                    1,
                    1,
                    1,
                    1,
                    1,
                    1,
                    1,
                    1,
                    1,
                    1,
                    1,
                    1,
                    1,
                    1,
                    1,
                    1,
                    1,
                    1,
                    1,
                    1,
                    1
                  ],
                  "xaxis": "x",
                  "y": [
                    "Mainz Brady Group",
                    "Mainz Brady Group",
                    "Mainz Brady Group",
                    "Mainz Brady Group",
                    "Mainz Brady Group",
                    "Mainz Brady Group",
                    "Mainz Brady Group",
                    "Mainz Brady Group",
                    "Mainz Brady Group",
                    "Mainz Brady Group",
                    "Mainz Brady Group",
                    "Mainz Brady Group",
                    "Mainz Brady Group",
                    "Mainz Brady Group",
                    "Mainz Brady Group",
                    "Mainz Brady Group",
                    "Mainz Brady Group",
                    "Mainz Brady Group",
                    "Mainz Brady Group",
                    "Mainz Brady Group",
                    "Mainz Brady Group",
                    "Mainz Brady Group",
                    "Mainz Brady Group",
                    "Mainz Brady Group",
                    "Mainz Brady Group",
                    "Mainz Brady Group",
                    "Mainz Brady Group",
                    "Mainz Brady Group",
                    "Mainz Brady Group",
                    "Mainz Brady Group",
                    "Mainz Brady Group",
                    "Mainz Brady Group",
                    "Mainz Brady Group",
                    "Mainz Brady Group",
                    "Mainz Brady Group",
                    "Mainz Brady Group"
                  ],
                  "yaxis": "y"
                }
              ],
              "layout": {
                "barmode": "relative",
                "height": 600,
                "legend": {
                  "title": {
                    "text": "Company"
                  },
                  "tracegroupgap": 0
                },
                "template": {
                  "data": {
                    "bar": [
                      {
                        "error_x": {
                          "color": "#2a3f5f"
                        },
                        "error_y": {
                          "color": "#2a3f5f"
                        },
                        "marker": {
                          "line": {
                            "color": "#E5ECF6",
                            "width": 0.5
                          },
                          "pattern": {
                            "fillmode": "overlay",
                            "size": 10,
                            "solidity": 0.2
                          }
                        },
                        "type": "bar"
                      }
                    ],
                    "barpolar": [
                      {
                        "marker": {
                          "line": {
                            "color": "#E5ECF6",
                            "width": 0.5
                          },
                          "pattern": {
                            "fillmode": "overlay",
                            "size": 10,
                            "solidity": 0.2
                          }
                        },
                        "type": "barpolar"
                      }
                    ],
                    "carpet": [
                      {
                        "aaxis": {
                          "endlinecolor": "#2a3f5f",
                          "gridcolor": "white",
                          "linecolor": "white",
                          "minorgridcolor": "white",
                          "startlinecolor": "#2a3f5f"
                        },
                        "baxis": {
                          "endlinecolor": "#2a3f5f",
                          "gridcolor": "white",
                          "linecolor": "white",
                          "minorgridcolor": "white",
                          "startlinecolor": "#2a3f5f"
                        },
                        "type": "carpet"
                      }
                    ],
                    "choropleth": [
                      {
                        "colorbar": {
                          "outlinewidth": 0,
                          "ticks": ""
                        },
                        "type": "choropleth"
                      }
                    ],
                    "contour": [
                      {
                        "colorbar": {
                          "outlinewidth": 0,
                          "ticks": ""
                        },
                        "colorscale": [
                          [
                            0,
                            "#0d0887"
                          ],
                          [
                            0.1111111111111111,
                            "#46039f"
                          ],
                          [
                            0.2222222222222222,
                            "#7201a8"
                          ],
                          [
                            0.3333333333333333,
                            "#9c179e"
                          ],
                          [
                            0.4444444444444444,
                            "#bd3786"
                          ],
                          [
                            0.5555555555555556,
                            "#d8576b"
                          ],
                          [
                            0.6666666666666666,
                            "#ed7953"
                          ],
                          [
                            0.7777777777777778,
                            "#fb9f3a"
                          ],
                          [
                            0.8888888888888888,
                            "#fdca26"
                          ],
                          [
                            1,
                            "#f0f921"
                          ]
                        ],
                        "type": "contour"
                      }
                    ],
                    "contourcarpet": [
                      {
                        "colorbar": {
                          "outlinewidth": 0,
                          "ticks": ""
                        },
                        "type": "contourcarpet"
                      }
                    ],
                    "heatmap": [
                      {
                        "colorbar": {
                          "outlinewidth": 0,
                          "ticks": ""
                        },
                        "colorscale": [
                          [
                            0,
                            "#0d0887"
                          ],
                          [
                            0.1111111111111111,
                            "#46039f"
                          ],
                          [
                            0.2222222222222222,
                            "#7201a8"
                          ],
                          [
                            0.3333333333333333,
                            "#9c179e"
                          ],
                          [
                            0.4444444444444444,
                            "#bd3786"
                          ],
                          [
                            0.5555555555555556,
                            "#d8576b"
                          ],
                          [
                            0.6666666666666666,
                            "#ed7953"
                          ],
                          [
                            0.7777777777777778,
                            "#fb9f3a"
                          ],
                          [
                            0.8888888888888888,
                            "#fdca26"
                          ],
                          [
                            1,
                            "#f0f921"
                          ]
                        ],
                        "type": "heatmap"
                      }
                    ],
                    "heatmapgl": [
                      {
                        "colorbar": {
                          "outlinewidth": 0,
                          "ticks": ""
                        },
                        "colorscale": [
                          [
                            0,
                            "#0d0887"
                          ],
                          [
                            0.1111111111111111,
                            "#46039f"
                          ],
                          [
                            0.2222222222222222,
                            "#7201a8"
                          ],
                          [
                            0.3333333333333333,
                            "#9c179e"
                          ],
                          [
                            0.4444444444444444,
                            "#bd3786"
                          ],
                          [
                            0.5555555555555556,
                            "#d8576b"
                          ],
                          [
                            0.6666666666666666,
                            "#ed7953"
                          ],
                          [
                            0.7777777777777778,
                            "#fb9f3a"
                          ],
                          [
                            0.8888888888888888,
                            "#fdca26"
                          ],
                          [
                            1,
                            "#f0f921"
                          ]
                        ],
                        "type": "heatmapgl"
                      }
                    ],
                    "histogram": [
                      {
                        "marker": {
                          "pattern": {
                            "fillmode": "overlay",
                            "size": 10,
                            "solidity": 0.2
                          }
                        },
                        "type": "histogram"
                      }
                    ],
                    "histogram2d": [
                      {
                        "colorbar": {
                          "outlinewidth": 0,
                          "ticks": ""
                        },
                        "colorscale": [
                          [
                            0,
                            "#0d0887"
                          ],
                          [
                            0.1111111111111111,
                            "#46039f"
                          ],
                          [
                            0.2222222222222222,
                            "#7201a8"
                          ],
                          [
                            0.3333333333333333,
                            "#9c179e"
                          ],
                          [
                            0.4444444444444444,
                            "#bd3786"
                          ],
                          [
                            0.5555555555555556,
                            "#d8576b"
                          ],
                          [
                            0.6666666666666666,
                            "#ed7953"
                          ],
                          [
                            0.7777777777777778,
                            "#fb9f3a"
                          ],
                          [
                            0.8888888888888888,
                            "#fdca26"
                          ],
                          [
                            1,
                            "#f0f921"
                          ]
                        ],
                        "type": "histogram2d"
                      }
                    ],
                    "histogram2dcontour": [
                      {
                        "colorbar": {
                          "outlinewidth": 0,
                          "ticks": ""
                        },
                        "colorscale": [
                          [
                            0,
                            "#0d0887"
                          ],
                          [
                            0.1111111111111111,
                            "#46039f"
                          ],
                          [
                            0.2222222222222222,
                            "#7201a8"
                          ],
                          [
                            0.3333333333333333,
                            "#9c179e"
                          ],
                          [
                            0.4444444444444444,
                            "#bd3786"
                          ],
                          [
                            0.5555555555555556,
                            "#d8576b"
                          ],
                          [
                            0.6666666666666666,
                            "#ed7953"
                          ],
                          [
                            0.7777777777777778,
                            "#fb9f3a"
                          ],
                          [
                            0.8888888888888888,
                            "#fdca26"
                          ],
                          [
                            1,
                            "#f0f921"
                          ]
                        ],
                        "type": "histogram2dcontour"
                      }
                    ],
                    "mesh3d": [
                      {
                        "colorbar": {
                          "outlinewidth": 0,
                          "ticks": ""
                        },
                        "type": "mesh3d"
                      }
                    ],
                    "parcoords": [
                      {
                        "line": {
                          "colorbar": {
                            "outlinewidth": 0,
                            "ticks": ""
                          }
                        },
                        "type": "parcoords"
                      }
                    ],
                    "pie": [
                      {
                        "automargin": true,
                        "type": "pie"
                      }
                    ],
                    "scatter": [
                      {
                        "fillpattern": {
                          "fillmode": "overlay",
                          "size": 10,
                          "solidity": 0.2
                        },
                        "type": "scatter"
                      }
                    ],
                    "scatter3d": [
                      {
                        "line": {
                          "colorbar": {
                            "outlinewidth": 0,
                            "ticks": ""
                          }
                        },
                        "marker": {
                          "colorbar": {
                            "outlinewidth": 0,
                            "ticks": ""
                          }
                        },
                        "type": "scatter3d"
                      }
                    ],
                    "scattercarpet": [
                      {
                        "marker": {
                          "colorbar": {
                            "outlinewidth": 0,
                            "ticks": ""
                          }
                        },
                        "type": "scattercarpet"
                      }
                    ],
                    "scattergeo": [
                      {
                        "marker": {
                          "colorbar": {
                            "outlinewidth": 0,
                            "ticks": ""
                          }
                        },
                        "type": "scattergeo"
                      }
                    ],
                    "scattergl": [
                      {
                        "marker": {
                          "colorbar": {
                            "outlinewidth": 0,
                            "ticks": ""
                          }
                        },
                        "type": "scattergl"
                      }
                    ],
                    "scattermapbox": [
                      {
                        "marker": {
                          "colorbar": {
                            "outlinewidth": 0,
                            "ticks": ""
                          }
                        },
                        "type": "scattermapbox"
                      }
                    ],
                    "scatterpolar": [
                      {
                        "marker": {
                          "colorbar": {
                            "outlinewidth": 0,
                            "ticks": ""
                          }
                        },
                        "type": "scatterpolar"
                      }
                    ],
                    "scatterpolargl": [
                      {
                        "marker": {
                          "colorbar": {
                            "outlinewidth": 0,
                            "ticks": ""
                          }
                        },
                        "type": "scatterpolargl"
                      }
                    ],
                    "scatterternary": [
                      {
                        "marker": {
                          "colorbar": {
                            "outlinewidth": 0,
                            "ticks": ""
                          }
                        },
                        "type": "scatterternary"
                      }
                    ],
                    "surface": [
                      {
                        "colorbar": {
                          "outlinewidth": 0,
                          "ticks": ""
                        },
                        "colorscale": [
                          [
                            0,
                            "#0d0887"
                          ],
                          [
                            0.1111111111111111,
                            "#46039f"
                          ],
                          [
                            0.2222222222222222,
                            "#7201a8"
                          ],
                          [
                            0.3333333333333333,
                            "#9c179e"
                          ],
                          [
                            0.4444444444444444,
                            "#bd3786"
                          ],
                          [
                            0.5555555555555556,
                            "#d8576b"
                          ],
                          [
                            0.6666666666666666,
                            "#ed7953"
                          ],
                          [
                            0.7777777777777778,
                            "#fb9f3a"
                          ],
                          [
                            0.8888888888888888,
                            "#fdca26"
                          ],
                          [
                            1,
                            "#f0f921"
                          ]
                        ],
                        "type": "surface"
                      }
                    ],
                    "table": [
                      {
                        "cells": {
                          "fill": {
                            "color": "#EBF0F8"
                          },
                          "line": {
                            "color": "white"
                          }
                        },
                        "header": {
                          "fill": {
                            "color": "#C8D4E3"
                          },
                          "line": {
                            "color": "white"
                          }
                        },
                        "type": "table"
                      }
                    ]
                  },
                  "layout": {
                    "annotationdefaults": {
                      "arrowcolor": "#2a3f5f",
                      "arrowhead": 0,
                      "arrowwidth": 1
                    },
                    "autotypenumbers": "strict",
                    "coloraxis": {
                      "colorbar": {
                        "outlinewidth": 0,
                        "ticks": ""
                      }
                    },
                    "colorscale": {
                      "diverging": [
                        [
                          0,
                          "#8e0152"
                        ],
                        [
                          0.1,
                          "#c51b7d"
                        ],
                        [
                          0.2,
                          "#de77ae"
                        ],
                        [
                          0.3,
                          "#f1b6da"
                        ],
                        [
                          0.4,
                          "#fde0ef"
                        ],
                        [
                          0.5,
                          "#f7f7f7"
                        ],
                        [
                          0.6,
                          "#e6f5d0"
                        ],
                        [
                          0.7,
                          "#b8e186"
                        ],
                        [
                          0.8,
                          "#7fbc41"
                        ],
                        [
                          0.9,
                          "#4d9221"
                        ],
                        [
                          1,
                          "#276419"
                        ]
                      ],
                      "sequential": [
                        [
                          0,
                          "#0d0887"
                        ],
                        [
                          0.1111111111111111,
                          "#46039f"
                        ],
                        [
                          0.2222222222222222,
                          "#7201a8"
                        ],
                        [
                          0.3333333333333333,
                          "#9c179e"
                        ],
                        [
                          0.4444444444444444,
                          "#bd3786"
                        ],
                        [
                          0.5555555555555556,
                          "#d8576b"
                        ],
                        [
                          0.6666666666666666,
                          "#ed7953"
                        ],
                        [
                          0.7777777777777778,
                          "#fb9f3a"
                        ],
                        [
                          0.8888888888888888,
                          "#fdca26"
                        ],
                        [
                          1,
                          "#f0f921"
                        ]
                      ],
                      "sequentialminus": [
                        [
                          0,
                          "#0d0887"
                        ],
                        [
                          0.1111111111111111,
                          "#46039f"
                        ],
                        [
                          0.2222222222222222,
                          "#7201a8"
                        ],
                        [
                          0.3333333333333333,
                          "#9c179e"
                        ],
                        [
                          0.4444444444444444,
                          "#bd3786"
                        ],
                        [
                          0.5555555555555556,
                          "#d8576b"
                        ],
                        [
                          0.6666666666666666,
                          "#ed7953"
                        ],
                        [
                          0.7777777777777778,
                          "#fb9f3a"
                        ],
                        [
                          0.8888888888888888,
                          "#fdca26"
                        ],
                        [
                          1,
                          "#f0f921"
                        ]
                      ]
                    },
                    "colorway": [
                      "#636efa",
                      "#EF553B",
                      "#00cc96",
                      "#ab63fa",
                      "#FFA15A",
                      "#19d3f3",
                      "#FF6692",
                      "#B6E880",
                      "#FF97FF",
                      "#FECB52"
                    ],
                    "font": {
                      "color": "#2a3f5f"
                    },
                    "geo": {
                      "bgcolor": "white",
                      "lakecolor": "white",
                      "landcolor": "#E5ECF6",
                      "showlakes": true,
                      "showland": true,
                      "subunitcolor": "white"
                    },
                    "hoverlabel": {
                      "align": "left"
                    },
                    "hovermode": "closest",
                    "mapbox": {
                      "style": "light"
                    },
                    "paper_bgcolor": "white",
                    "plot_bgcolor": "#E5ECF6",
                    "polar": {
                      "angularaxis": {
                        "gridcolor": "white",
                        "linecolor": "white",
                        "ticks": ""
                      },
                      "bgcolor": "#E5ECF6",
                      "radialaxis": {
                        "gridcolor": "white",
                        "linecolor": "white",
                        "ticks": ""
                      }
                    },
                    "scene": {
                      "xaxis": {
                        "backgroundcolor": "#E5ECF6",
                        "gridcolor": "white",
                        "gridwidth": 2,
                        "linecolor": "white",
                        "showbackground": true,
                        "ticks": "",
                        "zerolinecolor": "white"
                      },
                      "yaxis": {
                        "backgroundcolor": "#E5ECF6",
                        "gridcolor": "white",
                        "gridwidth": 2,
                        "linecolor": "white",
                        "showbackground": true,
                        "ticks": "",
                        "zerolinecolor": "white"
                      },
                      "zaxis": {
                        "backgroundcolor": "#E5ECF6",
                        "gridcolor": "white",
                        "gridwidth": 2,
                        "linecolor": "white",
                        "showbackground": true,
                        "ticks": "",
                        "zerolinecolor": "white"
                      }
                    },
                    "shapedefaults": {
                      "line": {
                        "color": "#2a3f5f"
                      }
                    },
                    "ternary": {
                      "aaxis": {
                        "gridcolor": "white",
                        "linecolor": "white",
                        "ticks": ""
                      },
                      "baxis": {
                        "gridcolor": "white",
                        "linecolor": "white",
                        "ticks": ""
                      },
                      "bgcolor": "#E5ECF6",
                      "caxis": {
                        "gridcolor": "white",
                        "linecolor": "white",
                        "ticks": ""
                      }
                    },
                    "title": {
                      "x": 0.05
                    },
                    "xaxis": {
                      "automargin": true,
                      "gridcolor": "white",
                      "linecolor": "white",
                      "ticks": "",
                      "title": {
                        "standoff": 15
                      },
                      "zerolinecolor": "white",
                      "zerolinewidth": 2
                    },
                    "yaxis": {
                      "automargin": true,
                      "gridcolor": "white",
                      "linecolor": "white",
                      "ticks": "",
                      "title": {
                        "standoff": 15
                      },
                      "zerolinecolor": "white",
                      "zerolinewidth": 2
                    }
                  }
                },
                "title": {
                  "text": "Top 10 Company yang membuka lowongan data analyst"
                },
                "xaxis": {
                  "anchor": "y",
                  "domain": [
                    0,
                    1
                  ],
                  "title": {
                    "text": "count"
                  }
                },
                "yaxis": {
                  "anchor": "x",
                  "categoryarray": [
                    "Mainz Brady Group",
                    "Cypress HCM",
                    "Gridiron IT",
                    "Adfire Health",
                    "EdgeLink",
                    "Synergy Interactive",
                    "CRG",
                    "London Approach",
                    "Launch Consulting Group",
                    "Insight Global"
                  ],
                  "categoryorder": "array",
                  "domain": [
                    0,
                    1
                  ],
                  "title": {
                    "text": "Company"
                  }
                }
              }
            }
          },
          "metadata": {},
          "output_type": "display_data"
        }
      ],
      "source": [
        "import plotly.express as px\n",
        "\n",
        "# Menghitung jumlah lowongan pekerjaan untuk setiap perusahaan\n",
        "company_counts = df_copy['company'].value_counts()\n",
        "\n",
        "# Mengambil top 10 perusahaan\n",
        "top_companies = company_counts.nlargest(10).index\n",
        "\n",
        "# Filter DataFrame hanya untuk top 10 perusahaan\n",
        "df_top_companies = df_copy[df_copy['company'].isin(top_companies)]\n",
        "\n",
        "# Menambahkan kolom baru 'company_counts' yang berisi jumlah lowongan perusahaan\n",
        "df_top_companies['company_counts'] = df_top_companies['company'].map(company_counts)\n",
        "\n",
        "# Mengurutkan DataFrame berdasarkan jumlah lowongan secara menurun\n",
        "df_top_companies = df_top_companies.sort_values(by='company_counts', ascending=False)\n",
        "\n",
        "# Membuat bar plot interaktif dengan efek hover\n",
        "fig = px.bar(df_top_companies, y='company', color='company', title='Top 10 Company yang membuka lowongan data analyst',\n",
        "             labels={'company': 'Company'},\n",
        "             height=600,\n",
        "             text='company_counts')  # Menambahkan parameter text untuk menampilkan jumlah perusahaan pada hover\n",
        "\n",
        "# Menampilkan plot\n",
        "fig.show()\n"
      ]
    },
    {
      "cell_type": "markdown",
      "metadata": {},
      "source": [
        "Dari visualisasi di atas didapatkan bahwa perusahaan yang membuka lowongan pekerjaan terbanyak sebagai `Data Analyst` adalah `Insight Global` dengan jumlah `96`, sedangkan perusahaan yang lain rata-rata berjumlah `37`. "
      ]
    },
    {
      "cell_type": "markdown",
      "metadata": {},
      "source": [
        "#### Top 10 Daerah/Kota yang membuka lowongan terbanyak"
      ]
    },
    {
      "cell_type": "code",
      "execution_count": 71,
      "metadata": {},
      "outputs": [
        {
          "data": {
            "application/vnd.plotly.v1+json": {
              "config": {
                "plotlyServerURL": "https://plot.ly"
              },
              "data": [
                {
                  "domain": {
                    "x": [
                      0,
                      1
                    ],
                    "y": [
                      0,
                      1
                    ]
                  },
                  "hovertemplate": "Lokasi=%{label}<br>Jumlah Lowongan=%{value}<extra></extra>",
                  "labels": [
                    "United States",
                    "New York City Metropolitan Area",
                    "Franklin, TN",
                    "Greensboro--Winston-Salem--High Point Area",
                    "District of Columbia, United States",
                    "Denver Metropolitan Area",
                    "Canada",
                    "Richfield, MN",
                    "Greater Sacramento",
                    "Conshohocken, PA"
                  ],
                  "legendgroup": "",
                  "name": "",
                  "showlegend": true,
                  "type": "pie",
                  "values": [
                    349,
                    143,
                    38,
                    37,
                    36,
                    36,
                    35,
                    35,
                    35,
                    35
                  ]
                }
              ],
              "layout": {
                "height": 600,
                "legend": {
                  "tracegroupgap": 0
                },
                "template": {
                  "data": {
                    "bar": [
                      {
                        "error_x": {
                          "color": "#2a3f5f"
                        },
                        "error_y": {
                          "color": "#2a3f5f"
                        },
                        "marker": {
                          "line": {
                            "color": "#E5ECF6",
                            "width": 0.5
                          },
                          "pattern": {
                            "fillmode": "overlay",
                            "size": 10,
                            "solidity": 0.2
                          }
                        },
                        "type": "bar"
                      }
                    ],
                    "barpolar": [
                      {
                        "marker": {
                          "line": {
                            "color": "#E5ECF6",
                            "width": 0.5
                          },
                          "pattern": {
                            "fillmode": "overlay",
                            "size": 10,
                            "solidity": 0.2
                          }
                        },
                        "type": "barpolar"
                      }
                    ],
                    "carpet": [
                      {
                        "aaxis": {
                          "endlinecolor": "#2a3f5f",
                          "gridcolor": "white",
                          "linecolor": "white",
                          "minorgridcolor": "white",
                          "startlinecolor": "#2a3f5f"
                        },
                        "baxis": {
                          "endlinecolor": "#2a3f5f",
                          "gridcolor": "white",
                          "linecolor": "white",
                          "minorgridcolor": "white",
                          "startlinecolor": "#2a3f5f"
                        },
                        "type": "carpet"
                      }
                    ],
                    "choropleth": [
                      {
                        "colorbar": {
                          "outlinewidth": 0,
                          "ticks": ""
                        },
                        "type": "choropleth"
                      }
                    ],
                    "contour": [
                      {
                        "colorbar": {
                          "outlinewidth": 0,
                          "ticks": ""
                        },
                        "colorscale": [
                          [
                            0,
                            "#0d0887"
                          ],
                          [
                            0.1111111111111111,
                            "#46039f"
                          ],
                          [
                            0.2222222222222222,
                            "#7201a8"
                          ],
                          [
                            0.3333333333333333,
                            "#9c179e"
                          ],
                          [
                            0.4444444444444444,
                            "#bd3786"
                          ],
                          [
                            0.5555555555555556,
                            "#d8576b"
                          ],
                          [
                            0.6666666666666666,
                            "#ed7953"
                          ],
                          [
                            0.7777777777777778,
                            "#fb9f3a"
                          ],
                          [
                            0.8888888888888888,
                            "#fdca26"
                          ],
                          [
                            1,
                            "#f0f921"
                          ]
                        ],
                        "type": "contour"
                      }
                    ],
                    "contourcarpet": [
                      {
                        "colorbar": {
                          "outlinewidth": 0,
                          "ticks": ""
                        },
                        "type": "contourcarpet"
                      }
                    ],
                    "heatmap": [
                      {
                        "colorbar": {
                          "outlinewidth": 0,
                          "ticks": ""
                        },
                        "colorscale": [
                          [
                            0,
                            "#0d0887"
                          ],
                          [
                            0.1111111111111111,
                            "#46039f"
                          ],
                          [
                            0.2222222222222222,
                            "#7201a8"
                          ],
                          [
                            0.3333333333333333,
                            "#9c179e"
                          ],
                          [
                            0.4444444444444444,
                            "#bd3786"
                          ],
                          [
                            0.5555555555555556,
                            "#d8576b"
                          ],
                          [
                            0.6666666666666666,
                            "#ed7953"
                          ],
                          [
                            0.7777777777777778,
                            "#fb9f3a"
                          ],
                          [
                            0.8888888888888888,
                            "#fdca26"
                          ],
                          [
                            1,
                            "#f0f921"
                          ]
                        ],
                        "type": "heatmap"
                      }
                    ],
                    "heatmapgl": [
                      {
                        "colorbar": {
                          "outlinewidth": 0,
                          "ticks": ""
                        },
                        "colorscale": [
                          [
                            0,
                            "#0d0887"
                          ],
                          [
                            0.1111111111111111,
                            "#46039f"
                          ],
                          [
                            0.2222222222222222,
                            "#7201a8"
                          ],
                          [
                            0.3333333333333333,
                            "#9c179e"
                          ],
                          [
                            0.4444444444444444,
                            "#bd3786"
                          ],
                          [
                            0.5555555555555556,
                            "#d8576b"
                          ],
                          [
                            0.6666666666666666,
                            "#ed7953"
                          ],
                          [
                            0.7777777777777778,
                            "#fb9f3a"
                          ],
                          [
                            0.8888888888888888,
                            "#fdca26"
                          ],
                          [
                            1,
                            "#f0f921"
                          ]
                        ],
                        "type": "heatmapgl"
                      }
                    ],
                    "histogram": [
                      {
                        "marker": {
                          "pattern": {
                            "fillmode": "overlay",
                            "size": 10,
                            "solidity": 0.2
                          }
                        },
                        "type": "histogram"
                      }
                    ],
                    "histogram2d": [
                      {
                        "colorbar": {
                          "outlinewidth": 0,
                          "ticks": ""
                        },
                        "colorscale": [
                          [
                            0,
                            "#0d0887"
                          ],
                          [
                            0.1111111111111111,
                            "#46039f"
                          ],
                          [
                            0.2222222222222222,
                            "#7201a8"
                          ],
                          [
                            0.3333333333333333,
                            "#9c179e"
                          ],
                          [
                            0.4444444444444444,
                            "#bd3786"
                          ],
                          [
                            0.5555555555555556,
                            "#d8576b"
                          ],
                          [
                            0.6666666666666666,
                            "#ed7953"
                          ],
                          [
                            0.7777777777777778,
                            "#fb9f3a"
                          ],
                          [
                            0.8888888888888888,
                            "#fdca26"
                          ],
                          [
                            1,
                            "#f0f921"
                          ]
                        ],
                        "type": "histogram2d"
                      }
                    ],
                    "histogram2dcontour": [
                      {
                        "colorbar": {
                          "outlinewidth": 0,
                          "ticks": ""
                        },
                        "colorscale": [
                          [
                            0,
                            "#0d0887"
                          ],
                          [
                            0.1111111111111111,
                            "#46039f"
                          ],
                          [
                            0.2222222222222222,
                            "#7201a8"
                          ],
                          [
                            0.3333333333333333,
                            "#9c179e"
                          ],
                          [
                            0.4444444444444444,
                            "#bd3786"
                          ],
                          [
                            0.5555555555555556,
                            "#d8576b"
                          ],
                          [
                            0.6666666666666666,
                            "#ed7953"
                          ],
                          [
                            0.7777777777777778,
                            "#fb9f3a"
                          ],
                          [
                            0.8888888888888888,
                            "#fdca26"
                          ],
                          [
                            1,
                            "#f0f921"
                          ]
                        ],
                        "type": "histogram2dcontour"
                      }
                    ],
                    "mesh3d": [
                      {
                        "colorbar": {
                          "outlinewidth": 0,
                          "ticks": ""
                        },
                        "type": "mesh3d"
                      }
                    ],
                    "parcoords": [
                      {
                        "line": {
                          "colorbar": {
                            "outlinewidth": 0,
                            "ticks": ""
                          }
                        },
                        "type": "parcoords"
                      }
                    ],
                    "pie": [
                      {
                        "automargin": true,
                        "type": "pie"
                      }
                    ],
                    "scatter": [
                      {
                        "fillpattern": {
                          "fillmode": "overlay",
                          "size": 10,
                          "solidity": 0.2
                        },
                        "type": "scatter"
                      }
                    ],
                    "scatter3d": [
                      {
                        "line": {
                          "colorbar": {
                            "outlinewidth": 0,
                            "ticks": ""
                          }
                        },
                        "marker": {
                          "colorbar": {
                            "outlinewidth": 0,
                            "ticks": ""
                          }
                        },
                        "type": "scatter3d"
                      }
                    ],
                    "scattercarpet": [
                      {
                        "marker": {
                          "colorbar": {
                            "outlinewidth": 0,
                            "ticks": ""
                          }
                        },
                        "type": "scattercarpet"
                      }
                    ],
                    "scattergeo": [
                      {
                        "marker": {
                          "colorbar": {
                            "outlinewidth": 0,
                            "ticks": ""
                          }
                        },
                        "type": "scattergeo"
                      }
                    ],
                    "scattergl": [
                      {
                        "marker": {
                          "colorbar": {
                            "outlinewidth": 0,
                            "ticks": ""
                          }
                        },
                        "type": "scattergl"
                      }
                    ],
                    "scattermapbox": [
                      {
                        "marker": {
                          "colorbar": {
                            "outlinewidth": 0,
                            "ticks": ""
                          }
                        },
                        "type": "scattermapbox"
                      }
                    ],
                    "scatterpolar": [
                      {
                        "marker": {
                          "colorbar": {
                            "outlinewidth": 0,
                            "ticks": ""
                          }
                        },
                        "type": "scatterpolar"
                      }
                    ],
                    "scatterpolargl": [
                      {
                        "marker": {
                          "colorbar": {
                            "outlinewidth": 0,
                            "ticks": ""
                          }
                        },
                        "type": "scatterpolargl"
                      }
                    ],
                    "scatterternary": [
                      {
                        "marker": {
                          "colorbar": {
                            "outlinewidth": 0,
                            "ticks": ""
                          }
                        },
                        "type": "scatterternary"
                      }
                    ],
                    "surface": [
                      {
                        "colorbar": {
                          "outlinewidth": 0,
                          "ticks": ""
                        },
                        "colorscale": [
                          [
                            0,
                            "#0d0887"
                          ],
                          [
                            0.1111111111111111,
                            "#46039f"
                          ],
                          [
                            0.2222222222222222,
                            "#7201a8"
                          ],
                          [
                            0.3333333333333333,
                            "#9c179e"
                          ],
                          [
                            0.4444444444444444,
                            "#bd3786"
                          ],
                          [
                            0.5555555555555556,
                            "#d8576b"
                          ],
                          [
                            0.6666666666666666,
                            "#ed7953"
                          ],
                          [
                            0.7777777777777778,
                            "#fb9f3a"
                          ],
                          [
                            0.8888888888888888,
                            "#fdca26"
                          ],
                          [
                            1,
                            "#f0f921"
                          ]
                        ],
                        "type": "surface"
                      }
                    ],
                    "table": [
                      {
                        "cells": {
                          "fill": {
                            "color": "#EBF0F8"
                          },
                          "line": {
                            "color": "white"
                          }
                        },
                        "header": {
                          "fill": {
                            "color": "#C8D4E3"
                          },
                          "line": {
                            "color": "white"
                          }
                        },
                        "type": "table"
                      }
                    ]
                  },
                  "layout": {
                    "annotationdefaults": {
                      "arrowcolor": "#2a3f5f",
                      "arrowhead": 0,
                      "arrowwidth": 1
                    },
                    "autotypenumbers": "strict",
                    "coloraxis": {
                      "colorbar": {
                        "outlinewidth": 0,
                        "ticks": ""
                      }
                    },
                    "colorscale": {
                      "diverging": [
                        [
                          0,
                          "#8e0152"
                        ],
                        [
                          0.1,
                          "#c51b7d"
                        ],
                        [
                          0.2,
                          "#de77ae"
                        ],
                        [
                          0.3,
                          "#f1b6da"
                        ],
                        [
                          0.4,
                          "#fde0ef"
                        ],
                        [
                          0.5,
                          "#f7f7f7"
                        ],
                        [
                          0.6,
                          "#e6f5d0"
                        ],
                        [
                          0.7,
                          "#b8e186"
                        ],
                        [
                          0.8,
                          "#7fbc41"
                        ],
                        [
                          0.9,
                          "#4d9221"
                        ],
                        [
                          1,
                          "#276419"
                        ]
                      ],
                      "sequential": [
                        [
                          0,
                          "#0d0887"
                        ],
                        [
                          0.1111111111111111,
                          "#46039f"
                        ],
                        [
                          0.2222222222222222,
                          "#7201a8"
                        ],
                        [
                          0.3333333333333333,
                          "#9c179e"
                        ],
                        [
                          0.4444444444444444,
                          "#bd3786"
                        ],
                        [
                          0.5555555555555556,
                          "#d8576b"
                        ],
                        [
                          0.6666666666666666,
                          "#ed7953"
                        ],
                        [
                          0.7777777777777778,
                          "#fb9f3a"
                        ],
                        [
                          0.8888888888888888,
                          "#fdca26"
                        ],
                        [
                          1,
                          "#f0f921"
                        ]
                      ],
                      "sequentialminus": [
                        [
                          0,
                          "#0d0887"
                        ],
                        [
                          0.1111111111111111,
                          "#46039f"
                        ],
                        [
                          0.2222222222222222,
                          "#7201a8"
                        ],
                        [
                          0.3333333333333333,
                          "#9c179e"
                        ],
                        [
                          0.4444444444444444,
                          "#bd3786"
                        ],
                        [
                          0.5555555555555556,
                          "#d8576b"
                        ],
                        [
                          0.6666666666666666,
                          "#ed7953"
                        ],
                        [
                          0.7777777777777778,
                          "#fb9f3a"
                        ],
                        [
                          0.8888888888888888,
                          "#fdca26"
                        ],
                        [
                          1,
                          "#f0f921"
                        ]
                      ]
                    },
                    "colorway": [
                      "#636efa",
                      "#EF553B",
                      "#00cc96",
                      "#ab63fa",
                      "#FFA15A",
                      "#19d3f3",
                      "#FF6692",
                      "#B6E880",
                      "#FF97FF",
                      "#FECB52"
                    ],
                    "font": {
                      "color": "#2a3f5f"
                    },
                    "geo": {
                      "bgcolor": "white",
                      "lakecolor": "white",
                      "landcolor": "#E5ECF6",
                      "showlakes": true,
                      "showland": true,
                      "subunitcolor": "white"
                    },
                    "hoverlabel": {
                      "align": "left"
                    },
                    "hovermode": "closest",
                    "mapbox": {
                      "style": "light"
                    },
                    "paper_bgcolor": "white",
                    "plot_bgcolor": "#E5ECF6",
                    "polar": {
                      "angularaxis": {
                        "gridcolor": "white",
                        "linecolor": "white",
                        "ticks": ""
                      },
                      "bgcolor": "#E5ECF6",
                      "radialaxis": {
                        "gridcolor": "white",
                        "linecolor": "white",
                        "ticks": ""
                      }
                    },
                    "scene": {
                      "xaxis": {
                        "backgroundcolor": "#E5ECF6",
                        "gridcolor": "white",
                        "gridwidth": 2,
                        "linecolor": "white",
                        "showbackground": true,
                        "ticks": "",
                        "zerolinecolor": "white"
                      },
                      "yaxis": {
                        "backgroundcolor": "#E5ECF6",
                        "gridcolor": "white",
                        "gridwidth": 2,
                        "linecolor": "white",
                        "showbackground": true,
                        "ticks": "",
                        "zerolinecolor": "white"
                      },
                      "zaxis": {
                        "backgroundcolor": "#E5ECF6",
                        "gridcolor": "white",
                        "gridwidth": 2,
                        "linecolor": "white",
                        "showbackground": true,
                        "ticks": "",
                        "zerolinecolor": "white"
                      }
                    },
                    "shapedefaults": {
                      "line": {
                        "color": "#2a3f5f"
                      }
                    },
                    "ternary": {
                      "aaxis": {
                        "gridcolor": "white",
                        "linecolor": "white",
                        "ticks": ""
                      },
                      "baxis": {
                        "gridcolor": "white",
                        "linecolor": "white",
                        "ticks": ""
                      },
                      "bgcolor": "#E5ECF6",
                      "caxis": {
                        "gridcolor": "white",
                        "linecolor": "white",
                        "ticks": ""
                      }
                    },
                    "title": {
                      "x": 0.05
                    },
                    "xaxis": {
                      "automargin": true,
                      "gridcolor": "white",
                      "linecolor": "white",
                      "ticks": "",
                      "title": {
                        "standoff": 15
                      },
                      "zerolinecolor": "white",
                      "zerolinewidth": 2
                    },
                    "yaxis": {
                      "automargin": true,
                      "gridcolor": "white",
                      "linecolor": "white",
                      "ticks": "",
                      "title": {
                        "standoff": 15
                      },
                      "zerolinecolor": "white",
                      "zerolinewidth": 2
                    }
                  }
                },
                "title": {
                  "text": "Persentase Jumlah Lowongan Data Analyst Berdasarkan Lokasi"
                }
              }
            }
          },
          "metadata": {},
          "output_type": "display_data"
        }
      ],
      "source": [
        "import plotly.express as px\n",
        "import pandas as pd\n",
        "\n",
        "# Menghitung jumlah lowongan pekerjaan untuk setiap lokasi\n",
        "location_counts = df_copy['location'].value_counts()\n",
        "\n",
        "# Membuat DataFrame baru dari value_counts\n",
        "df_location_counts = pd.DataFrame({'Lokasi': location_counts.index, 'Jumlah Lowongan': location_counts.values})\n",
        "\n",
        "# Mengambil top 10 lokasi berdasarkan jumlah lowongan\n",
        "top_10_locations = df_location_counts.nlargest(10, 'Jumlah Lowongan')\n",
        "\n",
        "# Membuat pie chart untuk top 10 lokasi dengan jumlah lowongan terbanyak\n",
        "fig = px.pie(top_10_locations, names='Lokasi', values='Jumlah Lowongan',\n",
        "             title='Persentase Jumlah Lowongan Data Analyst Berdasarkan Lokasi',\n",
        "             labels={'Lokasi': 'Lokasi', 'Jumlah Lowongan': 'Jumlah Lowongan'},\n",
        "             height=600,\n",
        "             )\n",
        "\n",
        "# Menampilkan plot\n",
        "fig.show()\n"
      ]
    },
    {
      "cell_type": "markdown",
      "metadata": {},
      "source": [
        "Lowongan pekerjaan sebagai `Data Analyst` banyak dibuka di negara `Amerika Serikat`, jika dilihat dari data lebih dari `50%`."
      ]
    },
    {
      "cell_type": "markdown",
      "metadata": {},
      "source": [
        "#### Type job Data Analyst"
      ]
    },
    {
      "cell_type": "code",
      "execution_count": 87,
      "metadata": {},
      "outputs": [
        {
          "data": {
            "application/vnd.plotly.v1+json": {
              "config": {
                "plotlyServerURL": "https://plot.ly"
              },
              "data": [
                {
                  "customdata": [
                    [
                      459
                    ],
                    [
                      393
                    ],
                    [
                      113
                    ]
                  ],
                  "domain": {
                    "x": [
                      0,
                      1
                    ],
                    "y": [
                      0,
                      1
                    ]
                  },
                  "hovertemplate": "job_type=%{label}<br>Jumlah=%{customdata[0]}<extra></extra>",
                  "labels": [
                    "remote",
                    "hybrid",
                    "onsite"
                  ],
                  "legendgroup": "",
                  "name": "",
                  "showlegend": true,
                  "type": "pie",
                  "values": [
                    459,
                    393,
                    113
                  ]
                }
              ],
              "layout": {
                "legend": {
                  "tracegroupgap": 0
                },
                "piecolorway": [
                  "rgb(141,211,199)",
                  "rgb(255,255,179)",
                  "rgb(190,186,218)",
                  "rgb(251,128,114)",
                  "rgb(128,177,211)",
                  "rgb(253,180,98)",
                  "rgb(179,222,105)",
                  "rgb(252,205,229)",
                  "rgb(217,217,217)",
                  "rgb(188,128,189)",
                  "rgb(204,235,197)",
                  "rgb(255,237,111)"
                ],
                "template": {
                  "data": {
                    "bar": [
                      {
                        "error_x": {
                          "color": "#2a3f5f"
                        },
                        "error_y": {
                          "color": "#2a3f5f"
                        },
                        "marker": {
                          "line": {
                            "color": "#E5ECF6",
                            "width": 0.5
                          },
                          "pattern": {
                            "fillmode": "overlay",
                            "size": 10,
                            "solidity": 0.2
                          }
                        },
                        "type": "bar"
                      }
                    ],
                    "barpolar": [
                      {
                        "marker": {
                          "line": {
                            "color": "#E5ECF6",
                            "width": 0.5
                          },
                          "pattern": {
                            "fillmode": "overlay",
                            "size": 10,
                            "solidity": 0.2
                          }
                        },
                        "type": "barpolar"
                      }
                    ],
                    "carpet": [
                      {
                        "aaxis": {
                          "endlinecolor": "#2a3f5f",
                          "gridcolor": "white",
                          "linecolor": "white",
                          "minorgridcolor": "white",
                          "startlinecolor": "#2a3f5f"
                        },
                        "baxis": {
                          "endlinecolor": "#2a3f5f",
                          "gridcolor": "white",
                          "linecolor": "white",
                          "minorgridcolor": "white",
                          "startlinecolor": "#2a3f5f"
                        },
                        "type": "carpet"
                      }
                    ],
                    "choropleth": [
                      {
                        "colorbar": {
                          "outlinewidth": 0,
                          "ticks": ""
                        },
                        "type": "choropleth"
                      }
                    ],
                    "contour": [
                      {
                        "colorbar": {
                          "outlinewidth": 0,
                          "ticks": ""
                        },
                        "colorscale": [
                          [
                            0,
                            "#0d0887"
                          ],
                          [
                            0.1111111111111111,
                            "#46039f"
                          ],
                          [
                            0.2222222222222222,
                            "#7201a8"
                          ],
                          [
                            0.3333333333333333,
                            "#9c179e"
                          ],
                          [
                            0.4444444444444444,
                            "#bd3786"
                          ],
                          [
                            0.5555555555555556,
                            "#d8576b"
                          ],
                          [
                            0.6666666666666666,
                            "#ed7953"
                          ],
                          [
                            0.7777777777777778,
                            "#fb9f3a"
                          ],
                          [
                            0.8888888888888888,
                            "#fdca26"
                          ],
                          [
                            1,
                            "#f0f921"
                          ]
                        ],
                        "type": "contour"
                      }
                    ],
                    "contourcarpet": [
                      {
                        "colorbar": {
                          "outlinewidth": 0,
                          "ticks": ""
                        },
                        "type": "contourcarpet"
                      }
                    ],
                    "heatmap": [
                      {
                        "colorbar": {
                          "outlinewidth": 0,
                          "ticks": ""
                        },
                        "colorscale": [
                          [
                            0,
                            "#0d0887"
                          ],
                          [
                            0.1111111111111111,
                            "#46039f"
                          ],
                          [
                            0.2222222222222222,
                            "#7201a8"
                          ],
                          [
                            0.3333333333333333,
                            "#9c179e"
                          ],
                          [
                            0.4444444444444444,
                            "#bd3786"
                          ],
                          [
                            0.5555555555555556,
                            "#d8576b"
                          ],
                          [
                            0.6666666666666666,
                            "#ed7953"
                          ],
                          [
                            0.7777777777777778,
                            "#fb9f3a"
                          ],
                          [
                            0.8888888888888888,
                            "#fdca26"
                          ],
                          [
                            1,
                            "#f0f921"
                          ]
                        ],
                        "type": "heatmap"
                      }
                    ],
                    "heatmapgl": [
                      {
                        "colorbar": {
                          "outlinewidth": 0,
                          "ticks": ""
                        },
                        "colorscale": [
                          [
                            0,
                            "#0d0887"
                          ],
                          [
                            0.1111111111111111,
                            "#46039f"
                          ],
                          [
                            0.2222222222222222,
                            "#7201a8"
                          ],
                          [
                            0.3333333333333333,
                            "#9c179e"
                          ],
                          [
                            0.4444444444444444,
                            "#bd3786"
                          ],
                          [
                            0.5555555555555556,
                            "#d8576b"
                          ],
                          [
                            0.6666666666666666,
                            "#ed7953"
                          ],
                          [
                            0.7777777777777778,
                            "#fb9f3a"
                          ],
                          [
                            0.8888888888888888,
                            "#fdca26"
                          ],
                          [
                            1,
                            "#f0f921"
                          ]
                        ],
                        "type": "heatmapgl"
                      }
                    ],
                    "histogram": [
                      {
                        "marker": {
                          "pattern": {
                            "fillmode": "overlay",
                            "size": 10,
                            "solidity": 0.2
                          }
                        },
                        "type": "histogram"
                      }
                    ],
                    "histogram2d": [
                      {
                        "colorbar": {
                          "outlinewidth": 0,
                          "ticks": ""
                        },
                        "colorscale": [
                          [
                            0,
                            "#0d0887"
                          ],
                          [
                            0.1111111111111111,
                            "#46039f"
                          ],
                          [
                            0.2222222222222222,
                            "#7201a8"
                          ],
                          [
                            0.3333333333333333,
                            "#9c179e"
                          ],
                          [
                            0.4444444444444444,
                            "#bd3786"
                          ],
                          [
                            0.5555555555555556,
                            "#d8576b"
                          ],
                          [
                            0.6666666666666666,
                            "#ed7953"
                          ],
                          [
                            0.7777777777777778,
                            "#fb9f3a"
                          ],
                          [
                            0.8888888888888888,
                            "#fdca26"
                          ],
                          [
                            1,
                            "#f0f921"
                          ]
                        ],
                        "type": "histogram2d"
                      }
                    ],
                    "histogram2dcontour": [
                      {
                        "colorbar": {
                          "outlinewidth": 0,
                          "ticks": ""
                        },
                        "colorscale": [
                          [
                            0,
                            "#0d0887"
                          ],
                          [
                            0.1111111111111111,
                            "#46039f"
                          ],
                          [
                            0.2222222222222222,
                            "#7201a8"
                          ],
                          [
                            0.3333333333333333,
                            "#9c179e"
                          ],
                          [
                            0.4444444444444444,
                            "#bd3786"
                          ],
                          [
                            0.5555555555555556,
                            "#d8576b"
                          ],
                          [
                            0.6666666666666666,
                            "#ed7953"
                          ],
                          [
                            0.7777777777777778,
                            "#fb9f3a"
                          ],
                          [
                            0.8888888888888888,
                            "#fdca26"
                          ],
                          [
                            1,
                            "#f0f921"
                          ]
                        ],
                        "type": "histogram2dcontour"
                      }
                    ],
                    "mesh3d": [
                      {
                        "colorbar": {
                          "outlinewidth": 0,
                          "ticks": ""
                        },
                        "type": "mesh3d"
                      }
                    ],
                    "parcoords": [
                      {
                        "line": {
                          "colorbar": {
                            "outlinewidth": 0,
                            "ticks": ""
                          }
                        },
                        "type": "parcoords"
                      }
                    ],
                    "pie": [
                      {
                        "automargin": true,
                        "type": "pie"
                      }
                    ],
                    "scatter": [
                      {
                        "fillpattern": {
                          "fillmode": "overlay",
                          "size": 10,
                          "solidity": 0.2
                        },
                        "type": "scatter"
                      }
                    ],
                    "scatter3d": [
                      {
                        "line": {
                          "colorbar": {
                            "outlinewidth": 0,
                            "ticks": ""
                          }
                        },
                        "marker": {
                          "colorbar": {
                            "outlinewidth": 0,
                            "ticks": ""
                          }
                        },
                        "type": "scatter3d"
                      }
                    ],
                    "scattercarpet": [
                      {
                        "marker": {
                          "colorbar": {
                            "outlinewidth": 0,
                            "ticks": ""
                          }
                        },
                        "type": "scattercarpet"
                      }
                    ],
                    "scattergeo": [
                      {
                        "marker": {
                          "colorbar": {
                            "outlinewidth": 0,
                            "ticks": ""
                          }
                        },
                        "type": "scattergeo"
                      }
                    ],
                    "scattergl": [
                      {
                        "marker": {
                          "colorbar": {
                            "outlinewidth": 0,
                            "ticks": ""
                          }
                        },
                        "type": "scattergl"
                      }
                    ],
                    "scattermapbox": [
                      {
                        "marker": {
                          "colorbar": {
                            "outlinewidth": 0,
                            "ticks": ""
                          }
                        },
                        "type": "scattermapbox"
                      }
                    ],
                    "scatterpolar": [
                      {
                        "marker": {
                          "colorbar": {
                            "outlinewidth": 0,
                            "ticks": ""
                          }
                        },
                        "type": "scatterpolar"
                      }
                    ],
                    "scatterpolargl": [
                      {
                        "marker": {
                          "colorbar": {
                            "outlinewidth": 0,
                            "ticks": ""
                          }
                        },
                        "type": "scatterpolargl"
                      }
                    ],
                    "scatterternary": [
                      {
                        "marker": {
                          "colorbar": {
                            "outlinewidth": 0,
                            "ticks": ""
                          }
                        },
                        "type": "scatterternary"
                      }
                    ],
                    "surface": [
                      {
                        "colorbar": {
                          "outlinewidth": 0,
                          "ticks": ""
                        },
                        "colorscale": [
                          [
                            0,
                            "#0d0887"
                          ],
                          [
                            0.1111111111111111,
                            "#46039f"
                          ],
                          [
                            0.2222222222222222,
                            "#7201a8"
                          ],
                          [
                            0.3333333333333333,
                            "#9c179e"
                          ],
                          [
                            0.4444444444444444,
                            "#bd3786"
                          ],
                          [
                            0.5555555555555556,
                            "#d8576b"
                          ],
                          [
                            0.6666666666666666,
                            "#ed7953"
                          ],
                          [
                            0.7777777777777778,
                            "#fb9f3a"
                          ],
                          [
                            0.8888888888888888,
                            "#fdca26"
                          ],
                          [
                            1,
                            "#f0f921"
                          ]
                        ],
                        "type": "surface"
                      }
                    ],
                    "table": [
                      {
                        "cells": {
                          "fill": {
                            "color": "#EBF0F8"
                          },
                          "line": {
                            "color": "white"
                          }
                        },
                        "header": {
                          "fill": {
                            "color": "#C8D4E3"
                          },
                          "line": {
                            "color": "white"
                          }
                        },
                        "type": "table"
                      }
                    ]
                  },
                  "layout": {
                    "annotationdefaults": {
                      "arrowcolor": "#2a3f5f",
                      "arrowhead": 0,
                      "arrowwidth": 1
                    },
                    "autotypenumbers": "strict",
                    "coloraxis": {
                      "colorbar": {
                        "outlinewidth": 0,
                        "ticks": ""
                      }
                    },
                    "colorscale": {
                      "diverging": [
                        [
                          0,
                          "#8e0152"
                        ],
                        [
                          0.1,
                          "#c51b7d"
                        ],
                        [
                          0.2,
                          "#de77ae"
                        ],
                        [
                          0.3,
                          "#f1b6da"
                        ],
                        [
                          0.4,
                          "#fde0ef"
                        ],
                        [
                          0.5,
                          "#f7f7f7"
                        ],
                        [
                          0.6,
                          "#e6f5d0"
                        ],
                        [
                          0.7,
                          "#b8e186"
                        ],
                        [
                          0.8,
                          "#7fbc41"
                        ],
                        [
                          0.9,
                          "#4d9221"
                        ],
                        [
                          1,
                          "#276419"
                        ]
                      ],
                      "sequential": [
                        [
                          0,
                          "#0d0887"
                        ],
                        [
                          0.1111111111111111,
                          "#46039f"
                        ],
                        [
                          0.2222222222222222,
                          "#7201a8"
                        ],
                        [
                          0.3333333333333333,
                          "#9c179e"
                        ],
                        [
                          0.4444444444444444,
                          "#bd3786"
                        ],
                        [
                          0.5555555555555556,
                          "#d8576b"
                        ],
                        [
                          0.6666666666666666,
                          "#ed7953"
                        ],
                        [
                          0.7777777777777778,
                          "#fb9f3a"
                        ],
                        [
                          0.8888888888888888,
                          "#fdca26"
                        ],
                        [
                          1,
                          "#f0f921"
                        ]
                      ],
                      "sequentialminus": [
                        [
                          0,
                          "#0d0887"
                        ],
                        [
                          0.1111111111111111,
                          "#46039f"
                        ],
                        [
                          0.2222222222222222,
                          "#7201a8"
                        ],
                        [
                          0.3333333333333333,
                          "#9c179e"
                        ],
                        [
                          0.4444444444444444,
                          "#bd3786"
                        ],
                        [
                          0.5555555555555556,
                          "#d8576b"
                        ],
                        [
                          0.6666666666666666,
                          "#ed7953"
                        ],
                        [
                          0.7777777777777778,
                          "#fb9f3a"
                        ],
                        [
                          0.8888888888888888,
                          "#fdca26"
                        ],
                        [
                          1,
                          "#f0f921"
                        ]
                      ]
                    },
                    "colorway": [
                      "#636efa",
                      "#EF553B",
                      "#00cc96",
                      "#ab63fa",
                      "#FFA15A",
                      "#19d3f3",
                      "#FF6692",
                      "#B6E880",
                      "#FF97FF",
                      "#FECB52"
                    ],
                    "font": {
                      "color": "#2a3f5f"
                    },
                    "geo": {
                      "bgcolor": "white",
                      "lakecolor": "white",
                      "landcolor": "#E5ECF6",
                      "showlakes": true,
                      "showland": true,
                      "subunitcolor": "white"
                    },
                    "hoverlabel": {
                      "align": "left"
                    },
                    "hovermode": "closest",
                    "mapbox": {
                      "style": "light"
                    },
                    "paper_bgcolor": "white",
                    "plot_bgcolor": "#E5ECF6",
                    "polar": {
                      "angularaxis": {
                        "gridcolor": "white",
                        "linecolor": "white",
                        "ticks": ""
                      },
                      "bgcolor": "#E5ECF6",
                      "radialaxis": {
                        "gridcolor": "white",
                        "linecolor": "white",
                        "ticks": ""
                      }
                    },
                    "scene": {
                      "xaxis": {
                        "backgroundcolor": "#E5ECF6",
                        "gridcolor": "white",
                        "gridwidth": 2,
                        "linecolor": "white",
                        "showbackground": true,
                        "ticks": "",
                        "zerolinecolor": "white"
                      },
                      "yaxis": {
                        "backgroundcolor": "#E5ECF6",
                        "gridcolor": "white",
                        "gridwidth": 2,
                        "linecolor": "white",
                        "showbackground": true,
                        "ticks": "",
                        "zerolinecolor": "white"
                      },
                      "zaxis": {
                        "backgroundcolor": "#E5ECF6",
                        "gridcolor": "white",
                        "gridwidth": 2,
                        "linecolor": "white",
                        "showbackground": true,
                        "ticks": "",
                        "zerolinecolor": "white"
                      }
                    },
                    "shapedefaults": {
                      "line": {
                        "color": "#2a3f5f"
                      }
                    },
                    "ternary": {
                      "aaxis": {
                        "gridcolor": "white",
                        "linecolor": "white",
                        "ticks": ""
                      },
                      "baxis": {
                        "gridcolor": "white",
                        "linecolor": "white",
                        "ticks": ""
                      },
                      "bgcolor": "#E5ECF6",
                      "caxis": {
                        "gridcolor": "white",
                        "linecolor": "white",
                        "ticks": ""
                      }
                    },
                    "title": {
                      "x": 0.05
                    },
                    "xaxis": {
                      "automargin": true,
                      "gridcolor": "white",
                      "linecolor": "white",
                      "ticks": "",
                      "title": {
                        "standoff": 15
                      },
                      "zerolinecolor": "white",
                      "zerolinewidth": 2
                    },
                    "yaxis": {
                      "automargin": true,
                      "gridcolor": "white",
                      "linecolor": "white",
                      "ticks": "",
                      "title": {
                        "standoff": 15
                      },
                      "zerolinecolor": "white",
                      "zerolinewidth": 2
                    }
                  }
                },
                "title": {
                  "text": "Distribusi Onsite vs Remote"
                },
                "width": 600
              }
            }
          },
          "metadata": {},
          "output_type": "display_data"
        }
      ],
      "source": [
        "import plotly.express as px\n",
        "import pandas as pd\n",
        "import warnings\n",
        "# Mengabaikan semua peringatan\n",
        "warnings.filterwarnings(\"ignore\")\n",
        "df_copy.rename(columns={'onsite_remote':'job_type'}, inplace=True)\n",
        "\n",
        "# Hitung jumlah setiap kategori\n",
        "job_type = df_copy['job_type'].value_counts().rename_axis('job_type').reset_index(name='count')\n",
        "\n",
        "# Membuat pie chart dengan efek hover menggunakan plotly\n",
        "fig = px.pie(job_type, values='count', names='job_type',\n",
        "             title='Distribusi Onsite vs Remote',\n",
        "             color_discrete_sequence=px.colors.qualitative.Set3,\n",
        "             hover_data=['count'],\n",
        "             width=600,# Menambahkan efek hover untuk menampilkan jumlah pada hover\n",
        "             labels={'count': 'Jumlah'})  # Mengganti label count menjadi Jumlah\n",
        "\n",
        "# Menampilkan plot\n",
        "fig.show()\n"
      ]
    },
    {
      "cell_type": "markdown",
      "metadata": {},
      "source": [
        "Tipe pekerjaan yang ditawarkan oleh perusahaan lebih banyak `remote` daripada `onsite` maupun `hybrid`."
      ]
    },
    {
      "cell_type": "markdown",
      "metadata": {},
      "source": [
        "#### Posting Lowongan Data Analyst"
      ]
    },
    {
      "cell_type": "code",
      "execution_count": 76,
      "metadata": {},
      "outputs": [
        {
          "data": {
            "application/vnd.plotly.v1+json": {
              "config": {
                "plotlyServerURL": "https://plot.ly"
              },
              "data": [
                {
                  "alignmentgroup": "True",
                  "hovertemplate": "Hari=%{x}<br>Jumlah Posting=%{marker.color}<extra></extra>",
                  "legendgroup": "",
                  "marker": {
                    "color": [
                      286,
                      280,
                      190,
                      124,
                      81,
                      3,
                      1
                    ],
                    "coloraxis": "coloraxis",
                    "pattern": {
                      "shape": ""
                    }
                  },
                  "name": "",
                  "offsetgroup": "",
                  "orientation": "v",
                  "showlegend": false,
                  "text": [
                    286,
                    280,
                    190,
                    124,
                    81,
                    3,
                    1
                  ],
                  "textposition": "outside",
                  "type": "bar",
                  "x": [
                    "Tuesday",
                    "Wednesday",
                    "Monday",
                    "Friday",
                    "Thursday",
                    "Saturday",
                    "Sunday"
                  ],
                  "xaxis": "x",
                  "y": [
                    286,
                    280,
                    190,
                    124,
                    81,
                    3,
                    1
                  ],
                  "yaxis": "y"
                }
              ],
              "layout": {
                "barmode": "relative",
                "coloraxis": {
                  "colorbar": {
                    "title": {
                      "text": "Jumlah Posting"
                    }
                  },
                  "colorscale": [
                    [
                      0,
                      "#0d0887"
                    ],
                    [
                      0.1111111111111111,
                      "#46039f"
                    ],
                    [
                      0.2222222222222222,
                      "#7201a8"
                    ],
                    [
                      0.3333333333333333,
                      "#9c179e"
                    ],
                    [
                      0.4444444444444444,
                      "#bd3786"
                    ],
                    [
                      0.5555555555555556,
                      "#d8576b"
                    ],
                    [
                      0.6666666666666666,
                      "#ed7953"
                    ],
                    [
                      0.7777777777777778,
                      "#fb9f3a"
                    ],
                    [
                      0.8888888888888888,
                      "#fdca26"
                    ],
                    [
                      1,
                      "#f0f921"
                    ]
                  ]
                },
                "height": 600,
                "legend": {
                  "tracegroupgap": 0
                },
                "template": {
                  "data": {
                    "bar": [
                      {
                        "error_x": {
                          "color": "#2a3f5f"
                        },
                        "error_y": {
                          "color": "#2a3f5f"
                        },
                        "marker": {
                          "line": {
                            "color": "#E5ECF6",
                            "width": 0.5
                          },
                          "pattern": {
                            "fillmode": "overlay",
                            "size": 10,
                            "solidity": 0.2
                          }
                        },
                        "type": "bar"
                      }
                    ],
                    "barpolar": [
                      {
                        "marker": {
                          "line": {
                            "color": "#E5ECF6",
                            "width": 0.5
                          },
                          "pattern": {
                            "fillmode": "overlay",
                            "size": 10,
                            "solidity": 0.2
                          }
                        },
                        "type": "barpolar"
                      }
                    ],
                    "carpet": [
                      {
                        "aaxis": {
                          "endlinecolor": "#2a3f5f",
                          "gridcolor": "white",
                          "linecolor": "white",
                          "minorgridcolor": "white",
                          "startlinecolor": "#2a3f5f"
                        },
                        "baxis": {
                          "endlinecolor": "#2a3f5f",
                          "gridcolor": "white",
                          "linecolor": "white",
                          "minorgridcolor": "white",
                          "startlinecolor": "#2a3f5f"
                        },
                        "type": "carpet"
                      }
                    ],
                    "choropleth": [
                      {
                        "colorbar": {
                          "outlinewidth": 0,
                          "ticks": ""
                        },
                        "type": "choropleth"
                      }
                    ],
                    "contour": [
                      {
                        "colorbar": {
                          "outlinewidth": 0,
                          "ticks": ""
                        },
                        "colorscale": [
                          [
                            0,
                            "#0d0887"
                          ],
                          [
                            0.1111111111111111,
                            "#46039f"
                          ],
                          [
                            0.2222222222222222,
                            "#7201a8"
                          ],
                          [
                            0.3333333333333333,
                            "#9c179e"
                          ],
                          [
                            0.4444444444444444,
                            "#bd3786"
                          ],
                          [
                            0.5555555555555556,
                            "#d8576b"
                          ],
                          [
                            0.6666666666666666,
                            "#ed7953"
                          ],
                          [
                            0.7777777777777778,
                            "#fb9f3a"
                          ],
                          [
                            0.8888888888888888,
                            "#fdca26"
                          ],
                          [
                            1,
                            "#f0f921"
                          ]
                        ],
                        "type": "contour"
                      }
                    ],
                    "contourcarpet": [
                      {
                        "colorbar": {
                          "outlinewidth": 0,
                          "ticks": ""
                        },
                        "type": "contourcarpet"
                      }
                    ],
                    "heatmap": [
                      {
                        "colorbar": {
                          "outlinewidth": 0,
                          "ticks": ""
                        },
                        "colorscale": [
                          [
                            0,
                            "#0d0887"
                          ],
                          [
                            0.1111111111111111,
                            "#46039f"
                          ],
                          [
                            0.2222222222222222,
                            "#7201a8"
                          ],
                          [
                            0.3333333333333333,
                            "#9c179e"
                          ],
                          [
                            0.4444444444444444,
                            "#bd3786"
                          ],
                          [
                            0.5555555555555556,
                            "#d8576b"
                          ],
                          [
                            0.6666666666666666,
                            "#ed7953"
                          ],
                          [
                            0.7777777777777778,
                            "#fb9f3a"
                          ],
                          [
                            0.8888888888888888,
                            "#fdca26"
                          ],
                          [
                            1,
                            "#f0f921"
                          ]
                        ],
                        "type": "heatmap"
                      }
                    ],
                    "heatmapgl": [
                      {
                        "colorbar": {
                          "outlinewidth": 0,
                          "ticks": ""
                        },
                        "colorscale": [
                          [
                            0,
                            "#0d0887"
                          ],
                          [
                            0.1111111111111111,
                            "#46039f"
                          ],
                          [
                            0.2222222222222222,
                            "#7201a8"
                          ],
                          [
                            0.3333333333333333,
                            "#9c179e"
                          ],
                          [
                            0.4444444444444444,
                            "#bd3786"
                          ],
                          [
                            0.5555555555555556,
                            "#d8576b"
                          ],
                          [
                            0.6666666666666666,
                            "#ed7953"
                          ],
                          [
                            0.7777777777777778,
                            "#fb9f3a"
                          ],
                          [
                            0.8888888888888888,
                            "#fdca26"
                          ],
                          [
                            1,
                            "#f0f921"
                          ]
                        ],
                        "type": "heatmapgl"
                      }
                    ],
                    "histogram": [
                      {
                        "marker": {
                          "pattern": {
                            "fillmode": "overlay",
                            "size": 10,
                            "solidity": 0.2
                          }
                        },
                        "type": "histogram"
                      }
                    ],
                    "histogram2d": [
                      {
                        "colorbar": {
                          "outlinewidth": 0,
                          "ticks": ""
                        },
                        "colorscale": [
                          [
                            0,
                            "#0d0887"
                          ],
                          [
                            0.1111111111111111,
                            "#46039f"
                          ],
                          [
                            0.2222222222222222,
                            "#7201a8"
                          ],
                          [
                            0.3333333333333333,
                            "#9c179e"
                          ],
                          [
                            0.4444444444444444,
                            "#bd3786"
                          ],
                          [
                            0.5555555555555556,
                            "#d8576b"
                          ],
                          [
                            0.6666666666666666,
                            "#ed7953"
                          ],
                          [
                            0.7777777777777778,
                            "#fb9f3a"
                          ],
                          [
                            0.8888888888888888,
                            "#fdca26"
                          ],
                          [
                            1,
                            "#f0f921"
                          ]
                        ],
                        "type": "histogram2d"
                      }
                    ],
                    "histogram2dcontour": [
                      {
                        "colorbar": {
                          "outlinewidth": 0,
                          "ticks": ""
                        },
                        "colorscale": [
                          [
                            0,
                            "#0d0887"
                          ],
                          [
                            0.1111111111111111,
                            "#46039f"
                          ],
                          [
                            0.2222222222222222,
                            "#7201a8"
                          ],
                          [
                            0.3333333333333333,
                            "#9c179e"
                          ],
                          [
                            0.4444444444444444,
                            "#bd3786"
                          ],
                          [
                            0.5555555555555556,
                            "#d8576b"
                          ],
                          [
                            0.6666666666666666,
                            "#ed7953"
                          ],
                          [
                            0.7777777777777778,
                            "#fb9f3a"
                          ],
                          [
                            0.8888888888888888,
                            "#fdca26"
                          ],
                          [
                            1,
                            "#f0f921"
                          ]
                        ],
                        "type": "histogram2dcontour"
                      }
                    ],
                    "mesh3d": [
                      {
                        "colorbar": {
                          "outlinewidth": 0,
                          "ticks": ""
                        },
                        "type": "mesh3d"
                      }
                    ],
                    "parcoords": [
                      {
                        "line": {
                          "colorbar": {
                            "outlinewidth": 0,
                            "ticks": ""
                          }
                        },
                        "type": "parcoords"
                      }
                    ],
                    "pie": [
                      {
                        "automargin": true,
                        "type": "pie"
                      }
                    ],
                    "scatter": [
                      {
                        "fillpattern": {
                          "fillmode": "overlay",
                          "size": 10,
                          "solidity": 0.2
                        },
                        "type": "scatter"
                      }
                    ],
                    "scatter3d": [
                      {
                        "line": {
                          "colorbar": {
                            "outlinewidth": 0,
                            "ticks": ""
                          }
                        },
                        "marker": {
                          "colorbar": {
                            "outlinewidth": 0,
                            "ticks": ""
                          }
                        },
                        "type": "scatter3d"
                      }
                    ],
                    "scattercarpet": [
                      {
                        "marker": {
                          "colorbar": {
                            "outlinewidth": 0,
                            "ticks": ""
                          }
                        },
                        "type": "scattercarpet"
                      }
                    ],
                    "scattergeo": [
                      {
                        "marker": {
                          "colorbar": {
                            "outlinewidth": 0,
                            "ticks": ""
                          }
                        },
                        "type": "scattergeo"
                      }
                    ],
                    "scattergl": [
                      {
                        "marker": {
                          "colorbar": {
                            "outlinewidth": 0,
                            "ticks": ""
                          }
                        },
                        "type": "scattergl"
                      }
                    ],
                    "scattermapbox": [
                      {
                        "marker": {
                          "colorbar": {
                            "outlinewidth": 0,
                            "ticks": ""
                          }
                        },
                        "type": "scattermapbox"
                      }
                    ],
                    "scatterpolar": [
                      {
                        "marker": {
                          "colorbar": {
                            "outlinewidth": 0,
                            "ticks": ""
                          }
                        },
                        "type": "scatterpolar"
                      }
                    ],
                    "scatterpolargl": [
                      {
                        "marker": {
                          "colorbar": {
                            "outlinewidth": 0,
                            "ticks": ""
                          }
                        },
                        "type": "scatterpolargl"
                      }
                    ],
                    "scatterternary": [
                      {
                        "marker": {
                          "colorbar": {
                            "outlinewidth": 0,
                            "ticks": ""
                          }
                        },
                        "type": "scatterternary"
                      }
                    ],
                    "surface": [
                      {
                        "colorbar": {
                          "outlinewidth": 0,
                          "ticks": ""
                        },
                        "colorscale": [
                          [
                            0,
                            "#0d0887"
                          ],
                          [
                            0.1111111111111111,
                            "#46039f"
                          ],
                          [
                            0.2222222222222222,
                            "#7201a8"
                          ],
                          [
                            0.3333333333333333,
                            "#9c179e"
                          ],
                          [
                            0.4444444444444444,
                            "#bd3786"
                          ],
                          [
                            0.5555555555555556,
                            "#d8576b"
                          ],
                          [
                            0.6666666666666666,
                            "#ed7953"
                          ],
                          [
                            0.7777777777777778,
                            "#fb9f3a"
                          ],
                          [
                            0.8888888888888888,
                            "#fdca26"
                          ],
                          [
                            1,
                            "#f0f921"
                          ]
                        ],
                        "type": "surface"
                      }
                    ],
                    "table": [
                      {
                        "cells": {
                          "fill": {
                            "color": "#EBF0F8"
                          },
                          "line": {
                            "color": "white"
                          }
                        },
                        "header": {
                          "fill": {
                            "color": "#C8D4E3"
                          },
                          "line": {
                            "color": "white"
                          }
                        },
                        "type": "table"
                      }
                    ]
                  },
                  "layout": {
                    "annotationdefaults": {
                      "arrowcolor": "#2a3f5f",
                      "arrowhead": 0,
                      "arrowwidth": 1
                    },
                    "autotypenumbers": "strict",
                    "coloraxis": {
                      "colorbar": {
                        "outlinewidth": 0,
                        "ticks": ""
                      }
                    },
                    "colorscale": {
                      "diverging": [
                        [
                          0,
                          "#8e0152"
                        ],
                        [
                          0.1,
                          "#c51b7d"
                        ],
                        [
                          0.2,
                          "#de77ae"
                        ],
                        [
                          0.3,
                          "#f1b6da"
                        ],
                        [
                          0.4,
                          "#fde0ef"
                        ],
                        [
                          0.5,
                          "#f7f7f7"
                        ],
                        [
                          0.6,
                          "#e6f5d0"
                        ],
                        [
                          0.7,
                          "#b8e186"
                        ],
                        [
                          0.8,
                          "#7fbc41"
                        ],
                        [
                          0.9,
                          "#4d9221"
                        ],
                        [
                          1,
                          "#276419"
                        ]
                      ],
                      "sequential": [
                        [
                          0,
                          "#0d0887"
                        ],
                        [
                          0.1111111111111111,
                          "#46039f"
                        ],
                        [
                          0.2222222222222222,
                          "#7201a8"
                        ],
                        [
                          0.3333333333333333,
                          "#9c179e"
                        ],
                        [
                          0.4444444444444444,
                          "#bd3786"
                        ],
                        [
                          0.5555555555555556,
                          "#d8576b"
                        ],
                        [
                          0.6666666666666666,
                          "#ed7953"
                        ],
                        [
                          0.7777777777777778,
                          "#fb9f3a"
                        ],
                        [
                          0.8888888888888888,
                          "#fdca26"
                        ],
                        [
                          1,
                          "#f0f921"
                        ]
                      ],
                      "sequentialminus": [
                        [
                          0,
                          "#0d0887"
                        ],
                        [
                          0.1111111111111111,
                          "#46039f"
                        ],
                        [
                          0.2222222222222222,
                          "#7201a8"
                        ],
                        [
                          0.3333333333333333,
                          "#9c179e"
                        ],
                        [
                          0.4444444444444444,
                          "#bd3786"
                        ],
                        [
                          0.5555555555555556,
                          "#d8576b"
                        ],
                        [
                          0.6666666666666666,
                          "#ed7953"
                        ],
                        [
                          0.7777777777777778,
                          "#fb9f3a"
                        ],
                        [
                          0.8888888888888888,
                          "#fdca26"
                        ],
                        [
                          1,
                          "#f0f921"
                        ]
                      ]
                    },
                    "colorway": [
                      "#636efa",
                      "#EF553B",
                      "#00cc96",
                      "#ab63fa",
                      "#FFA15A",
                      "#19d3f3",
                      "#FF6692",
                      "#B6E880",
                      "#FF97FF",
                      "#FECB52"
                    ],
                    "font": {
                      "color": "#2a3f5f"
                    },
                    "geo": {
                      "bgcolor": "white",
                      "lakecolor": "white",
                      "landcolor": "#E5ECF6",
                      "showlakes": true,
                      "showland": true,
                      "subunitcolor": "white"
                    },
                    "hoverlabel": {
                      "align": "left"
                    },
                    "hovermode": "closest",
                    "mapbox": {
                      "style": "light"
                    },
                    "paper_bgcolor": "white",
                    "plot_bgcolor": "#E5ECF6",
                    "polar": {
                      "angularaxis": {
                        "gridcolor": "white",
                        "linecolor": "white",
                        "ticks": ""
                      },
                      "bgcolor": "#E5ECF6",
                      "radialaxis": {
                        "gridcolor": "white",
                        "linecolor": "white",
                        "ticks": ""
                      }
                    },
                    "scene": {
                      "xaxis": {
                        "backgroundcolor": "#E5ECF6",
                        "gridcolor": "white",
                        "gridwidth": 2,
                        "linecolor": "white",
                        "showbackground": true,
                        "ticks": "",
                        "zerolinecolor": "white"
                      },
                      "yaxis": {
                        "backgroundcolor": "#E5ECF6",
                        "gridcolor": "white",
                        "gridwidth": 2,
                        "linecolor": "white",
                        "showbackground": true,
                        "ticks": "",
                        "zerolinecolor": "white"
                      },
                      "zaxis": {
                        "backgroundcolor": "#E5ECF6",
                        "gridcolor": "white",
                        "gridwidth": 2,
                        "linecolor": "white",
                        "showbackground": true,
                        "ticks": "",
                        "zerolinecolor": "white"
                      }
                    },
                    "shapedefaults": {
                      "line": {
                        "color": "#2a3f5f"
                      }
                    },
                    "ternary": {
                      "aaxis": {
                        "gridcolor": "white",
                        "linecolor": "white",
                        "ticks": ""
                      },
                      "baxis": {
                        "gridcolor": "white",
                        "linecolor": "white",
                        "ticks": ""
                      },
                      "bgcolor": "#E5ECF6",
                      "caxis": {
                        "gridcolor": "white",
                        "linecolor": "white",
                        "ticks": ""
                      }
                    },
                    "title": {
                      "x": 0.05
                    },
                    "xaxis": {
                      "automargin": true,
                      "gridcolor": "white",
                      "linecolor": "white",
                      "ticks": "",
                      "title": {
                        "standoff": 15
                      },
                      "zerolinecolor": "white",
                      "zerolinewidth": 2
                    },
                    "yaxis": {
                      "automargin": true,
                      "gridcolor": "white",
                      "linecolor": "white",
                      "ticks": "",
                      "title": {
                        "standoff": 15
                      },
                      "zerolinecolor": "white",
                      "zerolinewidth": 2
                    }
                  }
                },
                "title": {
                  "text": "Distribusi Jumlah Posting per Hari"
                },
                "width": 1100,
                "xaxis": {
                  "anchor": "y",
                  "categoryarray": [
                    "Monday",
                    "Tuesday",
                    "Wednesday",
                    "Thursday",
                    "Friday",
                    "Saturday",
                    "Sunday"
                  ],
                  "categoryorder": "array",
                  "domain": [
                    0,
                    1
                  ],
                  "title": {
                    "text": "Hari"
                  }
                },
                "yaxis": {
                  "anchor": "x",
                  "domain": [
                    0,
                    1
                  ],
                  "title": {
                    "text": "Jumlah Posting"
                  }
                }
              }
            }
          },
          "metadata": {},
          "output_type": "display_data"
        }
      ],
      "source": [
        "import plotly.express as px\n",
        "import pandas as pd\n",
        "\n",
        "# Memastikan bahwa kolom 'posted_date' berisi tipe data datetime\n",
        "if pd.api.types.is_datetime64_any_dtype(df_copy['posted_date']):\n",
        "    # Mendapatkan nama hari dari setiap tanggal posting\n",
        "    days = df_copy['posted_date'].dt.day_name().value_counts().reset_index()\n",
        "    days.columns = ['Hari', 'Jumlah Posting']\n",
        "\n",
        "    # Mendefinisikan urutan hari dari Senin hingga Minggu\n",
        "    days_order = ['Monday', 'Tuesday', 'Wednesday', 'Thursday', 'Friday', 'Saturday', 'Sunday']\n",
        "\n",
        "    # Membuat bar plot untuk distribusi posting per hari\n",
        "    fig = px.bar(days, x='Hari', y='Jumlah Posting',\n",
        "                 labels={'Hari': 'Hari', 'Jumlah Posting': 'Jumlah Posting'},\n",
        "                 title='Distribusi Jumlah Posting per Hari',\n",
        "                 height=600, width=1100, color='Jumlah Posting',\n",
        "                 category_orders={'Hari': days_order})  # Menambahkan urutan kategori\n",
        "\n",
        "    # Menampilkan nilai di atas bar\n",
        "    fig.update_traces(text=days['Jumlah Posting'], textposition='outside')\n",
        "\n",
        "    # Menampilkan plot\n",
        "    fig.show()\n",
        "else:\n",
        "    print(\"Kolom 'posted_date' tidak dapat diidentifikasi sebagai tipe data datetime.\")\n"
      ]
    },
    {
      "cell_type": "markdown",
      "metadata": {},
      "source": [
        "Postingan lowongan pekerjaan sebagai `Data Analyst` kebanyakan di post oleh perusahaan pada hari `senin - rabu` dimana jumlahnya lebih dari `190` lowongan."
      ]
    },
    {
      "cell_type": "markdown",
      "metadata": {},
      "source": [
        "### Kota dengan gaji terbesar seorang data analyst"
      ]
    },
    {
      "cell_type": "code",
      "execution_count": 30,
      "metadata": {},
      "outputs": [
        {
          "data": {
            "application/vnd.plotly.v1+json": {
              "config": {
                "plotlyServerURL": "https://plot.ly"
              },
              "data": [
                {
                  "hovertemplate": "Gaji=%{x}<br>Kota=%{y}<extra></extra>",
                  "legendgroup": "$135000.00            -            $140000.00",
                  "marker": {
                    "color": "#636efa",
                    "symbol": "circle"
                  },
                  "mode": "markers",
                  "name": "$135000.00            -            $140000.00",
                  "orientation": "v",
                  "showlegend": true,
                  "type": "scatter",
                  "x": [
                    "$135000.00            -            $140000.00",
                    "$135000.00            -            $140000.00",
                    "$135000.00            -            $140000.00",
                    "$135000.00            -            $140000.00",
                    "$135000.00            -            $140000.00",
                    "$135000.00            -            $140000.00",
                    "$135000.00            -            $140000.00",
                    "$135000.00            -            $140000.00",
                    "$135000.00            -            $140000.00",
                    "$135000.00            -            $140000.00",
                    "$135000.00            -            $140000.00",
                    "$135000.00            -            $140000.00",
                    "$135000.00            -            $140000.00",
                    "$135000.00            -            $140000.00",
                    "$135000.00            -            $140000.00",
                    "$135000.00            -            $140000.00",
                    "$135000.00            -            $140000.00",
                    "$135000.00            -            $140000.00",
                    "$135000.00            -            $140000.00",
                    "$135000.00            -            $140000.00",
                    "$135000.00            -            $140000.00",
                    "$135000.00            -            $140000.00",
                    "$135000.00            -            $140000.00",
                    "$135000.00            -            $140000.00",
                    "$135000.00            -            $140000.00",
                    "$135000.00            -            $140000.00",
                    "$135000.00            -            $140000.00",
                    "$135000.00            -            $140000.00",
                    "$135000.00            -            $140000.00",
                    "$135000.00            -            $140000.00",
                    "$135000.00            -            $140000.00",
                    "$135000.00            -            $140000.00",
                    "$135000.00            -            $140000.00",
                    "$135000.00            -            $140000.00"
                  ],
                  "xaxis": "x",
                  "y": [
                    "Canada",
                    "Canada",
                    "Canada",
                    "Canada",
                    "Canada",
                    "Canada",
                    "Canada",
                    "Canada",
                    "Canada",
                    "Canada",
                    "Canada",
                    "Canada",
                    "Canada",
                    "Canada",
                    "Canada",
                    "Canada",
                    "Canada",
                    "Canada",
                    "Canada",
                    "Canada",
                    "Canada",
                    "Canada",
                    "Canada",
                    "Canada",
                    "Canada",
                    "Canada",
                    "Canada",
                    "Canada",
                    "Canada",
                    "Canada",
                    "Canada",
                    "Canada",
                    "Canada",
                    "Canada"
                  ],
                  "yaxis": "y"
                },
                {
                  "hovertemplate": "Gaji=%{x}<br>Kota=%{y}<extra></extra>",
                  "legendgroup": "CA$135.00            -            CA$145.00",
                  "marker": {
                    "color": "#EF553B",
                    "symbol": "circle"
                  },
                  "mode": "markers",
                  "name": "CA$135.00            -            CA$145.00",
                  "orientation": "v",
                  "showlegend": true,
                  "type": "scatter",
                  "x": [
                    "CA$135.00            -            CA$145.00"
                  ],
                  "xaxis": "x",
                  "y": [
                    "Canada"
                  ],
                  "yaxis": "y"
                },
                {
                  "hovertemplate": "Gaji=%{x}<br>Kota=%{y}<extra></extra>",
                  "legendgroup": "$65500.00            -            $78500.00",
                  "marker": {
                    "color": "#00cc96",
                    "symbol": "circle"
                  },
                  "mode": "markers",
                  "name": "$65500.00            -            $78500.00",
                  "orientation": "v",
                  "showlegend": true,
                  "type": "scatter",
                  "x": [
                    "$65500.00            -            $78500.00"
                  ],
                  "xaxis": "x",
                  "y": [
                    "Vancouver, British Columbia, Canada"
                  ],
                  "yaxis": "y"
                },
                {
                  "hovertemplate": "Gaji=%{x}<br>Kota=%{y}<extra></extra>",
                  "legendgroup": "$100000.00            -            $120000.00",
                  "marker": {
                    "color": "#ab63fa",
                    "symbol": "circle"
                  },
                  "mode": "markers",
                  "name": "$100000.00            -            $120000.00",
                  "orientation": "v",
                  "showlegend": true,
                  "type": "scatter",
                  "x": [
                    "$100000.00            -            $120000.00",
                    "$100000.00            -            $120000.00",
                    "$100000.00            -            $120000.00",
                    "$100000.00            -            $120000.00",
                    "$100000.00            -            $120000.00",
                    "$100000.00            -            $120000.00",
                    "$100000.00            -            $120000.00",
                    "$100000.00            -            $120000.00",
                    "$100000.00            -            $120000.00",
                    "$100000.00            -            $120000.00",
                    "$100000.00            -            $120000.00",
                    "$100000.00            -            $120000.00",
                    "$100000.00            -            $120000.00",
                    "$100000.00            -            $120000.00",
                    "$100000.00            -            $120000.00",
                    "$100000.00            -            $120000.00",
                    "$100000.00            -            $120000.00",
                    "$100000.00            -            $120000.00",
                    "$100000.00            -            $120000.00",
                    "$100000.00            -            $120000.00",
                    "$100000.00            -            $120000.00",
                    "$100000.00            -            $120000.00",
                    "$100000.00            -            $120000.00",
                    "$100000.00            -            $120000.00",
                    "$100000.00            -            $120000.00",
                    "$100000.00            -            $120000.00",
                    "$100000.00            -            $120000.00",
                    "$100000.00            -            $120000.00",
                    "$100000.00            -            $120000.00",
                    "$100000.00            -            $120000.00",
                    "$100000.00            -            $120000.00",
                    "$100000.00            -            $120000.00",
                    "$100000.00            -            $120000.00",
                    "$100000.00            -            $120000.00",
                    "$100000.00            -            $120000.00",
                    "$100000.00            -            $120000.00",
                    "$100000.00            -            $120000.00",
                    "$100000.00            -            $120000.00",
                    "$100000.00            -            $120000.00",
                    "$100000.00            -            $120000.00",
                    "$100000.00            -            $120000.00",
                    "$100000.00            -            $120000.00",
                    "$100000.00            -            $120000.00",
                    "$100000.00            -            $120000.00",
                    "$100000.00            -            $120000.00",
                    "$100000.00            -            $120000.00",
                    "$100000.00            -            $120000.00",
                    "$100000.00            -            $120000.00",
                    "$100000.00            -            $120000.00",
                    "$100000.00            -            $120000.00"
                  ],
                  "xaxis": "x",
                  "y": [
                    "Franklin, TN",
                    "Franklin, TN",
                    "Franklin, TN",
                    "Franklin, TN",
                    "Franklin, TN",
                    "Franklin, TN",
                    "Ann Arbor, MI",
                    "Franklin, TN",
                    "Franklin, TN",
                    "Franklin, TN",
                    "Franklin, TN",
                    "Franklin, TN",
                    "Franklin, TN",
                    "Ann Arbor, MI",
                    "Franklin, TN",
                    "Franklin, TN",
                    "Franklin, TN",
                    "Franklin, TN",
                    "Franklin, TN",
                    "Franklin, TN",
                    "Ann Arbor, MI",
                    "Franklin, TN",
                    "Ann Arbor, MI",
                    "Franklin, TN",
                    "Franklin, TN",
                    "Franklin, TN",
                    "Ann Arbor, MI",
                    "Franklin, TN",
                    "Ann Arbor, MI",
                    "Franklin, TN",
                    "Franklin, TN",
                    "Franklin, TN",
                    "Franklin, TN",
                    "Ann Arbor, MI",
                    "Franklin, TN",
                    "Ann Arbor, MI",
                    "Franklin, TN",
                    "Franklin, TN",
                    "Franklin, TN",
                    "Ann Arbor, MI",
                    "Franklin, TN",
                    "Ann Arbor, MI",
                    "Franklin, TN",
                    "Franklin, TN",
                    "Franklin, TN",
                    "Franklin, TN",
                    "Ann Arbor, MI",
                    "Franklin, TN",
                    "Ann Arbor, MI",
                    "Franklin, TN"
                  ],
                  "yaxis": "y"
                },
                {
                  "hovertemplate": "Gaji=%{x}<br>Kota=%{y}<extra></extra>",
                  "legendgroup": "$50000.00            -            $55000.00",
                  "marker": {
                    "color": "#FFA15A",
                    "symbol": "circle"
                  },
                  "mode": "markers",
                  "name": "$50000.00            -            $55000.00",
                  "orientation": "v",
                  "showlegend": true,
                  "type": "scatter",
                  "x": [
                    "$50000.00            -            $55000.00",
                    "$50000.00            -            $55000.00",
                    "$50000.00            -            $55000.00",
                    "$50000.00            -            $55000.00",
                    "$50000.00            -            $55000.00",
                    "$50000.00            -            $55000.00",
                    "$50000.00            -            $55000.00",
                    "$50000.00            -            $55000.00",
                    "$50000.00            -            $55000.00",
                    "$50000.00            -            $55000.00",
                    "$50000.00            -            $55000.00",
                    "$50000.00            -            $55000.00",
                    "$50000.00            -            $55000.00",
                    "$50000.00            -            $55000.00",
                    "$50000.00            -            $55000.00",
                    "$50000.00            -            $55000.00",
                    "$50000.00            -            $55000.00",
                    "$50000.00            -            $55000.00",
                    "$50000.00            -            $55000.00",
                    "$50000.00            -            $55000.00",
                    "$50000.00            -            $55000.00",
                    "$50000.00            -            $55000.00"
                  ],
                  "xaxis": "x",
                  "y": [
                    "Raleigh, NC",
                    "Raleigh, NC",
                    "Raleigh, NC",
                    "Raleigh, NC",
                    "Raleigh, NC",
                    "Raleigh, NC",
                    "Raleigh, NC",
                    "Raleigh, NC",
                    "Raleigh, NC",
                    "Raleigh, NC",
                    "Raleigh, NC",
                    "Raleigh, NC",
                    "Raleigh, NC",
                    "Raleigh, NC",
                    "Raleigh, NC",
                    "Raleigh, NC",
                    "Raleigh, NC",
                    "Raleigh, NC",
                    "Raleigh, NC",
                    "Raleigh, NC",
                    "Raleigh, NC",
                    "Raleigh, NC"
                  ],
                  "yaxis": "y"
                },
                {
                  "hovertemplate": "Gaji=%{x}<br>Kota=%{y}<extra></extra>",
                  "legendgroup": "$5800.00            -            $6000.00",
                  "marker": {
                    "color": "#19d3f3",
                    "symbol": "circle"
                  },
                  "mode": "markers",
                  "name": "$5800.00            -            $6000.00",
                  "orientation": "v",
                  "showlegend": true,
                  "type": "scatter",
                  "x": [
                    "$5800.00            -            $6000.00",
                    "$5800.00            -            $6000.00",
                    "$5800.00            -            $6000.00",
                    "$5800.00            -            $6000.00",
                    "$5800.00            -            $6000.00",
                    "$5800.00            -            $6000.00",
                    "$5800.00            -            $6000.00",
                    "$5800.00            -            $6000.00",
                    "$5800.00            -            $6000.00",
                    "$5800.00            -            $6000.00",
                    "$5800.00            -            $6000.00",
                    "$5800.00            -            $6000.00",
                    "$5800.00            -            $6000.00",
                    "$5800.00            -            $6000.00",
                    "$5800.00            -            $6000.00",
                    "$5800.00            -            $6000.00",
                    "$5800.00            -            $6000.00",
                    "$5800.00            -            $6000.00",
                    "$5800.00            -            $6000.00",
                    "$5800.00            -            $6000.00",
                    "$5800.00            -            $6000.00"
                  ],
                  "xaxis": "x",
                  "y": [
                    "Plano, TX",
                    "Plano, TX",
                    "Plano, TX",
                    "Plano, TX",
                    "Plano, TX",
                    "Plano, TX",
                    "Plano, TX",
                    "Plano, TX",
                    "Plano, TX",
                    "Plano, TX",
                    "Plano, TX",
                    "Plano, TX",
                    "Plano, TX",
                    "Plano, TX",
                    "Plano, TX",
                    "Plano, TX",
                    "Plano, TX",
                    "Plano, TX",
                    "Plano, TX",
                    "Plano, TX",
                    "Plano, TX"
                  ],
                  "yaxis": "y"
                },
                {
                  "hovertemplate": "Gaji=%{x}<br>Kota=%{y}<extra></extra>",
                  "legendgroup": "$50.00            -            $60.00",
                  "marker": {
                    "color": "#FF6692",
                    "symbol": "circle"
                  },
                  "mode": "markers",
                  "name": "$50.00            -            $60.00",
                  "orientation": "v",
                  "showlegend": true,
                  "type": "scatter",
                  "x": [
                    "$50.00            -            $60.00",
                    "$50.00            -            $60.00",
                    "$50.00            -            $60.00",
                    "$50.00            -            $60.00",
                    "$50.00            -            $60.00",
                    "$50.00            -            $60.00",
                    "$50.00            -            $60.00",
                    "$50.00            -            $60.00",
                    "$50.00            -            $60.00",
                    "$50.00            -            $60.00",
                    "$50.00            -            $60.00",
                    "$50.00            -            $60.00",
                    "$50.00            -            $60.00",
                    "$50.00            -            $60.00",
                    "$50.00            -            $60.00",
                    "$50.00            -            $60.00",
                    "$50.00            -            $60.00",
                    "$50.00            -            $60.00",
                    "$50.00            -            $60.00",
                    "$50.00            -            $60.00",
                    "$50.00            -            $60.00",
                    "$50.00            -            $60.00",
                    "$50.00            -            $60.00",
                    "$50.00            -            $60.00",
                    "$50.00            -            $60.00",
                    "$50.00            -            $60.00",
                    "$50.00            -            $60.00",
                    "$50.00            -            $60.00",
                    "$50.00            -            $60.00",
                    "$50.00            -            $60.00",
                    "$50.00            -            $60.00",
                    "$50.00            -            $60.00",
                    "$50.00            -            $60.00",
                    "$50.00            -            $60.00",
                    "$50.00            -            $60.00",
                    "$50.00            -            $60.00",
                    "$50.00            -            $60.00",
                    "$50.00            -            $60.00",
                    "$50.00            -            $60.00",
                    "$50.00            -            $60.00",
                    "$50.00            -            $60.00",
                    "$50.00            -            $60.00",
                    "$50.00            -            $60.00",
                    "$50.00            -            $60.00",
                    "$50.00            -            $60.00",
                    "$50.00            -            $60.00",
                    "$50.00            -            $60.00",
                    "$50.00            -            $60.00",
                    "$50.00            -            $60.00",
                    "$50.00            -            $60.00",
                    "$50.00            -            $60.00",
                    "$50.00            -            $60.00",
                    "$50.00            -            $60.00",
                    "$50.00            -            $60.00",
                    "$50.00            -            $60.00",
                    "$50.00            -            $60.00",
                    "$50.00            -            $60.00",
                    "$50.00            -            $60.00",
                    "$50.00            -            $60.00",
                    "$50.00            -            $60.00",
                    "$50.00            -            $60.00",
                    "$50.00            -            $60.00",
                    "$50.00            -            $60.00",
                    "$50.00            -            $60.00",
                    "$50.00            -            $60.00",
                    "$50.00            -            $60.00",
                    "$50.00            -            $60.00",
                    "$50.00            -            $60.00",
                    "$50.00            -            $60.00",
                    "$50.00            -            $60.00",
                    "$50.00            -            $60.00",
                    "$50.00            -            $60.00",
                    "$50.00            -            $60.00",
                    "$50.00            -            $60.00",
                    "$50.00            -            $60.00",
                    "$50.00            -            $60.00",
                    "$50.00            -            $60.00",
                    "$50.00            -            $60.00",
                    "$50.00            -            $60.00",
                    "$50.00            -            $60.00",
                    "$50.00            -            $60.00",
                    "$50.00            -            $60.00",
                    "$50.00            -            $60.00",
                    "$50.00            -            $60.00",
                    "$50.00            -            $60.00",
                    "$50.00            -            $60.00",
                    "$50.00            -            $60.00",
                    "$50.00            -            $60.00",
                    "$50.00            -            $60.00"
                  ],
                  "xaxis": "x",
                  "y": [
                    "O'Fallon, MO",
                    "O'Fallon, MO",
                    "O'Fallon, MO",
                    "O'Fallon, MO",
                    "O'Fallon, MO",
                    "O'Fallon, MO",
                    "O'Fallon, MO",
                    "O'Fallon, MO",
                    "O'Fallon, MO",
                    "O'Fallon, MO",
                    "O'Fallon, MO",
                    "O'Fallon, MO",
                    "O'Fallon, MO",
                    "O'Fallon, MO",
                    "O'Fallon, MO",
                    "O'Fallon, MO",
                    "O'Fallon, MO",
                    "O'Fallon, MO",
                    "United States",
                    "United States",
                    "United States",
                    "United States",
                    "United States",
                    "United States",
                    "United States",
                    "United States",
                    "United States",
                    "United States",
                    "United States",
                    "United States",
                    "United States",
                    "United States",
                    "United States",
                    "United States",
                    "United States",
                    "United States",
                    "United States",
                    "United States",
                    "United States",
                    "United States",
                    "United States",
                    "United States",
                    "United States",
                    "United States",
                    "United States",
                    "United States",
                    "United States",
                    "United States",
                    "United States",
                    "United States",
                    "United States",
                    "United States",
                    "United States",
                    "United States",
                    "Greater Sacramento",
                    "Greater Sacramento",
                    "Greater Sacramento",
                    "Greater Sacramento",
                    "Greater Sacramento",
                    "Greater Sacramento",
                    "Greater Sacramento",
                    "Greater Sacramento",
                    "Greater Sacramento",
                    "Greater Sacramento",
                    "Greater Sacramento",
                    "Greater Sacramento",
                    "Greater Sacramento",
                    "Greater Sacramento",
                    "Greater Sacramento",
                    "Greater Sacramento",
                    "Greater Sacramento",
                    "Greater Sacramento",
                    "Greater Sacramento",
                    "Greater Sacramento",
                    "Greater Sacramento",
                    "Greater Sacramento",
                    "Greater Sacramento",
                    "Greater Sacramento",
                    "Greater Sacramento",
                    "Greater Sacramento",
                    "Greater Sacramento",
                    "Greater Sacramento",
                    "Greater Sacramento",
                    "Greater Sacramento",
                    "Greater Sacramento",
                    "Greater Sacramento",
                    "Greater Sacramento",
                    "Greater Sacramento",
                    "Greater Sacramento"
                  ],
                  "yaxis": "y"
                },
                {
                  "hovertemplate": "Gaji=%{x}<br>Kota=%{y}<extra></extra>",
                  "legendgroup": "$55000.00            -            $70000.00",
                  "marker": {
                    "color": "#B6E880",
                    "symbol": "circle"
                  },
                  "mode": "markers",
                  "name": "$55000.00            -            $70000.00",
                  "orientation": "v",
                  "showlegend": true,
                  "type": "scatter",
                  "x": [
                    "$55000.00            -            $70000.00"
                  ],
                  "xaxis": "x",
                  "y": [
                    "Bridgewater, NJ"
                  ],
                  "yaxis": "y"
                },
                {
                  "hovertemplate": "Gaji=%{x}<br>Kota=%{y}<extra></extra>",
                  "legendgroup": "$50.00            -            $50.00",
                  "marker": {
                    "color": "#FF97FF",
                    "symbol": "circle"
                  },
                  "mode": "markers",
                  "name": "$50.00            -            $50.00",
                  "orientation": "v",
                  "showlegend": true,
                  "type": "scatter",
                  "x": [
                    "$50.00            -            $50.00"
                  ],
                  "xaxis": "x",
                  "y": [
                    "Palo Alto, CA"
                  ],
                  "yaxis": "y"
                },
                {
                  "hovertemplate": "Gaji=%{x}<br>Kota=%{y}<extra></extra>",
                  "legendgroup": "$30.00            -            $30.00",
                  "marker": {
                    "color": "#FECB52",
                    "symbol": "circle"
                  },
                  "mode": "markers",
                  "name": "$30.00            -            $30.00",
                  "orientation": "v",
                  "showlegend": true,
                  "type": "scatter",
                  "x": [
                    "$30.00            -            $30.00",
                    "$30.00            -            $30.00",
                    "$30.00            -            $30.00",
                    "$30.00            -            $30.00",
                    "$30.00            -            $30.00",
                    "$30.00            -            $30.00",
                    "$30.00            -            $30.00",
                    "$30.00            -            $30.00",
                    "$30.00            -            $30.00",
                    "$30.00            -            $30.00",
                    "$30.00            -            $30.00",
                    "$30.00            -            $30.00",
                    "$30.00            -            $30.00",
                    "$30.00            -            $30.00",
                    "$30.00            -            $30.00",
                    "$30.00            -            $30.00",
                    "$30.00            -            $30.00",
                    "$30.00            -            $30.00",
                    "$30.00            -            $30.00",
                    "$30.00            -            $30.00",
                    "$30.00            -            $30.00",
                    "$30.00            -            $30.00",
                    "$30.00            -            $30.00",
                    "$30.00            -            $30.00",
                    "$30.00            -            $30.00",
                    "$30.00            -            $30.00",
                    "$30.00            -            $30.00",
                    "$30.00            -            $30.00",
                    "$30.00            -            $30.00",
                    "$30.00            -            $30.00",
                    "$30.00            -            $30.00",
                    "$30.00            -            $30.00",
                    "$30.00            -            $30.00",
                    "$30.00            -            $30.00",
                    "$30.00            -            $30.00",
                    "$30.00            -            $30.00"
                  ],
                  "xaxis": "x",
                  "y": [
                    "New York City Metropolitan Area",
                    "New York City Metropolitan Area",
                    "New York City Metropolitan Area",
                    "New York City Metropolitan Area",
                    "New York City Metropolitan Area",
                    "New York City Metropolitan Area",
                    "New York City Metropolitan Area",
                    "New York City Metropolitan Area",
                    "New York City Metropolitan Area",
                    "New York City Metropolitan Area",
                    "New York City Metropolitan Area",
                    "New York City Metropolitan Area",
                    "New York City Metropolitan Area",
                    "New York City Metropolitan Area",
                    "New York City Metropolitan Area",
                    "New York City Metropolitan Area",
                    "New York City Metropolitan Area",
                    "New York City Metropolitan Area",
                    "New York City Metropolitan Area",
                    "New York City Metropolitan Area",
                    "New York City Metropolitan Area",
                    "New York City Metropolitan Area",
                    "New York City Metropolitan Area",
                    "New York City Metropolitan Area",
                    "New York City Metropolitan Area",
                    "New York City Metropolitan Area",
                    "New York City Metropolitan Area",
                    "New York City Metropolitan Area",
                    "New York City Metropolitan Area",
                    "New York City Metropolitan Area",
                    "New York City Metropolitan Area",
                    "New York City Metropolitan Area",
                    "New York City Metropolitan Area",
                    "New York City Metropolitan Area",
                    "New York City Metropolitan Area",
                    "New York City Metropolitan Area"
                  ],
                  "yaxis": "y"
                },
                {
                  "hovertemplate": "Gaji=%{x}<br>Kota=%{y}<extra></extra>",
                  "legendgroup": "$80000.00            -            $110000.00",
                  "marker": {
                    "color": "#636efa",
                    "symbol": "circle"
                  },
                  "mode": "markers",
                  "name": "$80000.00            -            $110000.00",
                  "orientation": "v",
                  "showlegend": true,
                  "type": "scatter",
                  "x": [
                    "$80000.00            -            $110000.00",
                    "$80000.00            -            $110000.00",
                    "$80000.00            -            $110000.00",
                    "$80000.00            -            $110000.00",
                    "$80000.00            -            $110000.00",
                    "$80000.00            -            $110000.00",
                    "$80000.00            -            $110000.00",
                    "$80000.00            -            $110000.00",
                    "$80000.00            -            $110000.00",
                    "$80000.00            -            $110000.00",
                    "$80000.00            -            $110000.00",
                    "$80000.00            -            $110000.00",
                    "$80000.00            -            $110000.00",
                    "$80000.00            -            $110000.00",
                    "$80000.00            -            $110000.00",
                    "$80000.00            -            $110000.00",
                    "$80000.00            -            $110000.00",
                    "$80000.00            -            $110000.00",
                    "$80000.00            -            $110000.00",
                    "$80000.00            -            $110000.00",
                    "$80000.00            -            $110000.00",
                    "$80000.00            -            $110000.00",
                    "$80000.00            -            $110000.00",
                    "$80000.00            -            $110000.00",
                    "$80000.00            -            $110000.00",
                    "$80000.00            -            $110000.00",
                    "$80000.00            -            $110000.00",
                    "$80000.00            -            $110000.00",
                    "$80000.00            -            $110000.00",
                    "$80000.00            -            $110000.00",
                    "$80000.00            -            $110000.00",
                    "$80000.00            -            $110000.00",
                    "$80000.00            -            $110000.00",
                    "$80000.00            -            $110000.00"
                  ],
                  "xaxis": "x",
                  "y": [
                    "United States",
                    "United States",
                    "United States",
                    "United States",
                    "United States",
                    "United States",
                    "United States",
                    "United States",
                    "United States",
                    "United States",
                    "United States",
                    "United States",
                    "United States",
                    "United States",
                    "United States",
                    "United States",
                    "United States",
                    "United States",
                    "United States",
                    "United States",
                    "United States",
                    "United States",
                    "United States",
                    "United States",
                    "United States",
                    "United States",
                    "United States",
                    "United States",
                    "United States",
                    "United States",
                    "United States",
                    "United States",
                    "United States",
                    "United States"
                  ],
                  "yaxis": "y"
                },
                {
                  "hovertemplate": "Gaji=%{x}<br>Kota=%{y}<extra></extra>",
                  "legendgroup": "$120000.00            -            $135000.00",
                  "marker": {
                    "color": "#EF553B",
                    "symbol": "circle"
                  },
                  "mode": "markers",
                  "name": "$120000.00            -            $135000.00",
                  "orientation": "v",
                  "showlegend": true,
                  "type": "scatter",
                  "x": [
                    "$120000.00            -            $135000.00",
                    "$120000.00            -            $135000.00",
                    "$120000.00            -            $135000.00",
                    "$120000.00            -            $135000.00",
                    "$120000.00            -            $135000.00",
                    "$120000.00            -            $135000.00",
                    "$120000.00            -            $135000.00",
                    "$120000.00            -            $135000.00",
                    "$120000.00            -            $135000.00",
                    "$120000.00            -            $135000.00",
                    "$120000.00            -            $135000.00",
                    "$120000.00            -            $135000.00",
                    "$120000.00            -            $135000.00",
                    "$120000.00            -            $135000.00",
                    "$120000.00            -            $135000.00",
                    "$120000.00            -            $135000.00",
                    "$120000.00            -            $135000.00",
                    "$120000.00            -            $135000.00",
                    "$120000.00            -            $135000.00",
                    "$120000.00            -            $135000.00",
                    "$120000.00            -            $135000.00",
                    "$120000.00            -            $135000.00",
                    "$120000.00            -            $135000.00",
                    "$120000.00            -            $135000.00",
                    "$120000.00            -            $135000.00",
                    "$120000.00            -            $135000.00",
                    "$120000.00            -            $135000.00",
                    "$120000.00            -            $135000.00",
                    "$120000.00            -            $135000.00",
                    "$120000.00            -            $135000.00",
                    "$120000.00            -            $135000.00",
                    "$120000.00            -            $135000.00",
                    "$120000.00            -            $135000.00",
                    "$120000.00            -            $135000.00"
                  ],
                  "xaxis": "x",
                  "y": [
                    "United States",
                    "United States",
                    "United States",
                    "United States",
                    "United States",
                    "United States",
                    "United States",
                    "United States",
                    "United States",
                    "United States",
                    "United States",
                    "United States",
                    "United States",
                    "United States",
                    "United States",
                    "United States",
                    "United States",
                    "United States",
                    "United States",
                    "United States",
                    "United States",
                    "United States",
                    "United States",
                    "United States",
                    "United States",
                    "United States",
                    "United States",
                    "United States",
                    "United States",
                    "United States",
                    "United States",
                    "United States",
                    "United States",
                    "United States"
                  ],
                  "yaxis": "y"
                },
                {
                  "hovertemplate": "Gaji=%{x}<br>Kota=%{y}<extra></extra>",
                  "legendgroup": "$85000.00            -            $100000.00",
                  "marker": {
                    "color": "#00cc96",
                    "symbol": "circle"
                  },
                  "mode": "markers",
                  "name": "$85000.00            -            $100000.00",
                  "orientation": "v",
                  "showlegend": true,
                  "type": "scatter",
                  "x": [
                    "$85000.00            -            $100000.00",
                    "$85000.00            -            $100000.00",
                    "$85000.00            -            $100000.00",
                    "$85000.00            -            $100000.00",
                    "$85000.00            -            $100000.00",
                    "$85000.00            -            $100000.00",
                    "$85000.00            -            $100000.00",
                    "$85000.00            -            $100000.00",
                    "$85000.00            -            $100000.00",
                    "$85000.00            -            $100000.00",
                    "$85000.00            -            $100000.00",
                    "$85000.00            -            $100000.00",
                    "$85000.00            -            $100000.00",
                    "$85000.00            -            $100000.00",
                    "$85000.00            -            $100000.00",
                    "$85000.00            -            $100000.00",
                    "$85000.00            -            $100000.00",
                    "$85000.00            -            $100000.00",
                    "$85000.00            -            $100000.00",
                    "$85000.00            -            $100000.00",
                    "$85000.00            -            $100000.00",
                    "$85000.00            -            $100000.00",
                    "$85000.00            -            $100000.00",
                    "$85000.00            -            $100000.00",
                    "$85000.00            -            $100000.00",
                    "$85000.00            -            $100000.00",
                    "$85000.00            -            $100000.00",
                    "$85000.00            -            $100000.00",
                    "$85000.00            -            $100000.00",
                    "$85000.00            -            $100000.00",
                    "$85000.00            -            $100000.00",
                    "$85000.00            -            $100000.00",
                    "$85000.00            -            $100000.00",
                    "$85000.00            -            $100000.00",
                    "$85000.00            -            $100000.00",
                    "$85000.00            -            $100000.00",
                    "$85000.00            -            $100000.00",
                    "$85000.00            -            $100000.00"
                  ],
                  "xaxis": "x",
                  "y": [
                    "United States",
                    "United States",
                    "United States",
                    "United States",
                    "United States",
                    "United States",
                    "United States",
                    "United States",
                    "United States",
                    "United States",
                    "United States",
                    "United States",
                    "United States",
                    "United States",
                    "United States",
                    "United States",
                    "United States",
                    "United States",
                    "United States",
                    "United States",
                    "United States",
                    "United States",
                    "United States",
                    "United States",
                    "United States",
                    "United States",
                    "United States",
                    "United States",
                    "United States",
                    "United States",
                    "United States",
                    "United States",
                    "United States",
                    "United States",
                    "United States",
                    "United States",
                    "United States",
                    "United States"
                  ],
                  "yaxis": "y"
                },
                {
                  "hovertemplate": "Gaji=%{x}<br>Kota=%{y}<extra></extra>",
                  "legendgroup": "$40.00            -            $50.00",
                  "marker": {
                    "color": "#ab63fa",
                    "symbol": "circle"
                  },
                  "mode": "markers",
                  "name": "$40.00            -            $50.00",
                  "orientation": "v",
                  "showlegend": true,
                  "type": "scatter",
                  "x": [
                    "$40.00            -            $50.00",
                    "$40.00            -            $50.00",
                    "$40.00            -            $50.00",
                    "$40.00            -            $50.00",
                    "$40.00            -            $50.00",
                    "$40.00            -            $50.00",
                    "$40.00            -            $50.00",
                    "$40.00            -            $50.00",
                    "$40.00            -            $50.00",
                    "$40.00            -            $50.00",
                    "$40.00            -            $50.00",
                    "$40.00            -            $50.00",
                    "$40.00            -            $50.00",
                    "$40.00            -            $50.00",
                    "$40.00            -            $50.00",
                    "$40.00            -            $50.00",
                    "$40.00            -            $50.00",
                    "$40.00            -            $50.00",
                    "$40.00            -            $50.00",
                    "$40.00            -            $50.00",
                    "$40.00            -            $50.00",
                    "$40.00            -            $50.00",
                    "$40.00            -            $50.00",
                    "$40.00            -            $50.00",
                    "$40.00            -            $50.00",
                    "$40.00            -            $50.00",
                    "$40.00            -            $50.00",
                    "$40.00            -            $50.00",
                    "$40.00            -            $50.00",
                    "$40.00            -            $50.00",
                    "$40.00            -            $50.00",
                    "$40.00            -            $50.00",
                    "$40.00            -            $50.00",
                    "$40.00            -            $50.00"
                  ],
                  "xaxis": "x",
                  "y": [
                    "United States",
                    "United States",
                    "United States",
                    "United States",
                    "United States",
                    "United States",
                    "United States",
                    "United States",
                    "United States",
                    "United States",
                    "United States",
                    "United States",
                    "United States",
                    "United States",
                    "United States",
                    "United States",
                    "United States",
                    "United States",
                    "United States",
                    "United States",
                    "United States",
                    "United States",
                    "United States",
                    "United States",
                    "United States",
                    "United States",
                    "United States",
                    "United States",
                    "United States",
                    "United States",
                    "United States",
                    "United States",
                    "United States",
                    "United States"
                  ],
                  "yaxis": "y"
                },
                {
                  "hovertemplate": "Gaji=%{x}<br>Kota=%{y}<extra></extra>",
                  "legendgroup": "$60000.00            -            $90000.00",
                  "marker": {
                    "color": "#FFA15A",
                    "symbol": "circle"
                  },
                  "mode": "markers",
                  "name": "$60000.00            -            $90000.00",
                  "orientation": "v",
                  "showlegend": true,
                  "type": "scatter",
                  "x": [
                    "$60000.00            -            $90000.00",
                    "$60000.00            -            $90000.00",
                    "$60000.00            -            $90000.00",
                    "$60000.00            -            $90000.00",
                    "$60000.00            -            $90000.00",
                    "$60000.00            -            $90000.00",
                    "$60000.00            -            $90000.00",
                    "$60000.00            -            $90000.00",
                    "$60000.00            -            $90000.00",
                    "$60000.00            -            $90000.00",
                    "$60000.00            -            $90000.00",
                    "$60000.00            -            $90000.00",
                    "$60000.00            -            $90000.00",
                    "$60000.00            -            $90000.00",
                    "$60000.00            -            $90000.00",
                    "$60000.00            -            $90000.00",
                    "$60000.00            -            $90000.00",
                    "$60000.00            -            $90000.00",
                    "$60000.00            -            $90000.00",
                    "$60000.00            -            $90000.00",
                    "$60000.00            -            $90000.00",
                    "$60000.00            -            $90000.00",
                    "$60000.00            -            $90000.00",
                    "$60000.00            -            $90000.00",
                    "$60000.00            -            $90000.00",
                    "$60000.00            -            $90000.00",
                    "$60000.00            -            $90000.00",
                    "$60000.00            -            $90000.00",
                    "$60000.00            -            $90000.00",
                    "$60000.00            -            $90000.00",
                    "$60000.00            -            $90000.00",
                    "$60000.00            -            $90000.00",
                    "$60000.00            -            $90000.00",
                    "$60000.00            -            $90000.00"
                  ],
                  "xaxis": "x",
                  "y": [
                    "United States",
                    "United States",
                    "United States",
                    "United States",
                    "United States",
                    "United States",
                    "United States",
                    "United States",
                    "United States",
                    "United States",
                    "United States",
                    "United States",
                    "United States",
                    "United States",
                    "United States",
                    "United States",
                    "United States",
                    "United States",
                    "United States",
                    "United States",
                    "United States",
                    "United States",
                    "United States",
                    "United States",
                    "United States",
                    "United States",
                    "United States",
                    "United States",
                    "United States",
                    "United States",
                    "United States",
                    "United States",
                    "United States",
                    "United States"
                  ],
                  "yaxis": "y"
                },
                {
                  "hovertemplate": "Gaji=%{x}<br>Kota=%{y}<extra></extra>",
                  "legendgroup": "$125000.00            -            $155000.00",
                  "marker": {
                    "color": "#19d3f3",
                    "symbol": "circle"
                  },
                  "mode": "markers",
                  "name": "$125000.00            -            $155000.00",
                  "orientation": "v",
                  "showlegend": true,
                  "type": "scatter",
                  "x": [
                    "$125000.00            -            $155000.00",
                    "$125000.00            -            $155000.00",
                    "$125000.00            -            $155000.00",
                    "$125000.00            -            $155000.00",
                    "$125000.00            -            $155000.00",
                    "$125000.00            -            $155000.00",
                    "$125000.00            -            $155000.00",
                    "$125000.00            -            $155000.00",
                    "$125000.00            -            $155000.00",
                    "$125000.00            -            $155000.00",
                    "$125000.00            -            $155000.00",
                    "$125000.00            -            $155000.00",
                    "$125000.00            -            $155000.00",
                    "$125000.00            -            $155000.00",
                    "$125000.00            -            $155000.00",
                    "$125000.00            -            $155000.00",
                    "$125000.00            -            $155000.00",
                    "$125000.00            -            $155000.00",
                    "$125000.00            -            $155000.00",
                    "$125000.00            -            $155000.00",
                    "$125000.00            -            $155000.00",
                    "$125000.00            -            $155000.00",
                    "$125000.00            -            $155000.00",
                    "$125000.00            -            $155000.00",
                    "$125000.00            -            $155000.00",
                    "$125000.00            -            $155000.00",
                    "$125000.00            -            $155000.00",
                    "$125000.00            -            $155000.00",
                    "$125000.00            -            $155000.00",
                    "$125000.00            -            $155000.00",
                    "$125000.00            -            $155000.00",
                    "$125000.00            -            $155000.00",
                    "$125000.00            -            $155000.00",
                    "$125000.00            -            $155000.00",
                    "$125000.00            -            $155000.00",
                    "$125000.00            -            $155000.00",
                    "$125000.00            -            $155000.00"
                  ],
                  "xaxis": "x",
                  "y": [
                    "United States",
                    "United States",
                    "United States",
                    "United States",
                    "United States",
                    "United States",
                    "United States",
                    "United States",
                    "United States",
                    "United States",
                    "United States",
                    "United States",
                    "United States",
                    "United States",
                    "United States",
                    "United States",
                    "United States",
                    "United States",
                    "United States",
                    "United States",
                    "United States",
                    "United States",
                    "United States",
                    "United States",
                    "United States",
                    "United States",
                    "United States",
                    "United States",
                    "United States",
                    "United States",
                    "United States",
                    "United States",
                    "United States",
                    "United States",
                    "United States",
                    "United States",
                    "United States"
                  ],
                  "yaxis": "y"
                },
                {
                  "hovertemplate": "Gaji=%{x}<br>Kota=%{y}<extra></extra>",
                  "legendgroup": "$70000.00            -            $80000.00",
                  "marker": {
                    "color": "#FF6692",
                    "symbol": "circle"
                  },
                  "mode": "markers",
                  "name": "$70000.00            -            $80000.00",
                  "orientation": "v",
                  "showlegend": true,
                  "type": "scatter",
                  "x": [
                    "$70000.00            -            $80000.00",
                    "$70000.00            -            $80000.00",
                    "$70000.00            -            $80000.00",
                    "$70000.00            -            $80000.00",
                    "$70000.00            -            $80000.00",
                    "$70000.00            -            $80000.00",
                    "$70000.00            -            $80000.00",
                    "$70000.00            -            $80000.00",
                    "$70000.00            -            $80000.00",
                    "$70000.00            -            $80000.00",
                    "$70000.00            -            $80000.00",
                    "$70000.00            -            $80000.00",
                    "$70000.00            -            $80000.00",
                    "$70000.00            -            $80000.00",
                    "$70000.00            -            $80000.00",
                    "$70000.00            -            $80000.00",
                    "$70000.00            -            $80000.00",
                    "$70000.00            -            $80000.00",
                    "$70000.00            -            $80000.00",
                    "$70000.00            -            $80000.00",
                    "$70000.00            -            $80000.00",
                    "$70000.00            -            $80000.00",
                    "$70000.00            -            $80000.00",
                    "$70000.00            -            $80000.00",
                    "$70000.00            -            $80000.00",
                    "$70000.00            -            $80000.00",
                    "$70000.00            -            $80000.00",
                    "$70000.00            -            $80000.00",
                    "$70000.00            -            $80000.00",
                    "$70000.00            -            $80000.00",
                    "$70000.00            -            $80000.00",
                    "$70000.00            -            $80000.00",
                    "$70000.00            -            $80000.00",
                    "$70000.00            -            $80000.00"
                  ],
                  "xaxis": "x",
                  "y": [
                    "New York, United States",
                    "New York, United States",
                    "New York, United States",
                    "New York, United States",
                    "New York, United States",
                    "New York, United States",
                    "New York, United States",
                    "New York, United States",
                    "New York, United States",
                    "New York, United States",
                    "New York, United States",
                    "New York, United States",
                    "New York, United States",
                    "New York, United States",
                    "New York, United States",
                    "New York, United States",
                    "New York, United States",
                    "New York, United States",
                    "New York, United States",
                    "New York, United States",
                    "New York, United States",
                    "New York, United States",
                    "New York, United States",
                    "New York, United States",
                    "New York, United States",
                    "New York, United States",
                    "New York, United States",
                    "New York, United States",
                    "New York, United States",
                    "New York, United States",
                    "New York, United States",
                    "New York, United States",
                    "New York, United States",
                    "New York, United States"
                  ],
                  "yaxis": "y"
                },
                {
                  "hovertemplate": "Gaji=%{x}<br>Kota=%{y}<extra></extra>",
                  "legendgroup": "$80000.00            -            $90000.00",
                  "marker": {
                    "color": "#B6E880",
                    "symbol": "circle"
                  },
                  "mode": "markers",
                  "name": "$80000.00            -            $90000.00",
                  "orientation": "v",
                  "showlegend": true,
                  "type": "scatter",
                  "x": [
                    "$80000.00            -            $90000.00",
                    "$80000.00            -            $90000.00",
                    "$80000.00            -            $90000.00",
                    "$80000.00            -            $90000.00",
                    "$80000.00            -            $90000.00",
                    "$80000.00            -            $90000.00",
                    "$80000.00            -            $90000.00",
                    "$80000.00            -            $90000.00",
                    "$80000.00            -            $90000.00",
                    "$80000.00            -            $90000.00",
                    "$80000.00            -            $90000.00",
                    "$80000.00            -            $90000.00",
                    "$80000.00            -            $90000.00",
                    "$80000.00            -            $90000.00",
                    "$80000.00            -            $90000.00",
                    "$80000.00            -            $90000.00",
                    "$80000.00            -            $90000.00",
                    "$80000.00            -            $90000.00",
                    "$80000.00            -            $90000.00",
                    "$80000.00            -            $90000.00",
                    "$80000.00            -            $90000.00",
                    "$80000.00            -            $90000.00",
                    "$80000.00            -            $90000.00",
                    "$80000.00            -            $90000.00",
                    "$80000.00            -            $90000.00",
                    "$80000.00            -            $90000.00",
                    "$80000.00            -            $90000.00",
                    "$80000.00            -            $90000.00",
                    "$80000.00            -            $90000.00",
                    "$80000.00            -            $90000.00",
                    "$80000.00            -            $90000.00",
                    "$80000.00            -            $90000.00",
                    "$80000.00            -            $90000.00",
                    "$80000.00            -            $90000.00",
                    "$80000.00            -            $90000.00"
                  ],
                  "xaxis": "x",
                  "y": [
                    "United States",
                    "United States",
                    "United States",
                    "United States",
                    "United States",
                    "United States",
                    "United States",
                    "United States",
                    "United States",
                    "United States",
                    "United States",
                    "United States",
                    "United States",
                    "United States",
                    "United States",
                    "United States",
                    "United States",
                    "United States",
                    "United States",
                    "United States",
                    "United States",
                    "United States",
                    "United States",
                    "United States",
                    "United States",
                    "United States",
                    "United States",
                    "United States",
                    "United States",
                    "United States",
                    "United States",
                    "United States",
                    "United States",
                    "United States",
                    "United States"
                  ],
                  "yaxis": "y"
                },
                {
                  "hovertemplate": "Gaji=%{x}<br>Kota=%{y}<extra></extra>",
                  "legendgroup": "$59.69            -            $79.58",
                  "marker": {
                    "color": "#FF97FF",
                    "symbol": "circle"
                  },
                  "mode": "markers",
                  "name": "$59.69            -            $79.58",
                  "orientation": "v",
                  "showlegend": true,
                  "type": "scatter",
                  "x": [
                    "$59.69            -            $79.58",
                    "$59.69            -            $79.58",
                    "$59.69            -            $79.58",
                    "$59.69            -            $79.58",
                    "$59.69            -            $79.58",
                    "$59.69            -            $79.58",
                    "$59.69            -            $79.58",
                    "$59.69            -            $79.58",
                    "$59.69            -            $79.58",
                    "$59.69            -            $79.58",
                    "$59.69            -            $79.58",
                    "$59.69            -            $79.58",
                    "$59.69            -            $79.58",
                    "$59.69            -            $79.58",
                    "$59.69            -            $79.58",
                    "$59.69            -            $79.58",
                    "$59.69            -            $79.58",
                    "$59.69            -            $79.58",
                    "$59.69            -            $79.58",
                    "$59.69            -            $79.58",
                    "$59.69            -            $79.58",
                    "$59.69            -            $79.58",
                    "$59.69            -            $79.58",
                    "$59.69            -            $79.58",
                    "$59.69            -            $79.58",
                    "$59.69            -            $79.58",
                    "$59.69            -            $79.58",
                    "$59.69            -            $79.58",
                    "$59.69            -            $79.58",
                    "$59.69            -            $79.58",
                    "$59.69            -            $79.58",
                    "$59.69            -            $79.58",
                    "$59.69            -            $79.58",
                    "$59.69            -            $79.58",
                    "$59.69            -            $79.58",
                    "$59.69            -            $79.58"
                  ],
                  "xaxis": "x",
                  "y": [
                    "United States",
                    "United States",
                    "United States",
                    "United States",
                    "United States",
                    "United States",
                    "United States",
                    "United States",
                    "United States",
                    "United States",
                    "United States",
                    "United States",
                    "United States",
                    "United States",
                    "United States",
                    "United States",
                    "United States",
                    "United States",
                    "United States",
                    "United States",
                    "United States",
                    "United States",
                    "United States",
                    "United States",
                    "United States",
                    "United States",
                    "United States",
                    "United States",
                    "United States",
                    "United States",
                    "United States",
                    "United States",
                    "United States",
                    "United States",
                    "United States",
                    "United States"
                  ],
                  "yaxis": "y"
                },
                {
                  "hovertemplate": "Gaji=%{x}<br>Kota=%{y}<extra></extra>",
                  "legendgroup": "$38.00            -            $45.00",
                  "marker": {
                    "color": "#FECB52",
                    "symbol": "circle"
                  },
                  "mode": "markers",
                  "name": "$38.00            -            $45.00",
                  "orientation": "v",
                  "showlegend": true,
                  "type": "scatter",
                  "x": [
                    "$38.00            -            $45.00",
                    "$38.00            -            $45.00",
                    "$38.00            -            $45.00",
                    "$38.00            -            $45.00",
                    "$38.00            -            $45.00",
                    "$38.00            -            $45.00",
                    "$38.00            -            $45.00",
                    "$38.00            -            $45.00",
                    "$38.00            -            $45.00",
                    "$38.00            -            $45.00",
                    "$38.00            -            $45.00",
                    "$38.00            -            $45.00",
                    "$38.00            -            $45.00",
                    "$38.00            -            $45.00",
                    "$38.00            -            $45.00",
                    "$38.00            -            $45.00",
                    "$38.00            -            $45.00",
                    "$38.00            -            $45.00",
                    "$38.00            -            $45.00",
                    "$38.00            -            $45.00",
                    "$38.00            -            $45.00",
                    "$38.00            -            $45.00",
                    "$38.00            -            $45.00",
                    "$38.00            -            $45.00"
                  ],
                  "xaxis": "x",
                  "y": [
                    "United States",
                    "United States",
                    "United States",
                    "United States",
                    "United States",
                    "United States",
                    "United States",
                    "United States",
                    "United States",
                    "United States",
                    "United States",
                    "United States",
                    "United States",
                    "United States",
                    "United States",
                    "United States",
                    "United States",
                    "United States",
                    "United States",
                    "United States",
                    "United States",
                    "United States",
                    "United States",
                    "United States"
                  ],
                  "yaxis": "y"
                },
                {
                  "hovertemplate": "Gaji=%{x}<br>Kota=%{y}<extra></extra>",
                  "legendgroup": "$65000.00            -            $70000.00",
                  "marker": {
                    "color": "#636efa",
                    "symbol": "circle"
                  },
                  "mode": "markers",
                  "name": "$65000.00            -            $70000.00",
                  "orientation": "v",
                  "showlegend": true,
                  "type": "scatter",
                  "x": [
                    "$65000.00            -            $70000.00",
                    "$65000.00            -            $70000.00",
                    "$65000.00            -            $70000.00",
                    "$65000.00            -            $70000.00",
                    "$65000.00            -            $70000.00",
                    "$65000.00            -            $70000.00"
                  ],
                  "xaxis": "x",
                  "y": [
                    "United States",
                    "United States",
                    "United States",
                    "Queens, NY",
                    "Queens, NY",
                    "Queens, NY"
                  ],
                  "yaxis": "y"
                },
                {
                  "hovertemplate": "Gaji=%{x}<br>Kota=%{y}<extra></extra>",
                  "legendgroup": "$80000.00            -            $100000.00",
                  "marker": {
                    "color": "#EF553B",
                    "symbol": "circle"
                  },
                  "mode": "markers",
                  "name": "$80000.00            -            $100000.00",
                  "orientation": "v",
                  "showlegend": true,
                  "type": "scatter",
                  "x": [
                    "$80000.00            -            $100000.00",
                    "$80000.00            -            $100000.00",
                    "$80000.00            -            $100000.00"
                  ],
                  "xaxis": "x",
                  "y": [
                    "Nashville, TN",
                    "Philadelphia, PA",
                    "Houston, TX"
                  ],
                  "yaxis": "y"
                },
                {
                  "hovertemplate": "Gaji=%{x}<br>Kota=%{y}<extra></extra>",
                  "legendgroup": "$60000.00            -            $65000.00",
                  "marker": {
                    "color": "#00cc96",
                    "symbol": "circle"
                  },
                  "mode": "markers",
                  "name": "$60000.00            -            $65000.00",
                  "orientation": "v",
                  "showlegend": true,
                  "type": "scatter",
                  "x": [
                    "$60000.00            -            $65000.00",
                    "$60000.00            -            $65000.00"
                  ],
                  "xaxis": "x",
                  "y": [
                    "Austin, TX",
                    "Austin, TX"
                  ],
                  "yaxis": "y"
                },
                {
                  "hovertemplate": "Gaji=%{x}<br>Kota=%{y}<extra></extra>",
                  "legendgroup": "$70000.00            -            $70000.00",
                  "marker": {
                    "color": "#ab63fa",
                    "symbol": "circle"
                  },
                  "mode": "markers",
                  "name": "$70000.00            -            $70000.00",
                  "orientation": "v",
                  "showlegend": true,
                  "type": "scatter",
                  "x": [
                    "$70000.00            -            $70000.00",
                    "$70000.00            -            $70000.00"
                  ],
                  "xaxis": "x",
                  "y": [
                    "United States",
                    "United States"
                  ],
                  "yaxis": "y"
                },
                {
                  "hovertemplate": "Gaji=%{x}<br>Kota=%{y}<extra></extra>",
                  "legendgroup": "$75000.00            -            $93000.00",
                  "marker": {
                    "color": "#FFA15A",
                    "symbol": "circle"
                  },
                  "mode": "markers",
                  "name": "$75000.00            -            $93000.00",
                  "orientation": "v",
                  "showlegend": true,
                  "type": "scatter",
                  "x": [
                    "$75000.00            -            $93000.00"
                  ],
                  "xaxis": "x",
                  "y": [
                    "Arizona, United States"
                  ],
                  "yaxis": "y"
                },
                {
                  "hovertemplate": "Gaji=%{x}<br>Kota=%{y}<extra></extra>",
                  "legendgroup": "$40.00            -            $45.00",
                  "marker": {
                    "color": "#19d3f3",
                    "symbol": "circle"
                  },
                  "mode": "markers",
                  "name": "$40.00            -            $45.00",
                  "orientation": "v",
                  "showlegend": true,
                  "type": "scatter",
                  "x": [
                    "$40.00            -            $45.00"
                  ],
                  "xaxis": "x",
                  "y": [
                    "United States"
                  ],
                  "yaxis": "y"
                },
                {
                  "hovertemplate": "Gaji=%{x}<br>Kota=%{y}<extra></extra>",
                  "legendgroup": "$38.00            -            $43.00",
                  "marker": {
                    "color": "#FF6692",
                    "symbol": "circle"
                  },
                  "mode": "markers",
                  "name": "$38.00            -            $43.00",
                  "orientation": "v",
                  "showlegend": true,
                  "type": "scatter",
                  "x": [
                    "$38.00            -            $43.00"
                  ],
                  "xaxis": "x",
                  "y": [
                    "United States"
                  ],
                  "yaxis": "y"
                },
                {
                  "hovertemplate": "Gaji=%{x}<br>Kota=%{y}<extra></extra>",
                  "legendgroup": "$90000.00            -            $120000.00",
                  "marker": {
                    "color": "#B6E880",
                    "symbol": "circle"
                  },
                  "mode": "markers",
                  "name": "$90000.00            -            $120000.00",
                  "orientation": "v",
                  "showlegend": true,
                  "type": "scatter",
                  "x": [
                    "$90000.00            -            $120000.00",
                    "$90000.00            -            $120000.00",
                    "$90000.00            -            $120000.00",
                    "$90000.00            -            $120000.00",
                    "$90000.00            -            $120000.00",
                    "$90000.00            -            $120000.00",
                    "$90000.00            -            $120000.00",
                    "$90000.00            -            $120000.00",
                    "$90000.00            -            $120000.00",
                    "$90000.00            -            $120000.00",
                    "$90000.00            -            $120000.00",
                    "$90000.00            -            $120000.00",
                    "$90000.00            -            $120000.00",
                    "$90000.00            -            $120000.00",
                    "$90000.00            -            $120000.00",
                    "$90000.00            -            $120000.00",
                    "$90000.00            -            $120000.00",
                    "$90000.00            -            $120000.00",
                    "$90000.00            -            $120000.00",
                    "$90000.00            -            $120000.00",
                    "$90000.00            -            $120000.00",
                    "$90000.00            -            $120000.00",
                    "$90000.00            -            $120000.00",
                    "$90000.00            -            $120000.00",
                    "$90000.00            -            $120000.00",
                    "$90000.00            -            $120000.00",
                    "$90000.00            -            $120000.00",
                    "$90000.00            -            $120000.00",
                    "$90000.00            -            $120000.00",
                    "$90000.00            -            $120000.00"
                  ],
                  "xaxis": "x",
                  "y": [
                    "New York City Metropolitan Area",
                    "New York City Metropolitan Area",
                    "New York City Metropolitan Area",
                    "New York City Metropolitan Area",
                    "New York City Metropolitan Area",
                    "New York City Metropolitan Area",
                    "New York City Metropolitan Area",
                    "New York City Metropolitan Area",
                    "New York City Metropolitan Area",
                    "New York City Metropolitan Area",
                    "New York City Metropolitan Area",
                    "New York City Metropolitan Area",
                    "New York City Metropolitan Area",
                    "New York City Metropolitan Area",
                    "New York City Metropolitan Area",
                    "New York City Metropolitan Area",
                    "New York City Metropolitan Area",
                    "New York City Metropolitan Area",
                    "New York City Metropolitan Area",
                    "New York City Metropolitan Area",
                    "New York City Metropolitan Area",
                    "New York City Metropolitan Area",
                    "New York City Metropolitan Area",
                    "New York City Metropolitan Area",
                    "New York City Metropolitan Area",
                    "New York City Metropolitan Area",
                    "New York City Metropolitan Area",
                    "New York City Metropolitan Area",
                    "New York City Metropolitan Area",
                    "New York City Metropolitan Area"
                  ],
                  "yaxis": "y"
                },
                {
                  "hovertemplate": "Gaji=%{x}<br>Kota=%{y}<extra></extra>",
                  "legendgroup": "$73036.00            -            $105901.00",
                  "marker": {
                    "color": "#FF97FF",
                    "symbol": "circle"
                  },
                  "mode": "markers",
                  "name": "$73036.00            -            $105901.00",
                  "orientation": "v",
                  "showlegend": true,
                  "type": "scatter",
                  "x": [
                    "$73036.00            -            $105901.00",
                    "$73036.00            -            $105901.00",
                    "$73036.00            -            $105901.00",
                    "$73036.00            -            $105901.00",
                    "$73036.00            -            $105901.00",
                    "$73036.00            -            $105901.00",
                    "$73036.00            -            $105901.00",
                    "$73036.00            -            $105901.00",
                    "$73036.00            -            $105901.00",
                    "$73036.00            -            $105901.00",
                    "$73036.00            -            $105901.00",
                    "$73036.00            -            $105901.00",
                    "$73036.00            -            $105901.00",
                    "$73036.00            -            $105901.00",
                    "$73036.00            -            $105901.00",
                    "$73036.00            -            $105901.00",
                    "$73036.00            -            $105901.00",
                    "$73036.00            -            $105901.00",
                    "$73036.00            -            $105901.00",
                    "$73036.00            -            $105901.00",
                    "$73036.00            -            $105901.00",
                    "$73036.00            -            $105901.00",
                    "$73036.00            -            $105901.00",
                    "$73036.00            -            $105901.00",
                    "$73036.00            -            $105901.00",
                    "$73036.00            -            $105901.00",
                    "$73036.00            -            $105901.00",
                    "$73036.00            -            $105901.00",
                    "$73036.00            -            $105901.00",
                    "$73036.00            -            $105901.00",
                    "$73036.00            -            $105901.00",
                    "$73036.00            -            $105901.00",
                    "$73036.00            -            $105901.00",
                    "$73036.00            -            $105901.00",
                    "$73036.00            -            $105901.00"
                  ],
                  "xaxis": "x",
                  "y": [
                    "Conshohocken, PA",
                    "Conshohocken, PA",
                    "Conshohocken, PA",
                    "Conshohocken, PA",
                    "Conshohocken, PA",
                    "Conshohocken, PA",
                    "Conshohocken, PA",
                    "Conshohocken, PA",
                    "Conshohocken, PA",
                    "Conshohocken, PA",
                    "Conshohocken, PA",
                    "Conshohocken, PA",
                    "Conshohocken, PA",
                    "Conshohocken, PA",
                    "Conshohocken, PA",
                    "Conshohocken, PA",
                    "Conshohocken, PA",
                    "Conshohocken, PA",
                    "Conshohocken, PA",
                    "Conshohocken, PA",
                    "Conshohocken, PA",
                    "Conshohocken, PA",
                    "Conshohocken, PA",
                    "Conshohocken, PA",
                    "Conshohocken, PA",
                    "Conshohocken, PA",
                    "Conshohocken, PA",
                    "Conshohocken, PA",
                    "Conshohocken, PA",
                    "Conshohocken, PA",
                    "Conshohocken, PA",
                    "Conshohocken, PA",
                    "Conshohocken, PA",
                    "Conshohocken, PA",
                    "Conshohocken, PA"
                  ],
                  "yaxis": "y"
                },
                {
                  "hovertemplate": "Gaji=%{x}<br>Kota=%{y}<extra></extra>",
                  "legendgroup": "$75000.00            -            $90000.00",
                  "marker": {
                    "color": "#FECB52",
                    "symbol": "circle"
                  },
                  "mode": "markers",
                  "name": "$75000.00            -            $90000.00",
                  "orientation": "v",
                  "showlegend": true,
                  "type": "scatter",
                  "x": [
                    "$75000.00            -            $90000.00",
                    "$75000.00            -            $90000.00",
                    "$75000.00            -            $90000.00",
                    "$75000.00            -            $90000.00",
                    "$75000.00            -            $90000.00",
                    "$75000.00            -            $90000.00",
                    "$75000.00            -            $90000.00",
                    "$75000.00            -            $90000.00",
                    "$75000.00            -            $90000.00",
                    "$75000.00            -            $90000.00",
                    "$75000.00            -            $90000.00",
                    "$75000.00            -            $90000.00",
                    "$75000.00            -            $90000.00",
                    "$75000.00            -            $90000.00",
                    "$75000.00            -            $90000.00",
                    "$75000.00            -            $90000.00",
                    "$75000.00            -            $90000.00"
                  ],
                  "xaxis": "x",
                  "y": [
                    "New York City Metropolitan Area",
                    "New York City Metropolitan Area",
                    "New York City Metropolitan Area",
                    "New York City Metropolitan Area",
                    "New York City Metropolitan Area",
                    "New York City Metropolitan Area",
                    "New York City Metropolitan Area",
                    "New York City Metropolitan Area",
                    "New York City Metropolitan Area",
                    "New York City Metropolitan Area",
                    "New York City Metropolitan Area",
                    "New York City Metropolitan Area",
                    "New York City Metropolitan Area",
                    "New York City Metropolitan Area",
                    "New York City Metropolitan Area",
                    "New York City Metropolitan Area",
                    "New York City Metropolitan Area"
                  ],
                  "yaxis": "y"
                },
                {
                  "hovertemplate": "Gaji=%{x}<br>Kota=%{y}<extra></extra>",
                  "legendgroup": "$60.00            -            $60.00",
                  "marker": {
                    "color": "#636efa",
                    "symbol": "circle"
                  },
                  "mode": "markers",
                  "name": "$60.00            -            $60.00",
                  "orientation": "v",
                  "showlegend": true,
                  "type": "scatter",
                  "x": [
                    "$60.00            -            $60.00",
                    "$60.00            -            $60.00",
                    "$60.00            -            $60.00",
                    "$60.00            -            $60.00",
                    "$60.00            -            $60.00",
                    "$60.00            -            $60.00",
                    "$60.00            -            $60.00",
                    "$60.00            -            $60.00",
                    "$60.00            -            $60.00",
                    "$60.00            -            $60.00",
                    "$60.00            -            $60.00",
                    "$60.00            -            $60.00",
                    "$60.00            -            $60.00",
                    "$60.00            -            $60.00",
                    "$60.00            -            $60.00",
                    "$60.00            -            $60.00",
                    "$60.00            -            $60.00",
                    "$60.00            -            $60.00",
                    "$60.00            -            $60.00",
                    "$60.00            -            $60.00",
                    "$60.00            -            $60.00",
                    "$60.00            -            $60.00",
                    "$60.00            -            $60.00",
                    "$60.00            -            $60.00",
                    "$60.00            -            $60.00",
                    "$60.00            -            $60.00",
                    "$60.00            -            $60.00",
                    "$60.00            -            $60.00",
                    "$60.00            -            $60.00",
                    "$60.00            -            $60.00",
                    "$60.00            -            $60.00",
                    "$60.00            -            $60.00",
                    "$60.00            -            $60.00",
                    "$60.00            -            $60.00",
                    "$60.00            -            $60.00",
                    "$60.00            -            $60.00",
                    "$60.00            -            $60.00"
                  ],
                  "xaxis": "x",
                  "y": [
                    "Greensboro--Winston-Salem--High Point Area",
                    "Greensboro--Winston-Salem--High Point Area",
                    "Greensboro--Winston-Salem--High Point Area",
                    "Greensboro--Winston-Salem--High Point Area",
                    "Greensboro--Winston-Salem--High Point Area",
                    "Greensboro--Winston-Salem--High Point Area",
                    "Greensboro--Winston-Salem--High Point Area",
                    "Greensboro--Winston-Salem--High Point Area",
                    "Greensboro--Winston-Salem--High Point Area",
                    "Greensboro--Winston-Salem--High Point Area",
                    "Greensboro--Winston-Salem--High Point Area",
                    "Greensboro--Winston-Salem--High Point Area",
                    "Greensboro--Winston-Salem--High Point Area",
                    "Greensboro--Winston-Salem--High Point Area",
                    "Greensboro--Winston-Salem--High Point Area",
                    "Greensboro--Winston-Salem--High Point Area",
                    "Greensboro--Winston-Salem--High Point Area",
                    "Greensboro--Winston-Salem--High Point Area",
                    "Greensboro--Winston-Salem--High Point Area",
                    "Greensboro--Winston-Salem--High Point Area",
                    "Greensboro--Winston-Salem--High Point Area",
                    "Greensboro--Winston-Salem--High Point Area",
                    "Greensboro--Winston-Salem--High Point Area",
                    "Greensboro--Winston-Salem--High Point Area",
                    "Greensboro--Winston-Salem--High Point Area",
                    "Greensboro--Winston-Salem--High Point Area",
                    "Greensboro--Winston-Salem--High Point Area",
                    "Greensboro--Winston-Salem--High Point Area",
                    "Greensboro--Winston-Salem--High Point Area",
                    "Greensboro--Winston-Salem--High Point Area",
                    "Greensboro--Winston-Salem--High Point Area",
                    "Greensboro--Winston-Salem--High Point Area",
                    "Greensboro--Winston-Salem--High Point Area",
                    "Greensboro--Winston-Salem--High Point Area",
                    "Greensboro--Winston-Salem--High Point Area",
                    "Greensboro--Winston-Salem--High Point Area",
                    "Greensboro--Winston-Salem--High Point Area"
                  ],
                  "yaxis": "y"
                },
                {
                  "hovertemplate": "Gaji=%{x}<br>Kota=%{y}<extra></extra>",
                  "legendgroup": "$40.00            -            $60.00",
                  "marker": {
                    "color": "#EF553B",
                    "symbol": "circle"
                  },
                  "mode": "markers",
                  "name": "$40.00            -            $60.00",
                  "orientation": "v",
                  "showlegend": true,
                  "type": "scatter",
                  "x": [
                    "$40.00            -            $60.00",
                    "$40.00            -            $60.00",
                    "$40.00            -            $60.00",
                    "$40.00            -            $60.00",
                    "$40.00            -            $60.00",
                    "$40.00            -            $60.00",
                    "$40.00            -            $60.00",
                    "$40.00            -            $60.00",
                    "$40.00            -            $60.00",
                    "$40.00            -            $60.00",
                    "$40.00            -            $60.00",
                    "$40.00            -            $60.00",
                    "$40.00            -            $60.00",
                    "$40.00            -            $60.00",
                    "$40.00            -            $60.00",
                    "$40.00            -            $60.00",
                    "$40.00            -            $60.00",
                    "$40.00            -            $60.00",
                    "$40.00            -            $60.00",
                    "$40.00            -            $60.00",
                    "$40.00            -            $60.00",
                    "$40.00            -            $60.00",
                    "$40.00            -            $60.00",
                    "$40.00            -            $60.00",
                    "$40.00            -            $60.00",
                    "$40.00            -            $60.00",
                    "$40.00            -            $60.00",
                    "$40.00            -            $60.00",
                    "$40.00            -            $60.00",
                    "$40.00            -            $60.00",
                    "$40.00            -            $60.00",
                    "$40.00            -            $60.00",
                    "$40.00            -            $60.00",
                    "$40.00            -            $60.00",
                    "$40.00            -            $60.00",
                    "$40.00            -            $60.00",
                    "$40.00            -            $60.00"
                  ],
                  "xaxis": "x",
                  "y": [
                    "New York City Metropolitan Area",
                    "New York City Metropolitan Area",
                    "New York City Metropolitan Area",
                    "New York City Metropolitan Area",
                    "New York City Metropolitan Area",
                    "New York City Metropolitan Area",
                    "New York City Metropolitan Area",
                    "New York City Metropolitan Area",
                    "New York City Metropolitan Area",
                    "New York City Metropolitan Area",
                    "New York City Metropolitan Area",
                    "New York City Metropolitan Area",
                    "New York City Metropolitan Area",
                    "New York City Metropolitan Area",
                    "New York City Metropolitan Area",
                    "New York City Metropolitan Area",
                    "New York City Metropolitan Area",
                    "New York City Metropolitan Area",
                    "New York City Metropolitan Area",
                    "New York City Metropolitan Area",
                    "New York City Metropolitan Area",
                    "New York City Metropolitan Area",
                    "New York City Metropolitan Area",
                    "New York City Metropolitan Area",
                    "New York City Metropolitan Area",
                    "New York City Metropolitan Area",
                    "New York City Metropolitan Area",
                    "New York City Metropolitan Area",
                    "New York City Metropolitan Area",
                    "New York City Metropolitan Area",
                    "New York City Metropolitan Area",
                    "New York City Metropolitan Area",
                    "New York City Metropolitan Area",
                    "New York City Metropolitan Area",
                    "New York City Metropolitan Area",
                    "New York City Metropolitan Area",
                    "New York City Metropolitan Area"
                  ],
                  "yaxis": "y"
                },
                {
                  "hovertemplate": "Gaji=%{x}<br>Kota=%{y}<extra></extra>",
                  "legendgroup": "$30.00            -            $33.00",
                  "marker": {
                    "color": "#00cc96",
                    "symbol": "circle"
                  },
                  "mode": "markers",
                  "name": "$30.00            -            $33.00",
                  "orientation": "v",
                  "showlegend": true,
                  "type": "scatter",
                  "x": [
                    "$30.00            -            $33.00",
                    "$30.00            -            $33.00",
                    "$30.00            -            $33.00",
                    "$30.00            -            $33.00",
                    "$30.00            -            $33.00",
                    "$30.00            -            $33.00",
                    "$30.00            -            $33.00",
                    "$30.00            -            $33.00",
                    "$30.00            -            $33.00",
                    "$30.00            -            $33.00",
                    "$30.00            -            $33.00",
                    "$30.00            -            $33.00",
                    "$30.00            -            $33.00",
                    "$30.00            -            $33.00",
                    "$30.00            -            $33.00",
                    "$30.00            -            $33.00",
                    "$30.00            -            $33.00",
                    "$30.00            -            $33.00",
                    "$30.00            -            $33.00",
                    "$30.00            -            $33.00",
                    "$30.00            -            $33.00",
                    "$30.00            -            $33.00",
                    "$30.00            -            $33.00",
                    "$30.00            -            $33.00",
                    "$30.00            -            $33.00",
                    "$30.00            -            $33.00",
                    "$30.00            -            $33.00",
                    "$30.00            -            $33.00",
                    "$30.00            -            $33.00",
                    "$30.00            -            $33.00",
                    "$30.00            -            $33.00",
                    "$30.00            -            $33.00",
                    "$30.00            -            $33.00",
                    "$30.00            -            $33.00",
                    "$30.00            -            $33.00",
                    "$30.00            -            $33.00",
                    "$30.00            -            $33.00"
                  ],
                  "xaxis": "x",
                  "y": [
                    "Denver Metropolitan Area",
                    "Denver Metropolitan Area",
                    "Denver Metropolitan Area",
                    "Denver Metropolitan Area",
                    "Denver Metropolitan Area",
                    "Denver Metropolitan Area",
                    "Denver Metropolitan Area",
                    "Denver Metropolitan Area",
                    "Denver Metropolitan Area",
                    "Denver Metropolitan Area",
                    "Denver Metropolitan Area",
                    "Denver Metropolitan Area",
                    "Denver Metropolitan Area",
                    "Denver Metropolitan Area",
                    "Denver Metropolitan Area",
                    "Denver Metropolitan Area",
                    "Plano, TX",
                    "Denver Metropolitan Area",
                    "Denver Metropolitan Area",
                    "Denver Metropolitan Area",
                    "Denver Metropolitan Area",
                    "Denver Metropolitan Area",
                    "Denver Metropolitan Area",
                    "Denver Metropolitan Area",
                    "Denver Metropolitan Area",
                    "Denver Metropolitan Area",
                    "Denver Metropolitan Area",
                    "Denver Metropolitan Area",
                    "Denver Metropolitan Area",
                    "Denver Metropolitan Area",
                    "Denver Metropolitan Area",
                    "Denver Metropolitan Area",
                    "Denver Metropolitan Area",
                    "Denver Metropolitan Area",
                    "Denver Metropolitan Area",
                    "Denver Metropolitan Area",
                    "Denver Metropolitan Area"
                  ],
                  "yaxis": "y"
                },
                {
                  "hovertemplate": "Gaji=%{x}<br>Kota=%{y}<extra></extra>",
                  "legendgroup": "$120000.00            -            $130000.00",
                  "marker": {
                    "color": "#ab63fa",
                    "symbol": "circle"
                  },
                  "mode": "markers",
                  "name": "$120000.00            -            $130000.00",
                  "orientation": "v",
                  "showlegend": true,
                  "type": "scatter",
                  "x": [
                    "$120000.00            -            $130000.00",
                    "$120000.00            -            $130000.00",
                    "$120000.00            -            $130000.00",
                    "$120000.00            -            $130000.00",
                    "$120000.00            -            $130000.00",
                    "$120000.00            -            $130000.00",
                    "$120000.00            -            $130000.00",
                    "$120000.00            -            $130000.00",
                    "$120000.00            -            $130000.00",
                    "$120000.00            -            $130000.00",
                    "$120000.00            -            $130000.00",
                    "$120000.00            -            $130000.00",
                    "$120000.00            -            $130000.00",
                    "$120000.00            -            $130000.00",
                    "$120000.00            -            $130000.00",
                    "$120000.00            -            $130000.00",
                    "$120000.00            -            $130000.00",
                    "$120000.00            -            $130000.00",
                    "$120000.00            -            $130000.00",
                    "$120000.00            -            $130000.00",
                    "$120000.00            -            $130000.00",
                    "$120000.00            -            $130000.00",
                    "$120000.00            -            $130000.00",
                    "$120000.00            -            $130000.00",
                    "$120000.00            -            $130000.00",
                    "$120000.00            -            $130000.00",
                    "$120000.00            -            $130000.00",
                    "$120000.00            -            $130000.00",
                    "$120000.00            -            $130000.00",
                    "$120000.00            -            $130000.00",
                    "$120000.00            -            $130000.00",
                    "$120000.00            -            $130000.00",
                    "$120000.00            -            $130000.00",
                    "$120000.00            -            $130000.00",
                    "$120000.00            -            $130000.00",
                    "$120000.00            -            $130000.00"
                  ],
                  "xaxis": "x",
                  "y": [
                    "District of Columbia, United States",
                    "District of Columbia, United States",
                    "District of Columbia, United States",
                    "District of Columbia, United States",
                    "District of Columbia, United States",
                    "District of Columbia, United States",
                    "District of Columbia, United States",
                    "District of Columbia, United States",
                    "District of Columbia, United States",
                    "District of Columbia, United States",
                    "District of Columbia, United States",
                    "District of Columbia, United States",
                    "District of Columbia, United States",
                    "District of Columbia, United States",
                    "District of Columbia, United States",
                    "District of Columbia, United States",
                    "District of Columbia, United States",
                    "District of Columbia, United States",
                    "District of Columbia, United States",
                    "District of Columbia, United States",
                    "District of Columbia, United States",
                    "District of Columbia, United States",
                    "District of Columbia, United States",
                    "District of Columbia, United States",
                    "District of Columbia, United States",
                    "District of Columbia, United States",
                    "District of Columbia, United States",
                    "District of Columbia, United States",
                    "District of Columbia, United States",
                    "District of Columbia, United States",
                    "District of Columbia, United States",
                    "District of Columbia, United States",
                    "District of Columbia, United States",
                    "District of Columbia, United States",
                    "District of Columbia, United States",
                    "District of Columbia, United States"
                  ],
                  "yaxis": "y"
                },
                {
                  "hovertemplate": "Gaji=%{x}<br>Kota=%{y}<extra></extra>",
                  "legendgroup": "$22.00            -            $24.00",
                  "marker": {
                    "color": "#FFA15A",
                    "symbol": "circle"
                  },
                  "mode": "markers",
                  "name": "$22.00            -            $24.00",
                  "orientation": "v",
                  "showlegend": true,
                  "type": "scatter",
                  "x": [
                    "$22.00            -            $24.00",
                    "$22.00            -            $24.00",
                    "$22.00            -            $24.00",
                    "$22.00            -            $24.00",
                    "$22.00            -            $24.00",
                    "$22.00            -            $24.00",
                    "$22.00            -            $24.00",
                    "$22.00            -            $24.00",
                    "$22.00            -            $24.00",
                    "$22.00            -            $24.00",
                    "$22.00            -            $24.00",
                    "$22.00            -            $24.00",
                    "$22.00            -            $24.00",
                    "$22.00            -            $24.00",
                    "$22.00            -            $24.00",
                    "$22.00            -            $24.00",
                    "$22.00            -            $24.00",
                    "$22.00            -            $24.00",
                    "$22.00            -            $24.00",
                    "$22.00            -            $24.00",
                    "$22.00            -            $24.00",
                    "$22.00            -            $24.00",
                    "$22.00            -            $24.00",
                    "$22.00            -            $24.00",
                    "$22.00            -            $24.00",
                    "$22.00            -            $24.00",
                    "$22.00            -            $24.00",
                    "$22.00            -            $24.00",
                    "$22.00            -            $24.00",
                    "$22.00            -            $24.00",
                    "$22.00            -            $24.00",
                    "$22.00            -            $24.00",
                    "$22.00            -            $24.00",
                    "$22.00            -            $24.00",
                    "$22.00            -            $24.00"
                  ],
                  "xaxis": "x",
                  "y": [
                    "Richfield, MN",
                    "Richfield, MN",
                    "Richfield, MN",
                    "Richfield, MN",
                    "Richfield, MN",
                    "Richfield, MN",
                    "Richfield, MN",
                    "Richfield, MN",
                    "Richfield, MN",
                    "Richfield, MN",
                    "Richfield, MN",
                    "Richfield, MN",
                    "Richfield, MN",
                    "Richfield, MN",
                    "Richfield, MN",
                    "Richfield, MN",
                    "Richfield, MN",
                    "Richfield, MN",
                    "Richfield, MN",
                    "Richfield, MN",
                    "Richfield, MN",
                    "Richfield, MN",
                    "Richfield, MN",
                    "Richfield, MN",
                    "Richfield, MN",
                    "Richfield, MN",
                    "Richfield, MN",
                    "Richfield, MN",
                    "Richfield, MN",
                    "Richfield, MN",
                    "Richfield, MN",
                    "Richfield, MN",
                    "Richfield, MN",
                    "Richfield, MN",
                    "Richfield, MN"
                  ],
                  "yaxis": "y"
                },
                {
                  "hovertemplate": "Gaji=%{x}<br>Kota=%{y}<extra></extra>",
                  "legendgroup": "$40.00            -            $100.00",
                  "marker": {
                    "color": "#19d3f3",
                    "symbol": "circle"
                  },
                  "mode": "markers",
                  "name": "$40.00            -            $100.00",
                  "orientation": "v",
                  "showlegend": true,
                  "type": "scatter",
                  "x": [
                    "$40.00            -            $100.00",
                    "$40.00            -            $100.00",
                    "$40.00            -            $100.00",
                    "$40.00            -            $100.00",
                    "$40.00            -            $100.00",
                    "$40.00            -            $100.00",
                    "$40.00            -            $100.00",
                    "$40.00            -            $100.00",
                    "$40.00            -            $100.00",
                    "$40.00            -            $100.00",
                    "$40.00            -            $100.00",
                    "$40.00            -            $100.00",
                    "$40.00            -            $100.00",
                    "$40.00            -            $100.00",
                    "$40.00            -            $100.00",
                    "$40.00            -            $100.00",
                    "$40.00            -            $100.00",
                    "$40.00            -            $100.00",
                    "$40.00            -            $100.00",
                    "$40.00            -            $100.00",
                    "$40.00            -            $100.00"
                  ],
                  "xaxis": "x",
                  "y": [
                    "Pennsylvania, United States",
                    "Pennsylvania, United States",
                    "Pennsylvania, United States",
                    "Pennsylvania, United States",
                    "Pennsylvania, United States",
                    "Pennsylvania, United States",
                    "Pennsylvania, United States",
                    "Pennsylvania, United States",
                    "Pennsylvania, United States",
                    "Pennsylvania, United States",
                    "Pennsylvania, United States",
                    "Pennsylvania, United States",
                    "Pennsylvania, United States",
                    "Pennsylvania, United States",
                    "Pennsylvania, United States",
                    "Pennsylvania, United States",
                    "Pennsylvania, United States",
                    "Pennsylvania, United States",
                    "Pennsylvania, United States",
                    "Pennsylvania, United States",
                    "Pennsylvania, United States"
                  ],
                  "yaxis": "y"
                },
                {
                  "hovertemplate": "Gaji=%{x}<br>Kota=%{y}<extra></extra>",
                  "legendgroup": "$75000.00            -            $95000.00",
                  "marker": {
                    "color": "#FF6692",
                    "symbol": "circle"
                  },
                  "mode": "markers",
                  "name": "$75000.00            -            $95000.00",
                  "orientation": "v",
                  "showlegend": true,
                  "type": "scatter",
                  "x": [
                    "$75000.00            -            $95000.00",
                    "$75000.00            -            $95000.00",
                    "$75000.00            -            $95000.00",
                    "$75000.00            -            $95000.00",
                    "$75000.00            -            $95000.00",
                    "$75000.00            -            $95000.00",
                    "$75000.00            -            $95000.00",
                    "$75000.00            -            $95000.00",
                    "$75000.00            -            $95000.00",
                    "$75000.00            -            $95000.00",
                    "$75000.00            -            $95000.00",
                    "$75000.00            -            $95000.00",
                    "$75000.00            -            $95000.00",
                    "$75000.00            -            $95000.00",
                    "$75000.00            -            $95000.00",
                    "$75000.00            -            $95000.00",
                    "$75000.00            -            $95000.00",
                    "$75000.00            -            $95000.00",
                    "$75000.00            -            $95000.00",
                    "$75000.00            -            $95000.00",
                    "$75000.00            -            $95000.00",
                    "$75000.00            -            $95000.00",
                    "$75000.00            -            $95000.00"
                  ],
                  "xaxis": "x",
                  "y": [
                    "New York City Metropolitan Area",
                    "New York City Metropolitan Area",
                    "New York City Metropolitan Area",
                    "New York City Metropolitan Area",
                    "New York City Metropolitan Area",
                    "New York City Metropolitan Area",
                    "New York City Metropolitan Area",
                    "New York City Metropolitan Area",
                    "New York City Metropolitan Area",
                    "New York City Metropolitan Area",
                    "New York City Metropolitan Area",
                    "New York City Metropolitan Area",
                    "New York City Metropolitan Area",
                    "New York City Metropolitan Area",
                    "New York City Metropolitan Area",
                    "New York City Metropolitan Area",
                    "New York City Metropolitan Area",
                    "New York City Metropolitan Area",
                    "New York City Metropolitan Area",
                    "New York City Metropolitan Area",
                    "New York City Metropolitan Area",
                    "New York City Metropolitan Area",
                    "New York City Metropolitan Area"
                  ],
                  "yaxis": "y"
                },
                {
                  "hovertemplate": "Gaji=%{x}<br>Kota=%{y}<extra></extra>",
                  "legendgroup": "$130000.00            -            $150000.00",
                  "marker": {
                    "color": "#B6E880",
                    "symbol": "circle"
                  },
                  "mode": "markers",
                  "name": "$130000.00            -            $150000.00",
                  "orientation": "v",
                  "showlegend": true,
                  "type": "scatter",
                  "x": [
                    "$130000.00            -            $150000.00",
                    "$130000.00            -            $150000.00",
                    "$130000.00            -            $150000.00",
                    "$130000.00            -            $150000.00",
                    "$130000.00            -            $150000.00",
                    "$130000.00            -            $150000.00",
                    "$130000.00            -            $150000.00",
                    "$130000.00            -            $150000.00",
                    "$130000.00            -            $150000.00",
                    "$130000.00            -            $150000.00",
                    "$130000.00            -            $150000.00",
                    "$130000.00            -            $150000.00",
                    "$130000.00            -            $150000.00",
                    "$130000.00            -            $150000.00",
                    "$130000.00            -            $150000.00",
                    "$130000.00            -            $150000.00"
                  ],
                  "xaxis": "x",
                  "y": [
                    "Burbank, CA",
                    "Burbank, CA",
                    "Burbank, CA",
                    "Burbank, CA",
                    "Burbank, CA",
                    "Burbank, CA",
                    "Burbank, CA",
                    "Burbank, CA",
                    "Burbank, CA",
                    "Burbank, CA",
                    "Burbank, CA",
                    "Burbank, CA",
                    "Burbank, CA",
                    "Burbank, CA",
                    "Burbank, CA",
                    "Burbank, CA"
                  ],
                  "yaxis": "y"
                },
                {
                  "hovertemplate": "Gaji=%{x}<br>Kota=%{y}<extra></extra>",
                  "legendgroup": "$28.00            -            $30.00",
                  "marker": {
                    "color": "#FF97FF",
                    "symbol": "circle"
                  },
                  "mode": "markers",
                  "name": "$28.00            -            $30.00",
                  "orientation": "v",
                  "showlegend": true,
                  "type": "scatter",
                  "x": [
                    "$28.00            -            $30.00",
                    "$28.00            -            $30.00",
                    "$28.00            -            $30.00",
                    "$28.00            -            $30.00",
                    "$28.00            -            $30.00",
                    "$28.00            -            $30.00",
                    "$28.00            -            $30.00",
                    "$28.00            -            $30.00",
                    "$28.00            -            $30.00",
                    "$28.00            -            $30.00"
                  ],
                  "xaxis": "x",
                  "y": [
                    "Morris Plains, NJ",
                    "Atlanta, GA",
                    "Morris Plains, NJ",
                    "Atlanta, GA",
                    "Morris Plains, NJ",
                    "Atlanta, GA",
                    "Atlanta, GA",
                    "Morris Plains, NJ",
                    "Morris Plains, NJ",
                    "Atlanta, GA"
                  ],
                  "yaxis": "y"
                },
                {
                  "hovertemplate": "Gaji=%{x}<br>Kota=%{y}<extra></extra>",
                  "legendgroup": "$35.00            -            $37.00",
                  "marker": {
                    "color": "#FECB52",
                    "symbol": "circle"
                  },
                  "mode": "markers",
                  "name": "$35.00            -            $37.00",
                  "orientation": "v",
                  "showlegend": true,
                  "type": "scatter",
                  "x": [
                    "$35.00            -            $37.00",
                    "$35.00            -            $37.00",
                    "$35.00            -            $37.00",
                    "$35.00            -            $37.00",
                    "$35.00            -            $37.00"
                  ],
                  "xaxis": "x",
                  "y": [
                    "Burbank, CA",
                    "Burbank, CA",
                    "Burbank, CA",
                    "Burbank, CA",
                    "Burbank, CA"
                  ],
                  "yaxis": "y"
                },
                {
                  "hovertemplate": "Gaji=%{x}<br>Kota=%{y}<extra></extra>",
                  "legendgroup": "$30.00            -            $40.00",
                  "marker": {
                    "color": "#636efa",
                    "symbol": "circle"
                  },
                  "mode": "markers",
                  "name": "$30.00            -            $40.00",
                  "orientation": "v",
                  "showlegend": true,
                  "type": "scatter",
                  "x": [
                    "$30.00            -            $40.00",
                    "$30.00            -            $40.00",
                    "$30.00            -            $40.00",
                    "$30.00            -            $40.00",
                    "$30.00            -            $40.00"
                  ],
                  "xaxis": "x",
                  "y": [
                    "Novato, CA",
                    "Novato, CA",
                    "Novato, CA",
                    "Novato, CA",
                    "Novato, CA"
                  ],
                  "yaxis": "y"
                },
                {
                  "hovertemplate": "Gaji=%{x}<br>Kota=%{y}<extra></extra>",
                  "legendgroup": "$100000.00            -            $115000.00",
                  "marker": {
                    "color": "#EF553B",
                    "symbol": "circle"
                  },
                  "mode": "markers",
                  "name": "$100000.00            -            $115000.00",
                  "orientation": "v",
                  "showlegend": true,
                  "type": "scatter",
                  "x": [
                    "$100000.00            -            $115000.00",
                    "$100000.00            -            $115000.00",
                    "$100000.00            -            $115000.00"
                  ],
                  "xaxis": "x",
                  "y": [
                    "Los Angeles Metropolitan Area",
                    "Los Angeles Metropolitan Area",
                    "Los Angeles Metropolitan Area"
                  ],
                  "yaxis": "y"
                },
                {
                  "hovertemplate": "Gaji=%{x}<br>Kota=%{y}<extra></extra>",
                  "legendgroup": "$120000.00            -            $150000.00",
                  "marker": {
                    "color": "#00cc96",
                    "symbol": "circle"
                  },
                  "mode": "markers",
                  "name": "$120000.00            -            $150000.00",
                  "orientation": "v",
                  "showlegend": true,
                  "type": "scatter",
                  "x": [
                    "$120000.00            -            $150000.00"
                  ],
                  "xaxis": "x",
                  "y": [
                    "Atlanta Metropolitan Area"
                  ],
                  "yaxis": "y"
                },
                {
                  "hovertemplate": "Gaji=%{x}<br>Kota=%{y}<extra></extra>",
                  "legendgroup": "$80000.00            -            $95000.00",
                  "marker": {
                    "color": "#ab63fa",
                    "symbol": "circle"
                  },
                  "mode": "markers",
                  "name": "$80000.00            -            $95000.00",
                  "orientation": "v",
                  "showlegend": true,
                  "type": "scatter",
                  "x": [
                    "$80000.00            -            $95000.00"
                  ],
                  "xaxis": "x",
                  "y": [
                    "New Haven, CT"
                  ],
                  "yaxis": "y"
                },
                {
                  "hovertemplate": "Gaji=%{x}<br>Kota=%{y}<extra></extra>",
                  "legendgroup": "$80000.00            -            $102000.00",
                  "marker": {
                    "color": "#FFA15A",
                    "symbol": "circle"
                  },
                  "mode": "markers",
                  "name": "$80000.00            -            $102000.00",
                  "orientation": "v",
                  "showlegend": true,
                  "type": "scatter",
                  "x": [
                    "$80000.00            -            $102000.00"
                  ],
                  "xaxis": "x",
                  "y": [
                    "Houston, TX"
                  ],
                  "yaxis": "y"
                },
                {
                  "hovertemplate": "Gaji=%{x}<br>Kota=%{y}<extra></extra>",
                  "legendgroup": "$68.00            -            $70.00",
                  "marker": {
                    "color": "#19d3f3",
                    "symbol": "circle"
                  },
                  "mode": "markers",
                  "name": "$68.00            -            $70.00",
                  "orientation": "v",
                  "showlegend": true,
                  "type": "scatter",
                  "x": [
                    "$68.00            -            $70.00"
                  ],
                  "xaxis": "x",
                  "y": [
                    "Charlotte Metro"
                  ],
                  "yaxis": "y"
                },
                {
                  "hovertemplate": "Gaji=%{x}<br>Kota=%{y}<extra></extra>",
                  "legendgroup": "$90000.00            -            $135000.00",
                  "marker": {
                    "color": "#FF6692",
                    "symbol": "circle"
                  },
                  "mode": "markers",
                  "name": "$90000.00            -            $135000.00",
                  "orientation": "v",
                  "showlegend": true,
                  "type": "scatter",
                  "x": [
                    "$90000.00            -            $135000.00"
                  ],
                  "xaxis": "x",
                  "y": [
                    "Charlotte, NC"
                  ],
                  "yaxis": "y"
                },
                {
                  "hovertemplate": "Gaji=%{x}<br>Kota=%{y}<extra></extra>",
                  "legendgroup": "$85000.00            -            $95000.00",
                  "marker": {
                    "color": "#B6E880",
                    "symbol": "circle"
                  },
                  "mode": "markers",
                  "name": "$85000.00            -            $95000.00",
                  "orientation": "v",
                  "showlegend": true,
                  "type": "scatter",
                  "x": [
                    "$85000.00            -            $95000.00"
                  ],
                  "xaxis": "x",
                  "y": [
                    "Nashville Metropolitan Area"
                  ],
                  "yaxis": "y"
                }
              ],
              "layout": {
                "height": 600,
                "legend": {
                  "title": {
                    "text": "Gaji"
                  },
                  "tracegroupgap": 0
                },
                "template": {
                  "data": {
                    "bar": [
                      {
                        "error_x": {
                          "color": "#2a3f5f"
                        },
                        "error_y": {
                          "color": "#2a3f5f"
                        },
                        "marker": {
                          "line": {
                            "color": "#E5ECF6",
                            "width": 0.5
                          },
                          "pattern": {
                            "fillmode": "overlay",
                            "size": 10,
                            "solidity": 0.2
                          }
                        },
                        "type": "bar"
                      }
                    ],
                    "barpolar": [
                      {
                        "marker": {
                          "line": {
                            "color": "#E5ECF6",
                            "width": 0.5
                          },
                          "pattern": {
                            "fillmode": "overlay",
                            "size": 10,
                            "solidity": 0.2
                          }
                        },
                        "type": "barpolar"
                      }
                    ],
                    "carpet": [
                      {
                        "aaxis": {
                          "endlinecolor": "#2a3f5f",
                          "gridcolor": "white",
                          "linecolor": "white",
                          "minorgridcolor": "white",
                          "startlinecolor": "#2a3f5f"
                        },
                        "baxis": {
                          "endlinecolor": "#2a3f5f",
                          "gridcolor": "white",
                          "linecolor": "white",
                          "minorgridcolor": "white",
                          "startlinecolor": "#2a3f5f"
                        },
                        "type": "carpet"
                      }
                    ],
                    "choropleth": [
                      {
                        "colorbar": {
                          "outlinewidth": 0,
                          "ticks": ""
                        },
                        "type": "choropleth"
                      }
                    ],
                    "contour": [
                      {
                        "colorbar": {
                          "outlinewidth": 0,
                          "ticks": ""
                        },
                        "colorscale": [
                          [
                            0,
                            "#0d0887"
                          ],
                          [
                            0.1111111111111111,
                            "#46039f"
                          ],
                          [
                            0.2222222222222222,
                            "#7201a8"
                          ],
                          [
                            0.3333333333333333,
                            "#9c179e"
                          ],
                          [
                            0.4444444444444444,
                            "#bd3786"
                          ],
                          [
                            0.5555555555555556,
                            "#d8576b"
                          ],
                          [
                            0.6666666666666666,
                            "#ed7953"
                          ],
                          [
                            0.7777777777777778,
                            "#fb9f3a"
                          ],
                          [
                            0.8888888888888888,
                            "#fdca26"
                          ],
                          [
                            1,
                            "#f0f921"
                          ]
                        ],
                        "type": "contour"
                      }
                    ],
                    "contourcarpet": [
                      {
                        "colorbar": {
                          "outlinewidth": 0,
                          "ticks": ""
                        },
                        "type": "contourcarpet"
                      }
                    ],
                    "heatmap": [
                      {
                        "colorbar": {
                          "outlinewidth": 0,
                          "ticks": ""
                        },
                        "colorscale": [
                          [
                            0,
                            "#0d0887"
                          ],
                          [
                            0.1111111111111111,
                            "#46039f"
                          ],
                          [
                            0.2222222222222222,
                            "#7201a8"
                          ],
                          [
                            0.3333333333333333,
                            "#9c179e"
                          ],
                          [
                            0.4444444444444444,
                            "#bd3786"
                          ],
                          [
                            0.5555555555555556,
                            "#d8576b"
                          ],
                          [
                            0.6666666666666666,
                            "#ed7953"
                          ],
                          [
                            0.7777777777777778,
                            "#fb9f3a"
                          ],
                          [
                            0.8888888888888888,
                            "#fdca26"
                          ],
                          [
                            1,
                            "#f0f921"
                          ]
                        ],
                        "type": "heatmap"
                      }
                    ],
                    "heatmapgl": [
                      {
                        "colorbar": {
                          "outlinewidth": 0,
                          "ticks": ""
                        },
                        "colorscale": [
                          [
                            0,
                            "#0d0887"
                          ],
                          [
                            0.1111111111111111,
                            "#46039f"
                          ],
                          [
                            0.2222222222222222,
                            "#7201a8"
                          ],
                          [
                            0.3333333333333333,
                            "#9c179e"
                          ],
                          [
                            0.4444444444444444,
                            "#bd3786"
                          ],
                          [
                            0.5555555555555556,
                            "#d8576b"
                          ],
                          [
                            0.6666666666666666,
                            "#ed7953"
                          ],
                          [
                            0.7777777777777778,
                            "#fb9f3a"
                          ],
                          [
                            0.8888888888888888,
                            "#fdca26"
                          ],
                          [
                            1,
                            "#f0f921"
                          ]
                        ],
                        "type": "heatmapgl"
                      }
                    ],
                    "histogram": [
                      {
                        "marker": {
                          "pattern": {
                            "fillmode": "overlay",
                            "size": 10,
                            "solidity": 0.2
                          }
                        },
                        "type": "histogram"
                      }
                    ],
                    "histogram2d": [
                      {
                        "colorbar": {
                          "outlinewidth": 0,
                          "ticks": ""
                        },
                        "colorscale": [
                          [
                            0,
                            "#0d0887"
                          ],
                          [
                            0.1111111111111111,
                            "#46039f"
                          ],
                          [
                            0.2222222222222222,
                            "#7201a8"
                          ],
                          [
                            0.3333333333333333,
                            "#9c179e"
                          ],
                          [
                            0.4444444444444444,
                            "#bd3786"
                          ],
                          [
                            0.5555555555555556,
                            "#d8576b"
                          ],
                          [
                            0.6666666666666666,
                            "#ed7953"
                          ],
                          [
                            0.7777777777777778,
                            "#fb9f3a"
                          ],
                          [
                            0.8888888888888888,
                            "#fdca26"
                          ],
                          [
                            1,
                            "#f0f921"
                          ]
                        ],
                        "type": "histogram2d"
                      }
                    ],
                    "histogram2dcontour": [
                      {
                        "colorbar": {
                          "outlinewidth": 0,
                          "ticks": ""
                        },
                        "colorscale": [
                          [
                            0,
                            "#0d0887"
                          ],
                          [
                            0.1111111111111111,
                            "#46039f"
                          ],
                          [
                            0.2222222222222222,
                            "#7201a8"
                          ],
                          [
                            0.3333333333333333,
                            "#9c179e"
                          ],
                          [
                            0.4444444444444444,
                            "#bd3786"
                          ],
                          [
                            0.5555555555555556,
                            "#d8576b"
                          ],
                          [
                            0.6666666666666666,
                            "#ed7953"
                          ],
                          [
                            0.7777777777777778,
                            "#fb9f3a"
                          ],
                          [
                            0.8888888888888888,
                            "#fdca26"
                          ],
                          [
                            1,
                            "#f0f921"
                          ]
                        ],
                        "type": "histogram2dcontour"
                      }
                    ],
                    "mesh3d": [
                      {
                        "colorbar": {
                          "outlinewidth": 0,
                          "ticks": ""
                        },
                        "type": "mesh3d"
                      }
                    ],
                    "parcoords": [
                      {
                        "line": {
                          "colorbar": {
                            "outlinewidth": 0,
                            "ticks": ""
                          }
                        },
                        "type": "parcoords"
                      }
                    ],
                    "pie": [
                      {
                        "automargin": true,
                        "type": "pie"
                      }
                    ],
                    "scatter": [
                      {
                        "fillpattern": {
                          "fillmode": "overlay",
                          "size": 10,
                          "solidity": 0.2
                        },
                        "type": "scatter"
                      }
                    ],
                    "scatter3d": [
                      {
                        "line": {
                          "colorbar": {
                            "outlinewidth": 0,
                            "ticks": ""
                          }
                        },
                        "marker": {
                          "colorbar": {
                            "outlinewidth": 0,
                            "ticks": ""
                          }
                        },
                        "type": "scatter3d"
                      }
                    ],
                    "scattercarpet": [
                      {
                        "marker": {
                          "colorbar": {
                            "outlinewidth": 0,
                            "ticks": ""
                          }
                        },
                        "type": "scattercarpet"
                      }
                    ],
                    "scattergeo": [
                      {
                        "marker": {
                          "colorbar": {
                            "outlinewidth": 0,
                            "ticks": ""
                          }
                        },
                        "type": "scattergeo"
                      }
                    ],
                    "scattergl": [
                      {
                        "marker": {
                          "colorbar": {
                            "outlinewidth": 0,
                            "ticks": ""
                          }
                        },
                        "type": "scattergl"
                      }
                    ],
                    "scattermapbox": [
                      {
                        "marker": {
                          "colorbar": {
                            "outlinewidth": 0,
                            "ticks": ""
                          }
                        },
                        "type": "scattermapbox"
                      }
                    ],
                    "scatterpolar": [
                      {
                        "marker": {
                          "colorbar": {
                            "outlinewidth": 0,
                            "ticks": ""
                          }
                        },
                        "type": "scatterpolar"
                      }
                    ],
                    "scatterpolargl": [
                      {
                        "marker": {
                          "colorbar": {
                            "outlinewidth": 0,
                            "ticks": ""
                          }
                        },
                        "type": "scatterpolargl"
                      }
                    ],
                    "scatterternary": [
                      {
                        "marker": {
                          "colorbar": {
                            "outlinewidth": 0,
                            "ticks": ""
                          }
                        },
                        "type": "scatterternary"
                      }
                    ],
                    "surface": [
                      {
                        "colorbar": {
                          "outlinewidth": 0,
                          "ticks": ""
                        },
                        "colorscale": [
                          [
                            0,
                            "#0d0887"
                          ],
                          [
                            0.1111111111111111,
                            "#46039f"
                          ],
                          [
                            0.2222222222222222,
                            "#7201a8"
                          ],
                          [
                            0.3333333333333333,
                            "#9c179e"
                          ],
                          [
                            0.4444444444444444,
                            "#bd3786"
                          ],
                          [
                            0.5555555555555556,
                            "#d8576b"
                          ],
                          [
                            0.6666666666666666,
                            "#ed7953"
                          ],
                          [
                            0.7777777777777778,
                            "#fb9f3a"
                          ],
                          [
                            0.8888888888888888,
                            "#fdca26"
                          ],
                          [
                            1,
                            "#f0f921"
                          ]
                        ],
                        "type": "surface"
                      }
                    ],
                    "table": [
                      {
                        "cells": {
                          "fill": {
                            "color": "#EBF0F8"
                          },
                          "line": {
                            "color": "white"
                          }
                        },
                        "header": {
                          "fill": {
                            "color": "#C8D4E3"
                          },
                          "line": {
                            "color": "white"
                          }
                        },
                        "type": "table"
                      }
                    ]
                  },
                  "layout": {
                    "annotationdefaults": {
                      "arrowcolor": "#2a3f5f",
                      "arrowhead": 0,
                      "arrowwidth": 1
                    },
                    "autotypenumbers": "strict",
                    "coloraxis": {
                      "colorbar": {
                        "outlinewidth": 0,
                        "ticks": ""
                      }
                    },
                    "colorscale": {
                      "diverging": [
                        [
                          0,
                          "#8e0152"
                        ],
                        [
                          0.1,
                          "#c51b7d"
                        ],
                        [
                          0.2,
                          "#de77ae"
                        ],
                        [
                          0.3,
                          "#f1b6da"
                        ],
                        [
                          0.4,
                          "#fde0ef"
                        ],
                        [
                          0.5,
                          "#f7f7f7"
                        ],
                        [
                          0.6,
                          "#e6f5d0"
                        ],
                        [
                          0.7,
                          "#b8e186"
                        ],
                        [
                          0.8,
                          "#7fbc41"
                        ],
                        [
                          0.9,
                          "#4d9221"
                        ],
                        [
                          1,
                          "#276419"
                        ]
                      ],
                      "sequential": [
                        [
                          0,
                          "#0d0887"
                        ],
                        [
                          0.1111111111111111,
                          "#46039f"
                        ],
                        [
                          0.2222222222222222,
                          "#7201a8"
                        ],
                        [
                          0.3333333333333333,
                          "#9c179e"
                        ],
                        [
                          0.4444444444444444,
                          "#bd3786"
                        ],
                        [
                          0.5555555555555556,
                          "#d8576b"
                        ],
                        [
                          0.6666666666666666,
                          "#ed7953"
                        ],
                        [
                          0.7777777777777778,
                          "#fb9f3a"
                        ],
                        [
                          0.8888888888888888,
                          "#fdca26"
                        ],
                        [
                          1,
                          "#f0f921"
                        ]
                      ],
                      "sequentialminus": [
                        [
                          0,
                          "#0d0887"
                        ],
                        [
                          0.1111111111111111,
                          "#46039f"
                        ],
                        [
                          0.2222222222222222,
                          "#7201a8"
                        ],
                        [
                          0.3333333333333333,
                          "#9c179e"
                        ],
                        [
                          0.4444444444444444,
                          "#bd3786"
                        ],
                        [
                          0.5555555555555556,
                          "#d8576b"
                        ],
                        [
                          0.6666666666666666,
                          "#ed7953"
                        ],
                        [
                          0.7777777777777778,
                          "#fb9f3a"
                        ],
                        [
                          0.8888888888888888,
                          "#fdca26"
                        ],
                        [
                          1,
                          "#f0f921"
                        ]
                      ]
                    },
                    "colorway": [
                      "#636efa",
                      "#EF553B",
                      "#00cc96",
                      "#ab63fa",
                      "#FFA15A",
                      "#19d3f3",
                      "#FF6692",
                      "#B6E880",
                      "#FF97FF",
                      "#FECB52"
                    ],
                    "font": {
                      "color": "#2a3f5f"
                    },
                    "geo": {
                      "bgcolor": "white",
                      "lakecolor": "white",
                      "landcolor": "#E5ECF6",
                      "showlakes": true,
                      "showland": true,
                      "subunitcolor": "white"
                    },
                    "hoverlabel": {
                      "align": "left"
                    },
                    "hovermode": "closest",
                    "mapbox": {
                      "style": "light"
                    },
                    "paper_bgcolor": "white",
                    "plot_bgcolor": "#E5ECF6",
                    "polar": {
                      "angularaxis": {
                        "gridcolor": "white",
                        "linecolor": "white",
                        "ticks": ""
                      },
                      "bgcolor": "#E5ECF6",
                      "radialaxis": {
                        "gridcolor": "white",
                        "linecolor": "white",
                        "ticks": ""
                      }
                    },
                    "scene": {
                      "xaxis": {
                        "backgroundcolor": "#E5ECF6",
                        "gridcolor": "white",
                        "gridwidth": 2,
                        "linecolor": "white",
                        "showbackground": true,
                        "ticks": "",
                        "zerolinecolor": "white"
                      },
                      "yaxis": {
                        "backgroundcolor": "#E5ECF6",
                        "gridcolor": "white",
                        "gridwidth": 2,
                        "linecolor": "white",
                        "showbackground": true,
                        "ticks": "",
                        "zerolinecolor": "white"
                      },
                      "zaxis": {
                        "backgroundcolor": "#E5ECF6",
                        "gridcolor": "white",
                        "gridwidth": 2,
                        "linecolor": "white",
                        "showbackground": true,
                        "ticks": "",
                        "zerolinecolor": "white"
                      }
                    },
                    "shapedefaults": {
                      "line": {
                        "color": "#2a3f5f"
                      }
                    },
                    "ternary": {
                      "aaxis": {
                        "gridcolor": "white",
                        "linecolor": "white",
                        "ticks": ""
                      },
                      "baxis": {
                        "gridcolor": "white",
                        "linecolor": "white",
                        "ticks": ""
                      },
                      "bgcolor": "#E5ECF6",
                      "caxis": {
                        "gridcolor": "white",
                        "linecolor": "white",
                        "ticks": ""
                      }
                    },
                    "title": {
                      "x": 0.05
                    },
                    "xaxis": {
                      "automargin": true,
                      "gridcolor": "white",
                      "linecolor": "white",
                      "ticks": "",
                      "title": {
                        "standoff": 15
                      },
                      "zerolinecolor": "white",
                      "zerolinewidth": 2
                    },
                    "yaxis": {
                      "automargin": true,
                      "gridcolor": "white",
                      "linecolor": "white",
                      "ticks": "",
                      "title": {
                        "standoff": 15
                      },
                      "zerolinecolor": "white",
                      "zerolinewidth": 2
                    }
                  }
                },
                "title": {
                  "text": "Kota dengan Gaji Tertinggi untuk Data Analyst"
                },
                "xaxis": {
                  "anchor": "y",
                  "categoryarray": [
                    "$135000.00            -            $140000.00",
                    "CA$135.00            -            CA$145.00",
                    "$65500.00            -            $78500.00",
                    "$100000.00            -            $120000.00",
                    "$50000.00            -            $55000.00",
                    "$5800.00            -            $6000.00",
                    "$50.00            -            $60.00",
                    "$55000.00            -            $70000.00",
                    "$50.00            -            $50.00",
                    "$30.00            -            $30.00",
                    "$80000.00            -            $110000.00",
                    "$120000.00            -            $135000.00",
                    "$85000.00            -            $100000.00",
                    "$40.00            -            $50.00",
                    "$60000.00            -            $90000.00",
                    "$125000.00            -            $155000.00",
                    "$70000.00            -            $80000.00",
                    "$80000.00            -            $90000.00",
                    "$59.69            -            $79.58",
                    "$38.00            -            $45.00",
                    "$65000.00            -            $70000.00",
                    "$80000.00            -            $100000.00",
                    "$60000.00            -            $65000.00",
                    "$70000.00            -            $70000.00",
                    "$75000.00            -            $93000.00",
                    "$40.00            -            $45.00",
                    "$38.00            -            $43.00",
                    "$90000.00            -            $120000.00",
                    "$73036.00            -            $105901.00",
                    "$75000.00            -            $90000.00",
                    "$60.00            -            $60.00",
                    "$40.00            -            $60.00",
                    "$30.00            -            $33.00",
                    "$120000.00            -            $130000.00",
                    "$22.00            -            $24.00",
                    "$40.00            -            $100.00",
                    "$75000.00            -            $95000.00",
                    "$130000.00            -            $150000.00",
                    "$28.00            -            $30.00",
                    "$35.00            -            $37.00",
                    "$30.00            -            $40.00",
                    "$100000.00            -            $115000.00",
                    "$120000.00            -            $150000.00",
                    "$80000.00            -            $95000.00",
                    "$80000.00            -            $102000.00",
                    "$68.00            -            $70.00",
                    "$90000.00            -            $135000.00",
                    "$85000.00            -            $95000.00"
                  ],
                  "categoryorder": "array",
                  "domain": [
                    0,
                    1
                  ],
                  "title": {
                    "text": "Gaji"
                  }
                },
                "yaxis": {
                  "anchor": "x",
                  "domain": [
                    0,
                    1
                  ],
                  "title": {
                    "text": "Kota"
                  }
                }
              }
            }
          },
          "metadata": {},
          "output_type": "display_data"
        }
      ],
      "source": [
        "import plotly.express as px\n",
        "\n",
        "# Membuat scatter plot untuk kota dengan gaji terbesar\n",
        "fig = px.scatter(df_copy, x='salary', y='location', color='salary' ,title='Kota dengan Gaji Tertinggi untuk Data Analyst',\n",
        "                 labels={'salary': 'Gaji', 'location': 'Kota'},\n",
        "                 height=600)\n",
        "\n",
        "# Menampilkan plot\n",
        "fig.show()\n"
      ]
    },
    {
      "cell_type": "markdown",
      "metadata": {},
      "source": [
        "Jika dilihat dari data diatas gaji minimal sebagai seorang `Data Analyst` yaitu dari `$22.00` sampai `$140000.00`."
      ]
    },
    {
      "cell_type": "markdown",
      "metadata": {},
      "source": [
        "### Kriteria"
      ]
    },
    {
      "cell_type": "code",
      "execution_count": null,
      "metadata": {},
      "outputs": [],
      "source": [
        "c=df_copy['criteria'].apply(lambda x: x[1:-1].split(',',3)).to_list()\n",
        "\n",
        "print(c[0]) #list of items as string\n",
        "c[0][0] #dictionary as string\n",
        "sl=[]\n",
        "et=[]\n",
        "jf=[]\n",
        "ind=[]\n",
        "import json\n",
        "def dict_con(d):\n",
        "    try:\n",
        "        d1=(json.loads(i.replace(\"'\",'\"')) for i in d)\n",
        "        for i in d1:\n",
        "            if \"Seniority level\" in i.keys():\n",
        "                sl.extend(i.values())\n",
        "            if \"Employment type\" in i.keys():\n",
        "                et.extend(i.values())\n",
        "            if \"Job function\" in i.keys():\n",
        "                jf.extend(i.values())\n",
        "            if \"Industries\" in i.keys():\n",
        "                ind.extend(i.values())\n",
        "    except:\n",
        "        pass\n",
        "\n",
        "\n",
        "for i in c:\n",
        "    dict_con(i)"
      ]
    },
    {
      "cell_type": "code",
      "execution_count": null,
      "metadata": {},
      "outputs": [],
      "source": [
        "Seniority_level=pd.Series(sl)\n",
        "Employment_type=pd.Series(et)\n",
        "Job_function=pd.Series(jf)\n",
        "Industries=pd.Series(ind)"
      ]
    },
    {
      "cell_type": "markdown",
      "metadata": {},
      "source": [
        "#### Pengalaman sebagai Data Analyst"
      ]
    },
    {
      "cell_type": "code",
      "execution_count": 79,
      "metadata": {},
      "outputs": [
        {
          "data": {
            "application/vnd.plotly.v1+json": {
              "config": {
                "plotlyServerURL": "https://plot.ly"
              },
              "data": [
                {
                  "domain": {
                    "x": [
                      0,
                      1
                    ],
                    "y": [
                      0,
                      1
                    ]
                  },
                  "hovertemplate": "Seniority Level=%{label}<br>Number of Jobs=%{value}<extra></extra>",
                  "labels": [
                    "Mid-Senior level",
                    "Associate",
                    "Entry level",
                    "Not Applicable"
                  ],
                  "legendgroup": "",
                  "name": "",
                  "showlegend": true,
                  "type": "pie",
                  "values": [
                    402,
                    331,
                    143,
                    38
                  ]
                }
              ],
              "layout": {
                "height": 400,
                "legend": {
                  "tracegroupgap": 0
                },
                "piecolorway": [
                  "rgb(141,211,199)",
                  "rgb(255,255,179)",
                  "rgb(190,186,218)",
                  "rgb(251,128,114)",
                  "rgb(128,177,211)",
                  "rgb(253,180,98)",
                  "rgb(179,222,105)",
                  "rgb(252,205,229)",
                  "rgb(217,217,217)",
                  "rgb(188,128,189)",
                  "rgb(204,235,197)",
                  "rgb(255,237,111)"
                ],
                "template": {
                  "data": {
                    "bar": [
                      {
                        "error_x": {
                          "color": "#2a3f5f"
                        },
                        "error_y": {
                          "color": "#2a3f5f"
                        },
                        "marker": {
                          "line": {
                            "color": "#E5ECF6",
                            "width": 0.5
                          },
                          "pattern": {
                            "fillmode": "overlay",
                            "size": 10,
                            "solidity": 0.2
                          }
                        },
                        "type": "bar"
                      }
                    ],
                    "barpolar": [
                      {
                        "marker": {
                          "line": {
                            "color": "#E5ECF6",
                            "width": 0.5
                          },
                          "pattern": {
                            "fillmode": "overlay",
                            "size": 10,
                            "solidity": 0.2
                          }
                        },
                        "type": "barpolar"
                      }
                    ],
                    "carpet": [
                      {
                        "aaxis": {
                          "endlinecolor": "#2a3f5f",
                          "gridcolor": "white",
                          "linecolor": "white",
                          "minorgridcolor": "white",
                          "startlinecolor": "#2a3f5f"
                        },
                        "baxis": {
                          "endlinecolor": "#2a3f5f",
                          "gridcolor": "white",
                          "linecolor": "white",
                          "minorgridcolor": "white",
                          "startlinecolor": "#2a3f5f"
                        },
                        "type": "carpet"
                      }
                    ],
                    "choropleth": [
                      {
                        "colorbar": {
                          "outlinewidth": 0,
                          "ticks": ""
                        },
                        "type": "choropleth"
                      }
                    ],
                    "contour": [
                      {
                        "colorbar": {
                          "outlinewidth": 0,
                          "ticks": ""
                        },
                        "colorscale": [
                          [
                            0,
                            "#0d0887"
                          ],
                          [
                            0.1111111111111111,
                            "#46039f"
                          ],
                          [
                            0.2222222222222222,
                            "#7201a8"
                          ],
                          [
                            0.3333333333333333,
                            "#9c179e"
                          ],
                          [
                            0.4444444444444444,
                            "#bd3786"
                          ],
                          [
                            0.5555555555555556,
                            "#d8576b"
                          ],
                          [
                            0.6666666666666666,
                            "#ed7953"
                          ],
                          [
                            0.7777777777777778,
                            "#fb9f3a"
                          ],
                          [
                            0.8888888888888888,
                            "#fdca26"
                          ],
                          [
                            1,
                            "#f0f921"
                          ]
                        ],
                        "type": "contour"
                      }
                    ],
                    "contourcarpet": [
                      {
                        "colorbar": {
                          "outlinewidth": 0,
                          "ticks": ""
                        },
                        "type": "contourcarpet"
                      }
                    ],
                    "heatmap": [
                      {
                        "colorbar": {
                          "outlinewidth": 0,
                          "ticks": ""
                        },
                        "colorscale": [
                          [
                            0,
                            "#0d0887"
                          ],
                          [
                            0.1111111111111111,
                            "#46039f"
                          ],
                          [
                            0.2222222222222222,
                            "#7201a8"
                          ],
                          [
                            0.3333333333333333,
                            "#9c179e"
                          ],
                          [
                            0.4444444444444444,
                            "#bd3786"
                          ],
                          [
                            0.5555555555555556,
                            "#d8576b"
                          ],
                          [
                            0.6666666666666666,
                            "#ed7953"
                          ],
                          [
                            0.7777777777777778,
                            "#fb9f3a"
                          ],
                          [
                            0.8888888888888888,
                            "#fdca26"
                          ],
                          [
                            1,
                            "#f0f921"
                          ]
                        ],
                        "type": "heatmap"
                      }
                    ],
                    "heatmapgl": [
                      {
                        "colorbar": {
                          "outlinewidth": 0,
                          "ticks": ""
                        },
                        "colorscale": [
                          [
                            0,
                            "#0d0887"
                          ],
                          [
                            0.1111111111111111,
                            "#46039f"
                          ],
                          [
                            0.2222222222222222,
                            "#7201a8"
                          ],
                          [
                            0.3333333333333333,
                            "#9c179e"
                          ],
                          [
                            0.4444444444444444,
                            "#bd3786"
                          ],
                          [
                            0.5555555555555556,
                            "#d8576b"
                          ],
                          [
                            0.6666666666666666,
                            "#ed7953"
                          ],
                          [
                            0.7777777777777778,
                            "#fb9f3a"
                          ],
                          [
                            0.8888888888888888,
                            "#fdca26"
                          ],
                          [
                            1,
                            "#f0f921"
                          ]
                        ],
                        "type": "heatmapgl"
                      }
                    ],
                    "histogram": [
                      {
                        "marker": {
                          "pattern": {
                            "fillmode": "overlay",
                            "size": 10,
                            "solidity": 0.2
                          }
                        },
                        "type": "histogram"
                      }
                    ],
                    "histogram2d": [
                      {
                        "colorbar": {
                          "outlinewidth": 0,
                          "ticks": ""
                        },
                        "colorscale": [
                          [
                            0,
                            "#0d0887"
                          ],
                          [
                            0.1111111111111111,
                            "#46039f"
                          ],
                          [
                            0.2222222222222222,
                            "#7201a8"
                          ],
                          [
                            0.3333333333333333,
                            "#9c179e"
                          ],
                          [
                            0.4444444444444444,
                            "#bd3786"
                          ],
                          [
                            0.5555555555555556,
                            "#d8576b"
                          ],
                          [
                            0.6666666666666666,
                            "#ed7953"
                          ],
                          [
                            0.7777777777777778,
                            "#fb9f3a"
                          ],
                          [
                            0.8888888888888888,
                            "#fdca26"
                          ],
                          [
                            1,
                            "#f0f921"
                          ]
                        ],
                        "type": "histogram2d"
                      }
                    ],
                    "histogram2dcontour": [
                      {
                        "colorbar": {
                          "outlinewidth": 0,
                          "ticks": ""
                        },
                        "colorscale": [
                          [
                            0,
                            "#0d0887"
                          ],
                          [
                            0.1111111111111111,
                            "#46039f"
                          ],
                          [
                            0.2222222222222222,
                            "#7201a8"
                          ],
                          [
                            0.3333333333333333,
                            "#9c179e"
                          ],
                          [
                            0.4444444444444444,
                            "#bd3786"
                          ],
                          [
                            0.5555555555555556,
                            "#d8576b"
                          ],
                          [
                            0.6666666666666666,
                            "#ed7953"
                          ],
                          [
                            0.7777777777777778,
                            "#fb9f3a"
                          ],
                          [
                            0.8888888888888888,
                            "#fdca26"
                          ],
                          [
                            1,
                            "#f0f921"
                          ]
                        ],
                        "type": "histogram2dcontour"
                      }
                    ],
                    "mesh3d": [
                      {
                        "colorbar": {
                          "outlinewidth": 0,
                          "ticks": ""
                        },
                        "type": "mesh3d"
                      }
                    ],
                    "parcoords": [
                      {
                        "line": {
                          "colorbar": {
                            "outlinewidth": 0,
                            "ticks": ""
                          }
                        },
                        "type": "parcoords"
                      }
                    ],
                    "pie": [
                      {
                        "automargin": true,
                        "type": "pie"
                      }
                    ],
                    "scatter": [
                      {
                        "fillpattern": {
                          "fillmode": "overlay",
                          "size": 10,
                          "solidity": 0.2
                        },
                        "type": "scatter"
                      }
                    ],
                    "scatter3d": [
                      {
                        "line": {
                          "colorbar": {
                            "outlinewidth": 0,
                            "ticks": ""
                          }
                        },
                        "marker": {
                          "colorbar": {
                            "outlinewidth": 0,
                            "ticks": ""
                          }
                        },
                        "type": "scatter3d"
                      }
                    ],
                    "scattercarpet": [
                      {
                        "marker": {
                          "colorbar": {
                            "outlinewidth": 0,
                            "ticks": ""
                          }
                        },
                        "type": "scattercarpet"
                      }
                    ],
                    "scattergeo": [
                      {
                        "marker": {
                          "colorbar": {
                            "outlinewidth": 0,
                            "ticks": ""
                          }
                        },
                        "type": "scattergeo"
                      }
                    ],
                    "scattergl": [
                      {
                        "marker": {
                          "colorbar": {
                            "outlinewidth": 0,
                            "ticks": ""
                          }
                        },
                        "type": "scattergl"
                      }
                    ],
                    "scattermapbox": [
                      {
                        "marker": {
                          "colorbar": {
                            "outlinewidth": 0,
                            "ticks": ""
                          }
                        },
                        "type": "scattermapbox"
                      }
                    ],
                    "scatterpolar": [
                      {
                        "marker": {
                          "colorbar": {
                            "outlinewidth": 0,
                            "ticks": ""
                          }
                        },
                        "type": "scatterpolar"
                      }
                    ],
                    "scatterpolargl": [
                      {
                        "marker": {
                          "colorbar": {
                            "outlinewidth": 0,
                            "ticks": ""
                          }
                        },
                        "type": "scatterpolargl"
                      }
                    ],
                    "scatterternary": [
                      {
                        "marker": {
                          "colorbar": {
                            "outlinewidth": 0,
                            "ticks": ""
                          }
                        },
                        "type": "scatterternary"
                      }
                    ],
                    "surface": [
                      {
                        "colorbar": {
                          "outlinewidth": 0,
                          "ticks": ""
                        },
                        "colorscale": [
                          [
                            0,
                            "#0d0887"
                          ],
                          [
                            0.1111111111111111,
                            "#46039f"
                          ],
                          [
                            0.2222222222222222,
                            "#7201a8"
                          ],
                          [
                            0.3333333333333333,
                            "#9c179e"
                          ],
                          [
                            0.4444444444444444,
                            "#bd3786"
                          ],
                          [
                            0.5555555555555556,
                            "#d8576b"
                          ],
                          [
                            0.6666666666666666,
                            "#ed7953"
                          ],
                          [
                            0.7777777777777778,
                            "#fb9f3a"
                          ],
                          [
                            0.8888888888888888,
                            "#fdca26"
                          ],
                          [
                            1,
                            "#f0f921"
                          ]
                        ],
                        "type": "surface"
                      }
                    ],
                    "table": [
                      {
                        "cells": {
                          "fill": {
                            "color": "#EBF0F8"
                          },
                          "line": {
                            "color": "white"
                          }
                        },
                        "header": {
                          "fill": {
                            "color": "#C8D4E3"
                          },
                          "line": {
                            "color": "white"
                          }
                        },
                        "type": "table"
                      }
                    ]
                  },
                  "layout": {
                    "annotationdefaults": {
                      "arrowcolor": "#2a3f5f",
                      "arrowhead": 0,
                      "arrowwidth": 1
                    },
                    "autotypenumbers": "strict",
                    "coloraxis": {
                      "colorbar": {
                        "outlinewidth": 0,
                        "ticks": ""
                      }
                    },
                    "colorscale": {
                      "diverging": [
                        [
                          0,
                          "#8e0152"
                        ],
                        [
                          0.1,
                          "#c51b7d"
                        ],
                        [
                          0.2,
                          "#de77ae"
                        ],
                        [
                          0.3,
                          "#f1b6da"
                        ],
                        [
                          0.4,
                          "#fde0ef"
                        ],
                        [
                          0.5,
                          "#f7f7f7"
                        ],
                        [
                          0.6,
                          "#e6f5d0"
                        ],
                        [
                          0.7,
                          "#b8e186"
                        ],
                        [
                          0.8,
                          "#7fbc41"
                        ],
                        [
                          0.9,
                          "#4d9221"
                        ],
                        [
                          1,
                          "#276419"
                        ]
                      ],
                      "sequential": [
                        [
                          0,
                          "#0d0887"
                        ],
                        [
                          0.1111111111111111,
                          "#46039f"
                        ],
                        [
                          0.2222222222222222,
                          "#7201a8"
                        ],
                        [
                          0.3333333333333333,
                          "#9c179e"
                        ],
                        [
                          0.4444444444444444,
                          "#bd3786"
                        ],
                        [
                          0.5555555555555556,
                          "#d8576b"
                        ],
                        [
                          0.6666666666666666,
                          "#ed7953"
                        ],
                        [
                          0.7777777777777778,
                          "#fb9f3a"
                        ],
                        [
                          0.8888888888888888,
                          "#fdca26"
                        ],
                        [
                          1,
                          "#f0f921"
                        ]
                      ],
                      "sequentialminus": [
                        [
                          0,
                          "#0d0887"
                        ],
                        [
                          0.1111111111111111,
                          "#46039f"
                        ],
                        [
                          0.2222222222222222,
                          "#7201a8"
                        ],
                        [
                          0.3333333333333333,
                          "#9c179e"
                        ],
                        [
                          0.4444444444444444,
                          "#bd3786"
                        ],
                        [
                          0.5555555555555556,
                          "#d8576b"
                        ],
                        [
                          0.6666666666666666,
                          "#ed7953"
                        ],
                        [
                          0.7777777777777778,
                          "#fb9f3a"
                        ],
                        [
                          0.8888888888888888,
                          "#fdca26"
                        ],
                        [
                          1,
                          "#f0f921"
                        ]
                      ]
                    },
                    "colorway": [
                      "#636efa",
                      "#EF553B",
                      "#00cc96",
                      "#ab63fa",
                      "#FFA15A",
                      "#19d3f3",
                      "#FF6692",
                      "#B6E880",
                      "#FF97FF",
                      "#FECB52"
                    ],
                    "font": {
                      "color": "#2a3f5f"
                    },
                    "geo": {
                      "bgcolor": "white",
                      "lakecolor": "white",
                      "landcolor": "#E5ECF6",
                      "showlakes": true,
                      "showland": true,
                      "subunitcolor": "white"
                    },
                    "hoverlabel": {
                      "align": "left"
                    },
                    "hovermode": "closest",
                    "mapbox": {
                      "style": "light"
                    },
                    "paper_bgcolor": "white",
                    "plot_bgcolor": "#E5ECF6",
                    "polar": {
                      "angularaxis": {
                        "gridcolor": "white",
                        "linecolor": "white",
                        "ticks": ""
                      },
                      "bgcolor": "#E5ECF6",
                      "radialaxis": {
                        "gridcolor": "white",
                        "linecolor": "white",
                        "ticks": ""
                      }
                    },
                    "scene": {
                      "xaxis": {
                        "backgroundcolor": "#E5ECF6",
                        "gridcolor": "white",
                        "gridwidth": 2,
                        "linecolor": "white",
                        "showbackground": true,
                        "ticks": "",
                        "zerolinecolor": "white"
                      },
                      "yaxis": {
                        "backgroundcolor": "#E5ECF6",
                        "gridcolor": "white",
                        "gridwidth": 2,
                        "linecolor": "white",
                        "showbackground": true,
                        "ticks": "",
                        "zerolinecolor": "white"
                      },
                      "zaxis": {
                        "backgroundcolor": "#E5ECF6",
                        "gridcolor": "white",
                        "gridwidth": 2,
                        "linecolor": "white",
                        "showbackground": true,
                        "ticks": "",
                        "zerolinecolor": "white"
                      }
                    },
                    "shapedefaults": {
                      "line": {
                        "color": "#2a3f5f"
                      }
                    },
                    "ternary": {
                      "aaxis": {
                        "gridcolor": "white",
                        "linecolor": "white",
                        "ticks": ""
                      },
                      "baxis": {
                        "gridcolor": "white",
                        "linecolor": "white",
                        "ticks": ""
                      },
                      "bgcolor": "#E5ECF6",
                      "caxis": {
                        "gridcolor": "white",
                        "linecolor": "white",
                        "ticks": ""
                      }
                    },
                    "title": {
                      "x": 0.05
                    },
                    "xaxis": {
                      "automargin": true,
                      "gridcolor": "white",
                      "linecolor": "white",
                      "ticks": "",
                      "title": {
                        "standoff": 15
                      },
                      "zerolinecolor": "white",
                      "zerolinewidth": 2
                    },
                    "yaxis": {
                      "automargin": true,
                      "gridcolor": "white",
                      "linecolor": "white",
                      "ticks": "",
                      "title": {
                        "standoff": 15
                      },
                      "zerolinecolor": "white",
                      "zerolinewidth": 2
                    }
                  }
                },
                "title": {
                  "text": "Distribusi Seniority Level pada Pekerjaan Data Analyst"
                },
                "width": 600
              }
            }
          },
          "metadata": {},
          "output_type": "display_data"
        }
      ],
      "source": [
        "import plotly.express as px\n",
        "import pandas as pd\n",
        "\n",
        "# Menghitung jumlah seniority level\n",
        "Seniority_level = pd.Series(sl)\n",
        "seniority_counts = Seniority_level.value_counts()\n",
        "\n",
        "# Membuat pie chart\n",
        "fig = px.pie(names=seniority_counts.index, values=seniority_counts.values,\n",
        "             title=\"Distribusi Seniority Level pada Pekerjaan Data Analyst\",\n",
        "             labels={'names': 'Seniority Level', 'values': 'Number of Jobs'},\n",
        "             color_discrete_sequence=px.colors.qualitative.Set3,\n",
        "             height=400, width=600)\n",
        "\n",
        "# Menampilkan plot\n",
        "fig.show()\n"
      ]
    },
    {
      "cell_type": "markdown",
      "metadata": {},
      "source": [
        "Lowongan sebagai `Data Analyst` mayoritas berpengelaman dengan presentase `44%` jika dibandingkan dengan jumlah dari `entry level` dan `not Applicable` hanya `20%`."
      ]
    },
    {
      "cell_type": "markdown",
      "metadata": {},
      "source": [
        "#### Kontrak pekerjaan yang di tawarkan"
      ]
    },
    {
      "cell_type": "code",
      "execution_count": 80,
      "metadata": {},
      "outputs": [
        {
          "data": {
            "application/vnd.plotly.v1+json": {
              "config": {
                "plotlyServerURL": "https://plot.ly"
              },
              "data": [
                {
                  "domain": {
                    "x": [
                      0,
                      1
                    ],
                    "y": [
                      0,
                      1
                    ]
                  },
                  "hovertemplate": "Employment Type=%{label}<br>Number of Jobs=%{value}<extra></extra>",
                  "labels": [
                    "Full-time",
                    "Contract"
                  ],
                  "legendgroup": "",
                  "name": "",
                  "showlegend": true,
                  "type": "pie",
                  "values": [
                    477,
                    474
                  ]
                }
              ],
              "layout": {
                "height": 400,
                "legend": {
                  "tracegroupgap": 0
                },
                "piecolorway": [
                  "rgb(141,211,199)",
                  "rgb(255,255,179)",
                  "rgb(190,186,218)",
                  "rgb(251,128,114)",
                  "rgb(128,177,211)",
                  "rgb(253,180,98)",
                  "rgb(179,222,105)",
                  "rgb(252,205,229)",
                  "rgb(217,217,217)",
                  "rgb(188,128,189)",
                  "rgb(204,235,197)",
                  "rgb(255,237,111)"
                ],
                "template": {
                  "data": {
                    "bar": [
                      {
                        "error_x": {
                          "color": "#2a3f5f"
                        },
                        "error_y": {
                          "color": "#2a3f5f"
                        },
                        "marker": {
                          "line": {
                            "color": "#E5ECF6",
                            "width": 0.5
                          },
                          "pattern": {
                            "fillmode": "overlay",
                            "size": 10,
                            "solidity": 0.2
                          }
                        },
                        "type": "bar"
                      }
                    ],
                    "barpolar": [
                      {
                        "marker": {
                          "line": {
                            "color": "#E5ECF6",
                            "width": 0.5
                          },
                          "pattern": {
                            "fillmode": "overlay",
                            "size": 10,
                            "solidity": 0.2
                          }
                        },
                        "type": "barpolar"
                      }
                    ],
                    "carpet": [
                      {
                        "aaxis": {
                          "endlinecolor": "#2a3f5f",
                          "gridcolor": "white",
                          "linecolor": "white",
                          "minorgridcolor": "white",
                          "startlinecolor": "#2a3f5f"
                        },
                        "baxis": {
                          "endlinecolor": "#2a3f5f",
                          "gridcolor": "white",
                          "linecolor": "white",
                          "minorgridcolor": "white",
                          "startlinecolor": "#2a3f5f"
                        },
                        "type": "carpet"
                      }
                    ],
                    "choropleth": [
                      {
                        "colorbar": {
                          "outlinewidth": 0,
                          "ticks": ""
                        },
                        "type": "choropleth"
                      }
                    ],
                    "contour": [
                      {
                        "colorbar": {
                          "outlinewidth": 0,
                          "ticks": ""
                        },
                        "colorscale": [
                          [
                            0,
                            "#0d0887"
                          ],
                          [
                            0.1111111111111111,
                            "#46039f"
                          ],
                          [
                            0.2222222222222222,
                            "#7201a8"
                          ],
                          [
                            0.3333333333333333,
                            "#9c179e"
                          ],
                          [
                            0.4444444444444444,
                            "#bd3786"
                          ],
                          [
                            0.5555555555555556,
                            "#d8576b"
                          ],
                          [
                            0.6666666666666666,
                            "#ed7953"
                          ],
                          [
                            0.7777777777777778,
                            "#fb9f3a"
                          ],
                          [
                            0.8888888888888888,
                            "#fdca26"
                          ],
                          [
                            1,
                            "#f0f921"
                          ]
                        ],
                        "type": "contour"
                      }
                    ],
                    "contourcarpet": [
                      {
                        "colorbar": {
                          "outlinewidth": 0,
                          "ticks": ""
                        },
                        "type": "contourcarpet"
                      }
                    ],
                    "heatmap": [
                      {
                        "colorbar": {
                          "outlinewidth": 0,
                          "ticks": ""
                        },
                        "colorscale": [
                          [
                            0,
                            "#0d0887"
                          ],
                          [
                            0.1111111111111111,
                            "#46039f"
                          ],
                          [
                            0.2222222222222222,
                            "#7201a8"
                          ],
                          [
                            0.3333333333333333,
                            "#9c179e"
                          ],
                          [
                            0.4444444444444444,
                            "#bd3786"
                          ],
                          [
                            0.5555555555555556,
                            "#d8576b"
                          ],
                          [
                            0.6666666666666666,
                            "#ed7953"
                          ],
                          [
                            0.7777777777777778,
                            "#fb9f3a"
                          ],
                          [
                            0.8888888888888888,
                            "#fdca26"
                          ],
                          [
                            1,
                            "#f0f921"
                          ]
                        ],
                        "type": "heatmap"
                      }
                    ],
                    "heatmapgl": [
                      {
                        "colorbar": {
                          "outlinewidth": 0,
                          "ticks": ""
                        },
                        "colorscale": [
                          [
                            0,
                            "#0d0887"
                          ],
                          [
                            0.1111111111111111,
                            "#46039f"
                          ],
                          [
                            0.2222222222222222,
                            "#7201a8"
                          ],
                          [
                            0.3333333333333333,
                            "#9c179e"
                          ],
                          [
                            0.4444444444444444,
                            "#bd3786"
                          ],
                          [
                            0.5555555555555556,
                            "#d8576b"
                          ],
                          [
                            0.6666666666666666,
                            "#ed7953"
                          ],
                          [
                            0.7777777777777778,
                            "#fb9f3a"
                          ],
                          [
                            0.8888888888888888,
                            "#fdca26"
                          ],
                          [
                            1,
                            "#f0f921"
                          ]
                        ],
                        "type": "heatmapgl"
                      }
                    ],
                    "histogram": [
                      {
                        "marker": {
                          "pattern": {
                            "fillmode": "overlay",
                            "size": 10,
                            "solidity": 0.2
                          }
                        },
                        "type": "histogram"
                      }
                    ],
                    "histogram2d": [
                      {
                        "colorbar": {
                          "outlinewidth": 0,
                          "ticks": ""
                        },
                        "colorscale": [
                          [
                            0,
                            "#0d0887"
                          ],
                          [
                            0.1111111111111111,
                            "#46039f"
                          ],
                          [
                            0.2222222222222222,
                            "#7201a8"
                          ],
                          [
                            0.3333333333333333,
                            "#9c179e"
                          ],
                          [
                            0.4444444444444444,
                            "#bd3786"
                          ],
                          [
                            0.5555555555555556,
                            "#d8576b"
                          ],
                          [
                            0.6666666666666666,
                            "#ed7953"
                          ],
                          [
                            0.7777777777777778,
                            "#fb9f3a"
                          ],
                          [
                            0.8888888888888888,
                            "#fdca26"
                          ],
                          [
                            1,
                            "#f0f921"
                          ]
                        ],
                        "type": "histogram2d"
                      }
                    ],
                    "histogram2dcontour": [
                      {
                        "colorbar": {
                          "outlinewidth": 0,
                          "ticks": ""
                        },
                        "colorscale": [
                          [
                            0,
                            "#0d0887"
                          ],
                          [
                            0.1111111111111111,
                            "#46039f"
                          ],
                          [
                            0.2222222222222222,
                            "#7201a8"
                          ],
                          [
                            0.3333333333333333,
                            "#9c179e"
                          ],
                          [
                            0.4444444444444444,
                            "#bd3786"
                          ],
                          [
                            0.5555555555555556,
                            "#d8576b"
                          ],
                          [
                            0.6666666666666666,
                            "#ed7953"
                          ],
                          [
                            0.7777777777777778,
                            "#fb9f3a"
                          ],
                          [
                            0.8888888888888888,
                            "#fdca26"
                          ],
                          [
                            1,
                            "#f0f921"
                          ]
                        ],
                        "type": "histogram2dcontour"
                      }
                    ],
                    "mesh3d": [
                      {
                        "colorbar": {
                          "outlinewidth": 0,
                          "ticks": ""
                        },
                        "type": "mesh3d"
                      }
                    ],
                    "parcoords": [
                      {
                        "line": {
                          "colorbar": {
                            "outlinewidth": 0,
                            "ticks": ""
                          }
                        },
                        "type": "parcoords"
                      }
                    ],
                    "pie": [
                      {
                        "automargin": true,
                        "type": "pie"
                      }
                    ],
                    "scatter": [
                      {
                        "fillpattern": {
                          "fillmode": "overlay",
                          "size": 10,
                          "solidity": 0.2
                        },
                        "type": "scatter"
                      }
                    ],
                    "scatter3d": [
                      {
                        "line": {
                          "colorbar": {
                            "outlinewidth": 0,
                            "ticks": ""
                          }
                        },
                        "marker": {
                          "colorbar": {
                            "outlinewidth": 0,
                            "ticks": ""
                          }
                        },
                        "type": "scatter3d"
                      }
                    ],
                    "scattercarpet": [
                      {
                        "marker": {
                          "colorbar": {
                            "outlinewidth": 0,
                            "ticks": ""
                          }
                        },
                        "type": "scattercarpet"
                      }
                    ],
                    "scattergeo": [
                      {
                        "marker": {
                          "colorbar": {
                            "outlinewidth": 0,
                            "ticks": ""
                          }
                        },
                        "type": "scattergeo"
                      }
                    ],
                    "scattergl": [
                      {
                        "marker": {
                          "colorbar": {
                            "outlinewidth": 0,
                            "ticks": ""
                          }
                        },
                        "type": "scattergl"
                      }
                    ],
                    "scattermapbox": [
                      {
                        "marker": {
                          "colorbar": {
                            "outlinewidth": 0,
                            "ticks": ""
                          }
                        },
                        "type": "scattermapbox"
                      }
                    ],
                    "scatterpolar": [
                      {
                        "marker": {
                          "colorbar": {
                            "outlinewidth": 0,
                            "ticks": ""
                          }
                        },
                        "type": "scatterpolar"
                      }
                    ],
                    "scatterpolargl": [
                      {
                        "marker": {
                          "colorbar": {
                            "outlinewidth": 0,
                            "ticks": ""
                          }
                        },
                        "type": "scatterpolargl"
                      }
                    ],
                    "scatterternary": [
                      {
                        "marker": {
                          "colorbar": {
                            "outlinewidth": 0,
                            "ticks": ""
                          }
                        },
                        "type": "scatterternary"
                      }
                    ],
                    "surface": [
                      {
                        "colorbar": {
                          "outlinewidth": 0,
                          "ticks": ""
                        },
                        "colorscale": [
                          [
                            0,
                            "#0d0887"
                          ],
                          [
                            0.1111111111111111,
                            "#46039f"
                          ],
                          [
                            0.2222222222222222,
                            "#7201a8"
                          ],
                          [
                            0.3333333333333333,
                            "#9c179e"
                          ],
                          [
                            0.4444444444444444,
                            "#bd3786"
                          ],
                          [
                            0.5555555555555556,
                            "#d8576b"
                          ],
                          [
                            0.6666666666666666,
                            "#ed7953"
                          ],
                          [
                            0.7777777777777778,
                            "#fb9f3a"
                          ],
                          [
                            0.8888888888888888,
                            "#fdca26"
                          ],
                          [
                            1,
                            "#f0f921"
                          ]
                        ],
                        "type": "surface"
                      }
                    ],
                    "table": [
                      {
                        "cells": {
                          "fill": {
                            "color": "#EBF0F8"
                          },
                          "line": {
                            "color": "white"
                          }
                        },
                        "header": {
                          "fill": {
                            "color": "#C8D4E3"
                          },
                          "line": {
                            "color": "white"
                          }
                        },
                        "type": "table"
                      }
                    ]
                  },
                  "layout": {
                    "annotationdefaults": {
                      "arrowcolor": "#2a3f5f",
                      "arrowhead": 0,
                      "arrowwidth": 1
                    },
                    "autotypenumbers": "strict",
                    "coloraxis": {
                      "colorbar": {
                        "outlinewidth": 0,
                        "ticks": ""
                      }
                    },
                    "colorscale": {
                      "diverging": [
                        [
                          0,
                          "#8e0152"
                        ],
                        [
                          0.1,
                          "#c51b7d"
                        ],
                        [
                          0.2,
                          "#de77ae"
                        ],
                        [
                          0.3,
                          "#f1b6da"
                        ],
                        [
                          0.4,
                          "#fde0ef"
                        ],
                        [
                          0.5,
                          "#f7f7f7"
                        ],
                        [
                          0.6,
                          "#e6f5d0"
                        ],
                        [
                          0.7,
                          "#b8e186"
                        ],
                        [
                          0.8,
                          "#7fbc41"
                        ],
                        [
                          0.9,
                          "#4d9221"
                        ],
                        [
                          1,
                          "#276419"
                        ]
                      ],
                      "sequential": [
                        [
                          0,
                          "#0d0887"
                        ],
                        [
                          0.1111111111111111,
                          "#46039f"
                        ],
                        [
                          0.2222222222222222,
                          "#7201a8"
                        ],
                        [
                          0.3333333333333333,
                          "#9c179e"
                        ],
                        [
                          0.4444444444444444,
                          "#bd3786"
                        ],
                        [
                          0.5555555555555556,
                          "#d8576b"
                        ],
                        [
                          0.6666666666666666,
                          "#ed7953"
                        ],
                        [
                          0.7777777777777778,
                          "#fb9f3a"
                        ],
                        [
                          0.8888888888888888,
                          "#fdca26"
                        ],
                        [
                          1,
                          "#f0f921"
                        ]
                      ],
                      "sequentialminus": [
                        [
                          0,
                          "#0d0887"
                        ],
                        [
                          0.1111111111111111,
                          "#46039f"
                        ],
                        [
                          0.2222222222222222,
                          "#7201a8"
                        ],
                        [
                          0.3333333333333333,
                          "#9c179e"
                        ],
                        [
                          0.4444444444444444,
                          "#bd3786"
                        ],
                        [
                          0.5555555555555556,
                          "#d8576b"
                        ],
                        [
                          0.6666666666666666,
                          "#ed7953"
                        ],
                        [
                          0.7777777777777778,
                          "#fb9f3a"
                        ],
                        [
                          0.8888888888888888,
                          "#fdca26"
                        ],
                        [
                          1,
                          "#f0f921"
                        ]
                      ]
                    },
                    "colorway": [
                      "#636efa",
                      "#EF553B",
                      "#00cc96",
                      "#ab63fa",
                      "#FFA15A",
                      "#19d3f3",
                      "#FF6692",
                      "#B6E880",
                      "#FF97FF",
                      "#FECB52"
                    ],
                    "font": {
                      "color": "#2a3f5f"
                    },
                    "geo": {
                      "bgcolor": "white",
                      "lakecolor": "white",
                      "landcolor": "#E5ECF6",
                      "showlakes": true,
                      "showland": true,
                      "subunitcolor": "white"
                    },
                    "hoverlabel": {
                      "align": "left"
                    },
                    "hovermode": "closest",
                    "mapbox": {
                      "style": "light"
                    },
                    "paper_bgcolor": "white",
                    "plot_bgcolor": "#E5ECF6",
                    "polar": {
                      "angularaxis": {
                        "gridcolor": "white",
                        "linecolor": "white",
                        "ticks": ""
                      },
                      "bgcolor": "#E5ECF6",
                      "radialaxis": {
                        "gridcolor": "white",
                        "linecolor": "white",
                        "ticks": ""
                      }
                    },
                    "scene": {
                      "xaxis": {
                        "backgroundcolor": "#E5ECF6",
                        "gridcolor": "white",
                        "gridwidth": 2,
                        "linecolor": "white",
                        "showbackground": true,
                        "ticks": "",
                        "zerolinecolor": "white"
                      },
                      "yaxis": {
                        "backgroundcolor": "#E5ECF6",
                        "gridcolor": "white",
                        "gridwidth": 2,
                        "linecolor": "white",
                        "showbackground": true,
                        "ticks": "",
                        "zerolinecolor": "white"
                      },
                      "zaxis": {
                        "backgroundcolor": "#E5ECF6",
                        "gridcolor": "white",
                        "gridwidth": 2,
                        "linecolor": "white",
                        "showbackground": true,
                        "ticks": "",
                        "zerolinecolor": "white"
                      }
                    },
                    "shapedefaults": {
                      "line": {
                        "color": "#2a3f5f"
                      }
                    },
                    "ternary": {
                      "aaxis": {
                        "gridcolor": "white",
                        "linecolor": "white",
                        "ticks": ""
                      },
                      "baxis": {
                        "gridcolor": "white",
                        "linecolor": "white",
                        "ticks": ""
                      },
                      "bgcolor": "#E5ECF6",
                      "caxis": {
                        "gridcolor": "white",
                        "linecolor": "white",
                        "ticks": ""
                      }
                    },
                    "title": {
                      "x": 0.05
                    },
                    "xaxis": {
                      "automargin": true,
                      "gridcolor": "white",
                      "linecolor": "white",
                      "ticks": "",
                      "title": {
                        "standoff": 15
                      },
                      "zerolinecolor": "white",
                      "zerolinewidth": 2
                    },
                    "yaxis": {
                      "automargin": true,
                      "gridcolor": "white",
                      "linecolor": "white",
                      "ticks": "",
                      "title": {
                        "standoff": 15
                      },
                      "zerolinecolor": "white",
                      "zerolinewidth": 2
                    }
                  }
                },
                "title": {
                  "text": "Distribusi Employment Types pada Pekerjaan Data Analyst"
                },
                "width": 600
              }
            }
          },
          "metadata": {},
          "output_type": "display_data"
        }
      ],
      "source": [
        "import plotly.express as px\n",
        "import pandas as pd\n",
        "\n",
        "# Menghitung jumlah employment type\n",
        "Employment_type = pd.Series(et)\n",
        "employment_counts = Employment_type.value_counts()\n",
        "\n",
        "# Membuat pie chart\n",
        "fig = px.pie(names=employment_counts.index, values=employment_counts.values,\n",
        "             title=\"Distribusi Employment Types pada Pekerjaan Data Analyst\",\n",
        "             labels={'names': 'Employment Type', 'values': 'Number of Jobs'},\n",
        "             color_discrete_sequence=px.colors.qualitative.Set3,\n",
        "             height=400, width=600)\n",
        "\n",
        "# Menampilkan plot\n",
        "fig.show()\n"
      ]
    },
    {
      "cell_type": "markdown",
      "metadata": {},
      "source": [
        "Pekerjaan sebagai `Data Analyst` seimbang untuk `contract` maupun `Full-time`"
      ]
    },
    {
      "cell_type": "markdown",
      "metadata": {},
      "source": [
        "#### Lingkup pekerjaan yang akan dilakukan"
      ]
    },
    {
      "cell_type": "code",
      "execution_count": 63,
      "metadata": {},
      "outputs": [
        {
          "data": {
            "application/vnd.plotly.v1+json": {
              "config": {
                "plotlyServerURL": "https://plot.ly"
              },
              "data": [
                {
                  "alignmentgroup": "True",
                  "hovertemplate": "Job_function=%{y}<br>Number of Jobs=%{x}<extra></extra>",
                  "legendgroup": "Information Technology",
                  "marker": {
                    "color": "#636efa",
                    "pattern": {
                      "shape": ""
                    }
                  },
                  "name": "Information Technology",
                  "offsetgroup": "Information Technology",
                  "orientation": "h",
                  "showlegend": true,
                  "text": [
                    328,
                    139,
                    84,
                    38,
                    34,
                    3,
                    2,
                    1,
                    1,
                    1,
                    1
                  ],
                  "textposition": "outside",
                  "type": "bar",
                  "x": [
                    328
                  ],
                  "xaxis": "x",
                  "y": [
                    "Information Technology"
                  ],
                  "yaxis": "y"
                },
                {
                  "alignmentgroup": "True",
                  "hovertemplate": "Job_function=%{y}<br>Number of Jobs=%{x}<extra></extra>",
                  "legendgroup": "Information Technology and Analyst",
                  "marker": {
                    "color": "#EF553B",
                    "pattern": {
                      "shape": ""
                    }
                  },
                  "name": "Information Technology and Analyst",
                  "offsetgroup": "Information Technology and Analyst",
                  "orientation": "h",
                  "showlegend": true,
                  "text": [
                    328,
                    139,
                    84,
                    38,
                    34,
                    3,
                    2,
                    1,
                    1,
                    1,
                    1
                  ],
                  "textposition": "outside",
                  "type": "bar",
                  "x": [
                    139
                  ],
                  "xaxis": "x",
                  "y": [
                    "Information Technology and Analyst"
                  ],
                  "yaxis": "y"
                },
                {
                  "alignmentgroup": "True",
                  "hovertemplate": "Job_function=%{y}<br>Number of Jobs=%{x}<extra></extra>",
                  "legendgroup": "Analyst",
                  "marker": {
                    "color": "#00cc96",
                    "pattern": {
                      "shape": ""
                    }
                  },
                  "name": "Analyst",
                  "offsetgroup": "Analyst",
                  "orientation": "h",
                  "showlegend": true,
                  "text": [
                    328,
                    139,
                    84,
                    38,
                    34,
                    3,
                    2,
                    1,
                    1,
                    1,
                    1
                  ],
                  "textposition": "outside",
                  "type": "bar",
                  "x": [
                    84
                  ],
                  "xaxis": "x",
                  "y": [
                    "Analyst"
                  ],
                  "yaxis": "y"
                },
                {
                  "alignmentgroup": "True",
                  "hovertemplate": "Job_function=%{y}<br>Number of Jobs=%{x}<extra></extra>",
                  "legendgroup": "Finance",
                  "marker": {
                    "color": "#ab63fa",
                    "pattern": {
                      "shape": ""
                    }
                  },
                  "name": "Finance",
                  "offsetgroup": "Finance",
                  "orientation": "h",
                  "showlegend": true,
                  "text": [
                    328,
                    139,
                    84,
                    38,
                    34,
                    3,
                    2,
                    1,
                    1,
                    1,
                    1
                  ],
                  "textposition": "outside",
                  "type": "bar",
                  "x": [
                    38
                  ],
                  "xaxis": "x",
                  "y": [
                    "Finance"
                  ],
                  "yaxis": "y"
                },
                {
                  "alignmentgroup": "True",
                  "hovertemplate": "Job_function=%{y}<br>Number of Jobs=%{x}<extra></extra>",
                  "legendgroup": "Information Technology and Engineering",
                  "marker": {
                    "color": "#FFA15A",
                    "pattern": {
                      "shape": ""
                    }
                  },
                  "name": "Information Technology and Engineering",
                  "offsetgroup": "Information Technology and Engineering",
                  "orientation": "h",
                  "showlegend": true,
                  "text": [
                    328,
                    139,
                    84,
                    38,
                    34,
                    3,
                    2,
                    1,
                    1,
                    1,
                    1
                  ],
                  "textposition": "outside",
                  "type": "bar",
                  "x": [
                    34
                  ],
                  "xaxis": "x",
                  "y": [
                    "Information Technology and Engineering"
                  ],
                  "yaxis": "y"
                },
                {
                  "alignmentgroup": "True",
                  "hovertemplate": "Job_function=%{y}<br>Number of Jobs=%{x}<extra></extra>",
                  "legendgroup": "Information Technology and Marketing",
                  "marker": {
                    "color": "#19d3f3",
                    "pattern": {
                      "shape": ""
                    }
                  },
                  "name": "Information Technology and Marketing",
                  "offsetgroup": "Information Technology and Marketing",
                  "orientation": "h",
                  "showlegend": true,
                  "text": [
                    328,
                    139,
                    84,
                    38,
                    34,
                    3,
                    2,
                    1,
                    1,
                    1,
                    1
                  ],
                  "textposition": "outside",
                  "type": "bar",
                  "x": [
                    3
                  ],
                  "xaxis": "x",
                  "y": [
                    "Information Technology and Marketing"
                  ],
                  "yaxis": "y"
                },
                {
                  "alignmentgroup": "True",
                  "hovertemplate": "Job_function=%{y}<br>Number of Jobs=%{x}<extra></extra>",
                  "legendgroup": "Analyst and Marketing",
                  "marker": {
                    "color": "#FF6692",
                    "pattern": {
                      "shape": ""
                    }
                  },
                  "name": "Analyst and Marketing",
                  "offsetgroup": "Analyst and Marketing",
                  "orientation": "h",
                  "showlegend": true,
                  "text": [
                    328,
                    139,
                    84,
                    38,
                    34,
                    3,
                    2,
                    1,
                    1,
                    1,
                    1
                  ],
                  "textposition": "outside",
                  "type": "bar",
                  "x": [
                    2
                  ],
                  "xaxis": "x",
                  "y": [
                    "Analyst and Marketing"
                  ],
                  "yaxis": "y"
                },
                {
                  "alignmentgroup": "True",
                  "hovertemplate": "Job_function=%{y}<br>Number of Jobs=%{x}<extra></extra>",
                  "legendgroup": "Project Management and Analyst",
                  "marker": {
                    "color": "#B6E880",
                    "pattern": {
                      "shape": ""
                    }
                  },
                  "name": "Project Management and Analyst",
                  "offsetgroup": "Project Management and Analyst",
                  "orientation": "h",
                  "showlegend": true,
                  "text": [
                    328,
                    139,
                    84,
                    38,
                    34,
                    3,
                    2,
                    1,
                    1,
                    1,
                    1
                  ],
                  "textposition": "outside",
                  "type": "bar",
                  "x": [
                    1
                  ],
                  "xaxis": "x",
                  "y": [
                    "Project Management and Analyst"
                  ],
                  "yaxis": "y"
                },
                {
                  "alignmentgroup": "True",
                  "hovertemplate": "Job_function=%{y}<br>Number of Jobs=%{x}<extra></extra>",
                  "legendgroup": "Education",
                  "marker": {
                    "color": "#FF97FF",
                    "pattern": {
                      "shape": ""
                    }
                  },
                  "name": "Education",
                  "offsetgroup": "Education",
                  "orientation": "h",
                  "showlegend": true,
                  "text": [
                    328,
                    139,
                    84,
                    38,
                    34,
                    3,
                    2,
                    1,
                    1,
                    1,
                    1
                  ],
                  "textposition": "outside",
                  "type": "bar",
                  "x": [
                    1
                  ],
                  "xaxis": "x",
                  "y": [
                    "Education"
                  ],
                  "yaxis": "y"
                },
                {
                  "alignmentgroup": "True",
                  "hovertemplate": "Job_function=%{y}<br>Number of Jobs=%{x}<extra></extra>",
                  "legendgroup": "Analyst and Information Technology",
                  "marker": {
                    "color": "#FECB52",
                    "pattern": {
                      "shape": ""
                    }
                  },
                  "name": "Analyst and Information Technology",
                  "offsetgroup": "Analyst and Information Technology",
                  "orientation": "h",
                  "showlegend": true,
                  "text": [
                    328,
                    139,
                    84,
                    38,
                    34,
                    3,
                    2,
                    1,
                    1,
                    1,
                    1
                  ],
                  "textposition": "outside",
                  "type": "bar",
                  "x": [
                    1
                  ],
                  "xaxis": "x",
                  "y": [
                    "Analyst and Information Technology"
                  ],
                  "yaxis": "y"
                },
                {
                  "alignmentgroup": "True",
                  "hovertemplate": "Job_function=%{y}<br>Number of Jobs=%{x}<extra></extra>",
                  "legendgroup": "Analyst and Finance",
                  "marker": {
                    "color": "#636efa",
                    "pattern": {
                      "shape": ""
                    }
                  },
                  "name": "Analyst and Finance",
                  "offsetgroup": "Analyst and Finance",
                  "orientation": "h",
                  "showlegend": true,
                  "text": [
                    328,
                    139,
                    84,
                    38,
                    34,
                    3,
                    2,
                    1,
                    1,
                    1,
                    1
                  ],
                  "textposition": "outside",
                  "type": "bar",
                  "x": [
                    1
                  ],
                  "xaxis": "x",
                  "y": [
                    "Analyst and Finance"
                  ],
                  "yaxis": "y"
                }
              ],
              "layout": {
                "barmode": "relative",
                "height": 400,
                "legend": {
                  "title": {
                    "text": "Job_function"
                  },
                  "tracegroupgap": 0
                },
                "showlegend": false,
                "template": {
                  "data": {
                    "bar": [
                      {
                        "error_x": {
                          "color": "#2a3f5f"
                        },
                        "error_y": {
                          "color": "#2a3f5f"
                        },
                        "marker": {
                          "line": {
                            "color": "#E5ECF6",
                            "width": 0.5
                          },
                          "pattern": {
                            "fillmode": "overlay",
                            "size": 10,
                            "solidity": 0.2
                          }
                        },
                        "type": "bar"
                      }
                    ],
                    "barpolar": [
                      {
                        "marker": {
                          "line": {
                            "color": "#E5ECF6",
                            "width": 0.5
                          },
                          "pattern": {
                            "fillmode": "overlay",
                            "size": 10,
                            "solidity": 0.2
                          }
                        },
                        "type": "barpolar"
                      }
                    ],
                    "carpet": [
                      {
                        "aaxis": {
                          "endlinecolor": "#2a3f5f",
                          "gridcolor": "white",
                          "linecolor": "white",
                          "minorgridcolor": "white",
                          "startlinecolor": "#2a3f5f"
                        },
                        "baxis": {
                          "endlinecolor": "#2a3f5f",
                          "gridcolor": "white",
                          "linecolor": "white",
                          "minorgridcolor": "white",
                          "startlinecolor": "#2a3f5f"
                        },
                        "type": "carpet"
                      }
                    ],
                    "choropleth": [
                      {
                        "colorbar": {
                          "outlinewidth": 0,
                          "ticks": ""
                        },
                        "type": "choropleth"
                      }
                    ],
                    "contour": [
                      {
                        "colorbar": {
                          "outlinewidth": 0,
                          "ticks": ""
                        },
                        "colorscale": [
                          [
                            0,
                            "#0d0887"
                          ],
                          [
                            0.1111111111111111,
                            "#46039f"
                          ],
                          [
                            0.2222222222222222,
                            "#7201a8"
                          ],
                          [
                            0.3333333333333333,
                            "#9c179e"
                          ],
                          [
                            0.4444444444444444,
                            "#bd3786"
                          ],
                          [
                            0.5555555555555556,
                            "#d8576b"
                          ],
                          [
                            0.6666666666666666,
                            "#ed7953"
                          ],
                          [
                            0.7777777777777778,
                            "#fb9f3a"
                          ],
                          [
                            0.8888888888888888,
                            "#fdca26"
                          ],
                          [
                            1,
                            "#f0f921"
                          ]
                        ],
                        "type": "contour"
                      }
                    ],
                    "contourcarpet": [
                      {
                        "colorbar": {
                          "outlinewidth": 0,
                          "ticks": ""
                        },
                        "type": "contourcarpet"
                      }
                    ],
                    "heatmap": [
                      {
                        "colorbar": {
                          "outlinewidth": 0,
                          "ticks": ""
                        },
                        "colorscale": [
                          [
                            0,
                            "#0d0887"
                          ],
                          [
                            0.1111111111111111,
                            "#46039f"
                          ],
                          [
                            0.2222222222222222,
                            "#7201a8"
                          ],
                          [
                            0.3333333333333333,
                            "#9c179e"
                          ],
                          [
                            0.4444444444444444,
                            "#bd3786"
                          ],
                          [
                            0.5555555555555556,
                            "#d8576b"
                          ],
                          [
                            0.6666666666666666,
                            "#ed7953"
                          ],
                          [
                            0.7777777777777778,
                            "#fb9f3a"
                          ],
                          [
                            0.8888888888888888,
                            "#fdca26"
                          ],
                          [
                            1,
                            "#f0f921"
                          ]
                        ],
                        "type": "heatmap"
                      }
                    ],
                    "heatmapgl": [
                      {
                        "colorbar": {
                          "outlinewidth": 0,
                          "ticks": ""
                        },
                        "colorscale": [
                          [
                            0,
                            "#0d0887"
                          ],
                          [
                            0.1111111111111111,
                            "#46039f"
                          ],
                          [
                            0.2222222222222222,
                            "#7201a8"
                          ],
                          [
                            0.3333333333333333,
                            "#9c179e"
                          ],
                          [
                            0.4444444444444444,
                            "#bd3786"
                          ],
                          [
                            0.5555555555555556,
                            "#d8576b"
                          ],
                          [
                            0.6666666666666666,
                            "#ed7953"
                          ],
                          [
                            0.7777777777777778,
                            "#fb9f3a"
                          ],
                          [
                            0.8888888888888888,
                            "#fdca26"
                          ],
                          [
                            1,
                            "#f0f921"
                          ]
                        ],
                        "type": "heatmapgl"
                      }
                    ],
                    "histogram": [
                      {
                        "marker": {
                          "pattern": {
                            "fillmode": "overlay",
                            "size": 10,
                            "solidity": 0.2
                          }
                        },
                        "type": "histogram"
                      }
                    ],
                    "histogram2d": [
                      {
                        "colorbar": {
                          "outlinewidth": 0,
                          "ticks": ""
                        },
                        "colorscale": [
                          [
                            0,
                            "#0d0887"
                          ],
                          [
                            0.1111111111111111,
                            "#46039f"
                          ],
                          [
                            0.2222222222222222,
                            "#7201a8"
                          ],
                          [
                            0.3333333333333333,
                            "#9c179e"
                          ],
                          [
                            0.4444444444444444,
                            "#bd3786"
                          ],
                          [
                            0.5555555555555556,
                            "#d8576b"
                          ],
                          [
                            0.6666666666666666,
                            "#ed7953"
                          ],
                          [
                            0.7777777777777778,
                            "#fb9f3a"
                          ],
                          [
                            0.8888888888888888,
                            "#fdca26"
                          ],
                          [
                            1,
                            "#f0f921"
                          ]
                        ],
                        "type": "histogram2d"
                      }
                    ],
                    "histogram2dcontour": [
                      {
                        "colorbar": {
                          "outlinewidth": 0,
                          "ticks": ""
                        },
                        "colorscale": [
                          [
                            0,
                            "#0d0887"
                          ],
                          [
                            0.1111111111111111,
                            "#46039f"
                          ],
                          [
                            0.2222222222222222,
                            "#7201a8"
                          ],
                          [
                            0.3333333333333333,
                            "#9c179e"
                          ],
                          [
                            0.4444444444444444,
                            "#bd3786"
                          ],
                          [
                            0.5555555555555556,
                            "#d8576b"
                          ],
                          [
                            0.6666666666666666,
                            "#ed7953"
                          ],
                          [
                            0.7777777777777778,
                            "#fb9f3a"
                          ],
                          [
                            0.8888888888888888,
                            "#fdca26"
                          ],
                          [
                            1,
                            "#f0f921"
                          ]
                        ],
                        "type": "histogram2dcontour"
                      }
                    ],
                    "mesh3d": [
                      {
                        "colorbar": {
                          "outlinewidth": 0,
                          "ticks": ""
                        },
                        "type": "mesh3d"
                      }
                    ],
                    "parcoords": [
                      {
                        "line": {
                          "colorbar": {
                            "outlinewidth": 0,
                            "ticks": ""
                          }
                        },
                        "type": "parcoords"
                      }
                    ],
                    "pie": [
                      {
                        "automargin": true,
                        "type": "pie"
                      }
                    ],
                    "scatter": [
                      {
                        "fillpattern": {
                          "fillmode": "overlay",
                          "size": 10,
                          "solidity": 0.2
                        },
                        "type": "scatter"
                      }
                    ],
                    "scatter3d": [
                      {
                        "line": {
                          "colorbar": {
                            "outlinewidth": 0,
                            "ticks": ""
                          }
                        },
                        "marker": {
                          "colorbar": {
                            "outlinewidth": 0,
                            "ticks": ""
                          }
                        },
                        "type": "scatter3d"
                      }
                    ],
                    "scattercarpet": [
                      {
                        "marker": {
                          "colorbar": {
                            "outlinewidth": 0,
                            "ticks": ""
                          }
                        },
                        "type": "scattercarpet"
                      }
                    ],
                    "scattergeo": [
                      {
                        "marker": {
                          "colorbar": {
                            "outlinewidth": 0,
                            "ticks": ""
                          }
                        },
                        "type": "scattergeo"
                      }
                    ],
                    "scattergl": [
                      {
                        "marker": {
                          "colorbar": {
                            "outlinewidth": 0,
                            "ticks": ""
                          }
                        },
                        "type": "scattergl"
                      }
                    ],
                    "scattermapbox": [
                      {
                        "marker": {
                          "colorbar": {
                            "outlinewidth": 0,
                            "ticks": ""
                          }
                        },
                        "type": "scattermapbox"
                      }
                    ],
                    "scatterpolar": [
                      {
                        "marker": {
                          "colorbar": {
                            "outlinewidth": 0,
                            "ticks": ""
                          }
                        },
                        "type": "scatterpolar"
                      }
                    ],
                    "scatterpolargl": [
                      {
                        "marker": {
                          "colorbar": {
                            "outlinewidth": 0,
                            "ticks": ""
                          }
                        },
                        "type": "scatterpolargl"
                      }
                    ],
                    "scatterternary": [
                      {
                        "marker": {
                          "colorbar": {
                            "outlinewidth": 0,
                            "ticks": ""
                          }
                        },
                        "type": "scatterternary"
                      }
                    ],
                    "surface": [
                      {
                        "colorbar": {
                          "outlinewidth": 0,
                          "ticks": ""
                        },
                        "colorscale": [
                          [
                            0,
                            "#0d0887"
                          ],
                          [
                            0.1111111111111111,
                            "#46039f"
                          ],
                          [
                            0.2222222222222222,
                            "#7201a8"
                          ],
                          [
                            0.3333333333333333,
                            "#9c179e"
                          ],
                          [
                            0.4444444444444444,
                            "#bd3786"
                          ],
                          [
                            0.5555555555555556,
                            "#d8576b"
                          ],
                          [
                            0.6666666666666666,
                            "#ed7953"
                          ],
                          [
                            0.7777777777777778,
                            "#fb9f3a"
                          ],
                          [
                            0.8888888888888888,
                            "#fdca26"
                          ],
                          [
                            1,
                            "#f0f921"
                          ]
                        ],
                        "type": "surface"
                      }
                    ],
                    "table": [
                      {
                        "cells": {
                          "fill": {
                            "color": "#EBF0F8"
                          },
                          "line": {
                            "color": "white"
                          }
                        },
                        "header": {
                          "fill": {
                            "color": "#C8D4E3"
                          },
                          "line": {
                            "color": "white"
                          }
                        },
                        "type": "table"
                      }
                    ]
                  },
                  "layout": {
                    "annotationdefaults": {
                      "arrowcolor": "#2a3f5f",
                      "arrowhead": 0,
                      "arrowwidth": 1
                    },
                    "autotypenumbers": "strict",
                    "coloraxis": {
                      "colorbar": {
                        "outlinewidth": 0,
                        "ticks": ""
                      }
                    },
                    "colorscale": {
                      "diverging": [
                        [
                          0,
                          "#8e0152"
                        ],
                        [
                          0.1,
                          "#c51b7d"
                        ],
                        [
                          0.2,
                          "#de77ae"
                        ],
                        [
                          0.3,
                          "#f1b6da"
                        ],
                        [
                          0.4,
                          "#fde0ef"
                        ],
                        [
                          0.5,
                          "#f7f7f7"
                        ],
                        [
                          0.6,
                          "#e6f5d0"
                        ],
                        [
                          0.7,
                          "#b8e186"
                        ],
                        [
                          0.8,
                          "#7fbc41"
                        ],
                        [
                          0.9,
                          "#4d9221"
                        ],
                        [
                          1,
                          "#276419"
                        ]
                      ],
                      "sequential": [
                        [
                          0,
                          "#0d0887"
                        ],
                        [
                          0.1111111111111111,
                          "#46039f"
                        ],
                        [
                          0.2222222222222222,
                          "#7201a8"
                        ],
                        [
                          0.3333333333333333,
                          "#9c179e"
                        ],
                        [
                          0.4444444444444444,
                          "#bd3786"
                        ],
                        [
                          0.5555555555555556,
                          "#d8576b"
                        ],
                        [
                          0.6666666666666666,
                          "#ed7953"
                        ],
                        [
                          0.7777777777777778,
                          "#fb9f3a"
                        ],
                        [
                          0.8888888888888888,
                          "#fdca26"
                        ],
                        [
                          1,
                          "#f0f921"
                        ]
                      ],
                      "sequentialminus": [
                        [
                          0,
                          "#0d0887"
                        ],
                        [
                          0.1111111111111111,
                          "#46039f"
                        ],
                        [
                          0.2222222222222222,
                          "#7201a8"
                        ],
                        [
                          0.3333333333333333,
                          "#9c179e"
                        ],
                        [
                          0.4444444444444444,
                          "#bd3786"
                        ],
                        [
                          0.5555555555555556,
                          "#d8576b"
                        ],
                        [
                          0.6666666666666666,
                          "#ed7953"
                        ],
                        [
                          0.7777777777777778,
                          "#fb9f3a"
                        ],
                        [
                          0.8888888888888888,
                          "#fdca26"
                        ],
                        [
                          1,
                          "#f0f921"
                        ]
                      ]
                    },
                    "colorway": [
                      "#636efa",
                      "#EF553B",
                      "#00cc96",
                      "#ab63fa",
                      "#FFA15A",
                      "#19d3f3",
                      "#FF6692",
                      "#B6E880",
                      "#FF97FF",
                      "#FECB52"
                    ],
                    "font": {
                      "color": "#2a3f5f"
                    },
                    "geo": {
                      "bgcolor": "white",
                      "lakecolor": "white",
                      "landcolor": "#E5ECF6",
                      "showlakes": true,
                      "showland": true,
                      "subunitcolor": "white"
                    },
                    "hoverlabel": {
                      "align": "left"
                    },
                    "hovermode": "closest",
                    "mapbox": {
                      "style": "light"
                    },
                    "paper_bgcolor": "white",
                    "plot_bgcolor": "#E5ECF6",
                    "polar": {
                      "angularaxis": {
                        "gridcolor": "white",
                        "linecolor": "white",
                        "ticks": ""
                      },
                      "bgcolor": "#E5ECF6",
                      "radialaxis": {
                        "gridcolor": "white",
                        "linecolor": "white",
                        "ticks": ""
                      }
                    },
                    "scene": {
                      "xaxis": {
                        "backgroundcolor": "#E5ECF6",
                        "gridcolor": "white",
                        "gridwidth": 2,
                        "linecolor": "white",
                        "showbackground": true,
                        "ticks": "",
                        "zerolinecolor": "white"
                      },
                      "yaxis": {
                        "backgroundcolor": "#E5ECF6",
                        "gridcolor": "white",
                        "gridwidth": 2,
                        "linecolor": "white",
                        "showbackground": true,
                        "ticks": "",
                        "zerolinecolor": "white"
                      },
                      "zaxis": {
                        "backgroundcolor": "#E5ECF6",
                        "gridcolor": "white",
                        "gridwidth": 2,
                        "linecolor": "white",
                        "showbackground": true,
                        "ticks": "",
                        "zerolinecolor": "white"
                      }
                    },
                    "shapedefaults": {
                      "line": {
                        "color": "#2a3f5f"
                      }
                    },
                    "ternary": {
                      "aaxis": {
                        "gridcolor": "white",
                        "linecolor": "white",
                        "ticks": ""
                      },
                      "baxis": {
                        "gridcolor": "white",
                        "linecolor": "white",
                        "ticks": ""
                      },
                      "bgcolor": "#E5ECF6",
                      "caxis": {
                        "gridcolor": "white",
                        "linecolor": "white",
                        "ticks": ""
                      }
                    },
                    "title": {
                      "x": 0.05
                    },
                    "xaxis": {
                      "automargin": true,
                      "gridcolor": "white",
                      "linecolor": "white",
                      "ticks": "",
                      "title": {
                        "standoff": 15
                      },
                      "zerolinecolor": "white",
                      "zerolinewidth": 2
                    },
                    "yaxis": {
                      "automargin": true,
                      "gridcolor": "white",
                      "linecolor": "white",
                      "ticks": "",
                      "title": {
                        "standoff": 15
                      },
                      "zerolinecolor": "white",
                      "zerolinewidth": 2
                    }
                  }
                },
                "title": {
                  "text": "Data Analyst Jobs Based On Job_function Expectations"
                },
                "width": 1100,
                "xaxis": {
                  "anchor": "y",
                  "domain": [
                    0,
                    1
                  ],
                  "title": {
                    "text": "Number of Jobs"
                  }
                },
                "yaxis": {
                  "anchor": "x",
                  "categoryarray": [
                    "Analyst and Finance",
                    "Analyst and Information Technology",
                    "Education",
                    "Project Management and Analyst",
                    "Analyst and Marketing",
                    "Information Technology and Marketing",
                    "Information Technology and Engineering",
                    "Finance",
                    "Analyst",
                    "Information Technology and Analyst",
                    "Information Technology"
                  ],
                  "categoryorder": "array",
                  "domain": [
                    0,
                    1
                  ],
                  "title": {
                    "text": "Job_function"
                  }
                }
              }
            }
          },
          "metadata": {},
          "output_type": "display_data"
        }
      ],
      "source": [
        "Job_function=pd.Series(jf)\n",
        "\n",
        "# Using Plotly Express for bar chart\n",
        "fig = px.bar(pd.DataFrame({'Job_function': Job_function.value_counts().index,\n",
        "                           'count': Job_function.value_counts().values}),\n",
        "             x='count', y='Job_function',\n",
        "             orientation='h',\n",
        "             color='Job_function',\n",
        "             title=\"Data Analyst Jobs Based On Job_function Expectations\",\n",
        "             labels={'Job_function': 'Job_function', 'count': 'Number of Jobs'},\n",
        "             height=400, width=1100)\n",
        "\n",
        "fig.update_layout(yaxis=dict(title='Job_function'),\n",
        "                  xaxis=dict(title='Number of Jobs'),\n",
        "                  showlegend=False)\n",
        "\n",
        "fig.update_traces(text=Job_function.value_counts().values, textposition='outside')\n",
        "\n",
        "fig.show()\n"
      ]
    },
    {
      "cell_type": "markdown",
      "metadata": {},
      "source": [
        "Kebanyakan role pekerjaan sebagai `Data Analyst` bekerja di lingkup `Technology` dan `Finance`."
      ]
    },
    {
      "cell_type": "markdown",
      "metadata": {},
      "source": [
        "#### Industri yang menyediakan pekerjaan Data Analyst"
      ]
    },
    {
      "cell_type": "code",
      "execution_count": 86,
      "metadata": {},
      "outputs": [
        {
          "data": {
            "application/vnd.plotly.v1+json": {
              "config": {
                "plotlyServerURL": "https://plot.ly"
              },
              "data": [
                {
                  "alignmentgroup": "True",
                  "hovertemplate": "Industries=%{y}<br>Number of Jobs=%{x}<extra></extra>",
                  "legendgroup": "IT Services and IT Consulting",
                  "marker": {
                    "color": "#636efa",
                    "pattern": {
                      "shape": ""
                    }
                  },
                  "name": "IT Services and IT Consulting",
                  "offsetgroup": "IT Services and IT Consulting",
                  "orientation": "h",
                  "showlegend": true,
                  "text": [
                    103,
                    60,
                    39,
                    38,
                    37,
                    36,
                    36,
                    35,
                    35,
                    34,
                    33,
                    33,
                    29,
                    23,
                    18,
                    15,
                    12,
                    5,
                    5,
                    3,
                    1,
                    1,
                    1
                  ],
                  "textposition": "outside",
                  "type": "bar",
                  "x": [
                    103
                  ],
                  "xaxis": "x",
                  "y": [
                    "IT Services and IT Consulting"
                  ],
                  "yaxis": "y"
                },
                {
                  "alignmentgroup": "True",
                  "hovertemplate": "Industries=%{y}<br>Number of Jobs=%{x}<extra></extra>",
                  "legendgroup": "Staffing and Recruiting",
                  "marker": {
                    "color": "#EF553B",
                    "pattern": {
                      "shape": ""
                    }
                  },
                  "name": "Staffing and Recruiting",
                  "offsetgroup": "Staffing and Recruiting",
                  "orientation": "h",
                  "showlegend": true,
                  "text": [
                    103,
                    60,
                    39,
                    38,
                    37,
                    36,
                    36,
                    35,
                    35,
                    34,
                    33,
                    33,
                    29,
                    23,
                    18,
                    15,
                    12,
                    5,
                    5,
                    3,
                    1,
                    1,
                    1
                  ],
                  "textposition": "outside",
                  "type": "bar",
                  "x": [
                    60
                  ],
                  "xaxis": "x",
                  "y": [
                    "Staffing and Recruiting"
                  ],
                  "yaxis": "y"
                },
                {
                  "alignmentgroup": "True",
                  "hovertemplate": "Industries=%{y}<br>Number of Jobs=%{x}<extra></extra>",
                  "legendgroup": "Advertising Services",
                  "marker": {
                    "color": "#00cc96",
                    "pattern": {
                      "shape": ""
                    }
                  },
                  "name": "Advertising Services",
                  "offsetgroup": "Advertising Services",
                  "orientation": "h",
                  "showlegend": true,
                  "text": [
                    103,
                    60,
                    39,
                    38,
                    37,
                    36,
                    36,
                    35,
                    35,
                    34,
                    33,
                    33,
                    29,
                    23,
                    18,
                    15,
                    12,
                    5,
                    5,
                    3,
                    1,
                    1,
                    1
                  ],
                  "textposition": "outside",
                  "type": "bar",
                  "x": [
                    39
                  ],
                  "xaxis": "x",
                  "y": [
                    "Advertising Services"
                  ],
                  "yaxis": "y"
                },
                {
                  "alignmentgroup": "True",
                  "hovertemplate": "Industries=%{y}<br>Number of Jobs=%{x}<extra></extra>",
                  "legendgroup": "Hospitals and Health Care",
                  "marker": {
                    "color": "#ab63fa",
                    "pattern": {
                      "shape": ""
                    }
                  },
                  "name": "Hospitals and Health Care",
                  "offsetgroup": "Hospitals and Health Care",
                  "orientation": "h",
                  "showlegend": true,
                  "text": [
                    103,
                    60,
                    39,
                    38,
                    37,
                    36,
                    36,
                    35,
                    35,
                    34,
                    33,
                    33,
                    29,
                    23,
                    18,
                    15,
                    12,
                    5,
                    5,
                    3,
                    1,
                    1,
                    1
                  ],
                  "textposition": "outside",
                  "type": "bar",
                  "x": [
                    38
                  ],
                  "xaxis": "x",
                  "y": [
                    "Hospitals and Health Care"
                  ],
                  "yaxis": "y"
                },
                {
                  "alignmentgroup": "True",
                  "hovertemplate": "Industries=%{y}<br>Number of Jobs=%{x}<extra></extra>",
                  "legendgroup": "IT Services and IT Consulting and Motor Vehicle Manufacturing",
                  "marker": {
                    "color": "#FFA15A",
                    "pattern": {
                      "shape": ""
                    }
                  },
                  "name": "IT Services and IT Consulting and Motor Vehicle Manufacturing",
                  "offsetgroup": "IT Services and IT Consulting and Motor Vehicle Manufacturing",
                  "orientation": "h",
                  "showlegend": true,
                  "text": [
                    103,
                    60,
                    39,
                    38,
                    37,
                    36,
                    36,
                    35,
                    35,
                    34,
                    33,
                    33,
                    29,
                    23,
                    18,
                    15,
                    12,
                    5,
                    5,
                    3,
                    1,
                    1,
                    1
                  ],
                  "textposition": "outside",
                  "type": "bar",
                  "x": [
                    37
                  ],
                  "xaxis": "x",
                  "y": [
                    "IT Services and IT Consulting and Motor Vehicle Manufacturing"
                  ],
                  "yaxis": "y"
                },
                {
                  "alignmentgroup": "True",
                  "hovertemplate": "Industries=%{y}<br>Number of Jobs=%{x}<extra></extra>",
                  "legendgroup": "Business Consulting and Services",
                  "marker": {
                    "color": "#19d3f3",
                    "pattern": {
                      "shape": ""
                    }
                  },
                  "name": "Business Consulting and Services",
                  "offsetgroup": "Business Consulting and Services",
                  "orientation": "h",
                  "showlegend": true,
                  "text": [
                    103,
                    60,
                    39,
                    38,
                    37,
                    36,
                    36,
                    35,
                    35,
                    34,
                    33,
                    33,
                    29,
                    23,
                    18,
                    15,
                    12,
                    5,
                    5,
                    3,
                    1,
                    1,
                    1
                  ],
                  "textposition": "outside",
                  "type": "bar",
                  "x": [
                    36
                  ],
                  "xaxis": "x",
                  "y": [
                    "Business Consulting and Services"
                  ],
                  "yaxis": "y"
                },
                {
                  "alignmentgroup": "True",
                  "hovertemplate": "Industries=%{y}<br>Number of Jobs=%{x}<extra></extra>",
                  "legendgroup": "Telecommunications",
                  "marker": {
                    "color": "#FF6692",
                    "pattern": {
                      "shape": ""
                    }
                  },
                  "name": "Telecommunications",
                  "offsetgroup": "Telecommunications",
                  "orientation": "h",
                  "showlegend": true,
                  "text": [
                    103,
                    60,
                    39,
                    38,
                    37,
                    36,
                    36,
                    35,
                    35,
                    34,
                    33,
                    33,
                    29,
                    23,
                    18,
                    15,
                    12,
                    5,
                    5,
                    3,
                    1,
                    1,
                    1
                  ],
                  "textposition": "outside",
                  "type": "bar",
                  "x": [
                    36
                  ],
                  "xaxis": "x",
                  "y": [
                    "Telecommunications"
                  ],
                  "yaxis": "y"
                },
                {
                  "alignmentgroup": "True",
                  "hovertemplate": "Industries=%{y}<br>Number of Jobs=%{x}<extra></extra>",
                  "legendgroup": "IT Services and IT Consulting and Software Development",
                  "marker": {
                    "color": "#B6E880",
                    "pattern": {
                      "shape": ""
                    }
                  },
                  "name": "IT Services and IT Consulting and Software Development",
                  "offsetgroup": "IT Services and IT Consulting and Software Development",
                  "orientation": "h",
                  "showlegend": true,
                  "text": [
                    103,
                    60,
                    39,
                    38,
                    37,
                    36,
                    36,
                    35,
                    35,
                    34,
                    33,
                    33,
                    29,
                    23,
                    18,
                    15,
                    12,
                    5,
                    5,
                    3,
                    1,
                    1,
                    1
                  ],
                  "textposition": "outside",
                  "type": "bar",
                  "x": [
                    35
                  ],
                  "xaxis": "x",
                  "y": [
                    "IT Services and IT Consulting and Software Development"
                  ],
                  "yaxis": "y"
                },
                {
                  "alignmentgroup": "True",
                  "hovertemplate": "Industries=%{y}<br>Number of Jobs=%{x}<extra></extra>",
                  "legendgroup": "Retail",
                  "marker": {
                    "color": "#FF97FF",
                    "pattern": {
                      "shape": ""
                    }
                  },
                  "name": "Retail",
                  "offsetgroup": "Retail",
                  "orientation": "h",
                  "showlegend": true,
                  "text": [
                    103,
                    60,
                    39,
                    38,
                    37,
                    36,
                    36,
                    35,
                    35,
                    34,
                    33,
                    33,
                    29,
                    23,
                    18,
                    15,
                    12,
                    5,
                    5,
                    3,
                    1,
                    1,
                    1
                  ],
                  "textposition": "outside",
                  "type": "bar",
                  "x": [
                    35
                  ],
                  "xaxis": "x",
                  "y": [
                    "Retail"
                  ],
                  "yaxis": "y"
                },
                {
                  "alignmentgroup": "True",
                  "hovertemplate": "Industries=%{y}<br>Number of Jobs=%{x}<extra></extra>",
                  "legendgroup": "IT Services and IT Consulting and Hospitals and Health Care",
                  "marker": {
                    "color": "#FECB52",
                    "pattern": {
                      "shape": ""
                    }
                  },
                  "name": "IT Services and IT Consulting and Hospitals and Health Care",
                  "offsetgroup": "IT Services and IT Consulting and Hospitals and Health Care",
                  "orientation": "h",
                  "showlegend": true,
                  "text": [
                    103,
                    60,
                    39,
                    38,
                    37,
                    36,
                    36,
                    35,
                    35,
                    34,
                    33,
                    33,
                    29,
                    23,
                    18,
                    15,
                    12,
                    5,
                    5,
                    3,
                    1,
                    1,
                    1
                  ],
                  "textposition": "outside",
                  "type": "bar",
                  "x": [
                    34
                  ],
                  "xaxis": "x",
                  "y": [
                    "IT Services and IT Consulting and Hospitals and Health Care"
                  ],
                  "yaxis": "y"
                },
                {
                  "alignmentgroup": "True",
                  "hovertemplate": "Industries=%{y}<br>Number of Jobs=%{x}<extra></extra>",
                  "legendgroup": "Software Development",
                  "marker": {
                    "color": "#636efa",
                    "pattern": {
                      "shape": ""
                    }
                  },
                  "name": "Software Development",
                  "offsetgroup": "Software Development",
                  "orientation": "h",
                  "showlegend": true,
                  "text": [
                    103,
                    60,
                    39,
                    38,
                    37,
                    36,
                    36,
                    35,
                    35,
                    34,
                    33,
                    33,
                    29,
                    23,
                    18,
                    15,
                    12,
                    5,
                    5,
                    3,
                    1,
                    1,
                    1
                  ],
                  "textposition": "outside",
                  "type": "bar",
                  "x": [
                    33
                  ],
                  "xaxis": "x",
                  "y": [
                    "Software Development"
                  ],
                  "yaxis": "y"
                },
                {
                  "alignmentgroup": "True",
                  "hovertemplate": "Industries=%{y}<br>Number of Jobs=%{x}<extra></extra>",
                  "legendgroup": "Advertising Services and Online Audio and Video Media",
                  "marker": {
                    "color": "#EF553B",
                    "pattern": {
                      "shape": ""
                    }
                  },
                  "name": "Advertising Services and Online Audio and Video Media",
                  "offsetgroup": "Advertising Services and Online Audio and Video Media",
                  "orientation": "h",
                  "showlegend": true,
                  "text": [
                    103,
                    60,
                    39,
                    38,
                    37,
                    36,
                    36,
                    35,
                    35,
                    34,
                    33,
                    33,
                    29,
                    23,
                    18,
                    15,
                    12,
                    5,
                    5,
                    3,
                    1,
                    1,
                    1
                  ],
                  "textposition": "outside",
                  "type": "bar",
                  "x": [
                    33
                  ],
                  "xaxis": "x",
                  "y": [
                    "Advertising Services and Online Audio and Video Media"
                  ],
                  "yaxis": "y"
                },
                {
                  "alignmentgroup": "True",
                  "hovertemplate": "Industries=%{y}<br>Number of Jobs=%{x}<extra></extra>",
                  "legendgroup": "Insurance and Investment Management",
                  "marker": {
                    "color": "#00cc96",
                    "pattern": {
                      "shape": ""
                    }
                  },
                  "name": "Insurance and Investment Management",
                  "offsetgroup": "Insurance and Investment Management",
                  "orientation": "h",
                  "showlegend": true,
                  "text": [
                    103,
                    60,
                    39,
                    38,
                    37,
                    36,
                    36,
                    35,
                    35,
                    34,
                    33,
                    33,
                    29,
                    23,
                    18,
                    15,
                    12,
                    5,
                    5,
                    3,
                    1,
                    1,
                    1
                  ],
                  "textposition": "outside",
                  "type": "bar",
                  "x": [
                    29
                  ],
                  "xaxis": "x",
                  "y": [
                    "Insurance and Investment Management"
                  ],
                  "yaxis": "y"
                },
                {
                  "alignmentgroup": "True",
                  "hovertemplate": "Industries=%{y}<br>Number of Jobs=%{x}<extra></extra>",
                  "legendgroup": "IT Services and IT Consulting, Medical Equipment Manufacturing, and Pharmaceutical Manufacturing",
                  "marker": {
                    "color": "#ab63fa",
                    "pattern": {
                      "shape": ""
                    }
                  },
                  "name": "IT Services and IT Consulting, Medical Equipment Manufacturing, and Pharmaceutical Manufacturing",
                  "offsetgroup": "IT Services and IT Consulting, Medical Equipment Manufacturing, and Pharmaceutical Manufacturing",
                  "orientation": "h",
                  "showlegend": true,
                  "text": [
                    103,
                    60,
                    39,
                    38,
                    37,
                    36,
                    36,
                    35,
                    35,
                    34,
                    33,
                    33,
                    29,
                    23,
                    18,
                    15,
                    12,
                    5,
                    5,
                    3,
                    1,
                    1,
                    1
                  ],
                  "textposition": "outside",
                  "type": "bar",
                  "x": [
                    23
                  ],
                  "xaxis": "x",
                  "y": [
                    "IT Services and IT Consulting, Medical Equipment Manufacturing, and Pharmaceutical Manufacturing"
                  ],
                  "yaxis": "y"
                },
                {
                  "alignmentgroup": "True",
                  "hovertemplate": "Industries=%{y}<br>Number of Jobs=%{x}<extra></extra>",
                  "legendgroup": "Financial Services",
                  "marker": {
                    "color": "#FFA15A",
                    "pattern": {
                      "shape": ""
                    }
                  },
                  "name": "Financial Services",
                  "offsetgroup": "Financial Services",
                  "orientation": "h",
                  "showlegend": true,
                  "text": [
                    103,
                    60,
                    39,
                    38,
                    37,
                    36,
                    36,
                    35,
                    35,
                    34,
                    33,
                    33,
                    29,
                    23,
                    18,
                    15,
                    12,
                    5,
                    5,
                    3,
                    1,
                    1,
                    1
                  ],
                  "textposition": "outside",
                  "type": "bar",
                  "x": [
                    18
                  ],
                  "xaxis": "x",
                  "y": [
                    "Financial Services"
                  ],
                  "yaxis": "y"
                },
                {
                  "alignmentgroup": "True",
                  "hovertemplate": "Industries=%{y}<br>Number of Jobs=%{x}<extra></extra>",
                  "legendgroup": "Entertainment Providers and Hospitals and Health Care",
                  "marker": {
                    "color": "#19d3f3",
                    "pattern": {
                      "shape": ""
                    }
                  },
                  "name": "Entertainment Providers and Hospitals and Health Care",
                  "offsetgroup": "Entertainment Providers and Hospitals and Health Care",
                  "orientation": "h",
                  "showlegend": true,
                  "text": [
                    103,
                    60,
                    39,
                    38,
                    37,
                    36,
                    36,
                    35,
                    35,
                    34,
                    33,
                    33,
                    29,
                    23,
                    18,
                    15,
                    12,
                    5,
                    5,
                    3,
                    1,
                    1,
                    1
                  ],
                  "textposition": "outside",
                  "type": "bar",
                  "x": [
                    15
                  ],
                  "xaxis": "x",
                  "y": [
                    "Entertainment Providers and Hospitals and Health Care"
                  ],
                  "yaxis": "y"
                },
                {
                  "alignmentgroup": "True",
                  "hovertemplate": "Industries=%{y}<br>Number of Jobs=%{x}<extra></extra>",
                  "legendgroup": "Appliances, Electrical, and Electronics Manufacturing, Nanotechnology Research, and Semiconductor Manufacturing",
                  "marker": {
                    "color": "#FF6692",
                    "pattern": {
                      "shape": ""
                    }
                  },
                  "name": "Appliances, Electrical, and Electronics Manufacturing, Nanotechnology Research, and Semiconductor Manufacturing",
                  "offsetgroup": "Appliances, Electrical, and Electronics Manufacturing, Nanotechnology Research, and Semiconductor Manufacturing",
                  "orientation": "h",
                  "showlegend": true,
                  "text": [
                    103,
                    60,
                    39,
                    38,
                    37,
                    36,
                    36,
                    35,
                    35,
                    34,
                    33,
                    33,
                    29,
                    23,
                    18,
                    15,
                    12,
                    5,
                    5,
                    3,
                    1,
                    1,
                    1
                  ],
                  "textposition": "outside",
                  "type": "bar",
                  "x": [
                    12
                  ],
                  "xaxis": "x",
                  "y": [
                    "Appliances, Electrical, and Electronics Manufacturing, Nanotechnology Research, and Semiconductor Manufacturing"
                  ],
                  "yaxis": "y"
                },
                {
                  "alignmentgroup": "True",
                  "hovertemplate": "Industries=%{y}<br>Number of Jobs=%{x}<extra></extra>",
                  "legendgroup": "Medical Equipment Manufacturing, Biotechnology Research, and Pharmaceutical Manufacturing",
                  "marker": {
                    "color": "#B6E880",
                    "pattern": {
                      "shape": ""
                    }
                  },
                  "name": "Medical Equipment Manufacturing, Biotechnology Research, and Pharmaceutical Manufacturing",
                  "offsetgroup": "Medical Equipment Manufacturing, Biotechnology Research, and Pharmaceutical Manufacturing",
                  "orientation": "h",
                  "showlegend": true,
                  "text": [
                    103,
                    60,
                    39,
                    38,
                    37,
                    36,
                    36,
                    35,
                    35,
                    34,
                    33,
                    33,
                    29,
                    23,
                    18,
                    15,
                    12,
                    5,
                    5,
                    3,
                    1,
                    1,
                    1
                  ],
                  "textposition": "outside",
                  "type": "bar",
                  "x": [
                    5
                  ],
                  "xaxis": "x",
                  "y": [
                    "Medical Equipment Manufacturing, Biotechnology Research, and Pharmaceutical Manufacturing"
                  ],
                  "yaxis": "y"
                },
                {
                  "alignmentgroup": "True",
                  "hovertemplate": "Industries=%{y}<br>Number of Jobs=%{x}<extra></extra>",
                  "legendgroup": "Construction",
                  "marker": {
                    "color": "#FF97FF",
                    "pattern": {
                      "shape": ""
                    }
                  },
                  "name": "Construction",
                  "offsetgroup": "Construction",
                  "orientation": "h",
                  "showlegend": true,
                  "text": [
                    103,
                    60,
                    39,
                    38,
                    37,
                    36,
                    36,
                    35,
                    35,
                    34,
                    33,
                    33,
                    29,
                    23,
                    18,
                    15,
                    12,
                    5,
                    5,
                    3,
                    1,
                    1,
                    1
                  ],
                  "textposition": "outside",
                  "type": "bar",
                  "x": [
                    5
                  ],
                  "xaxis": "x",
                  "y": [
                    "Construction"
                  ],
                  "yaxis": "y"
                },
                {
                  "alignmentgroup": "True",
                  "hovertemplate": "Industries=%{y}<br>Number of Jobs=%{x}<extra></extra>",
                  "legendgroup": "Motor Vehicle Manufacturing",
                  "marker": {
                    "color": "#FECB52",
                    "pattern": {
                      "shape": ""
                    }
                  },
                  "name": "Motor Vehicle Manufacturing",
                  "offsetgroup": "Motor Vehicle Manufacturing",
                  "orientation": "h",
                  "showlegend": true,
                  "text": [
                    103,
                    60,
                    39,
                    38,
                    37,
                    36,
                    36,
                    35,
                    35,
                    34,
                    33,
                    33,
                    29,
                    23,
                    18,
                    15,
                    12,
                    5,
                    5,
                    3,
                    1,
                    1,
                    1
                  ],
                  "textposition": "outside",
                  "type": "bar",
                  "x": [
                    3
                  ],
                  "xaxis": "x",
                  "y": [
                    "Motor Vehicle Manufacturing"
                  ],
                  "yaxis": "y"
                },
                {
                  "alignmentgroup": "True",
                  "hovertemplate": "Industries=%{y}<br>Number of Jobs=%{x}<extra></extra>",
                  "legendgroup": "Oil and Gas",
                  "marker": {
                    "color": "#636efa",
                    "pattern": {
                      "shape": ""
                    }
                  },
                  "name": "Oil and Gas",
                  "offsetgroup": "Oil and Gas",
                  "orientation": "h",
                  "showlegend": true,
                  "text": [
                    103,
                    60,
                    39,
                    38,
                    37,
                    36,
                    36,
                    35,
                    35,
                    34,
                    33,
                    33,
                    29,
                    23,
                    18,
                    15,
                    12,
                    5,
                    5,
                    3,
                    1,
                    1,
                    1
                  ],
                  "textposition": "outside",
                  "type": "bar",
                  "x": [
                    1
                  ],
                  "xaxis": "x",
                  "y": [
                    "Oil and Gas"
                  ],
                  "yaxis": "y"
                },
                {
                  "alignmentgroup": "True",
                  "hovertemplate": "Industries=%{y}<br>Number of Jobs=%{x}<extra></extra>",
                  "legendgroup": "IT Services and IT Consulting and Financial Services",
                  "marker": {
                    "color": "#EF553B",
                    "pattern": {
                      "shape": ""
                    }
                  },
                  "name": "IT Services and IT Consulting and Financial Services",
                  "offsetgroup": "IT Services and IT Consulting and Financial Services",
                  "orientation": "h",
                  "showlegend": true,
                  "text": [
                    103,
                    60,
                    39,
                    38,
                    37,
                    36,
                    36,
                    35,
                    35,
                    34,
                    33,
                    33,
                    29,
                    23,
                    18,
                    15,
                    12,
                    5,
                    5,
                    3,
                    1,
                    1,
                    1
                  ],
                  "textposition": "outside",
                  "type": "bar",
                  "x": [
                    1
                  ],
                  "xaxis": "x",
                  "y": [
                    "IT Services and IT Consulting and Financial Services"
                  ],
                  "yaxis": "y"
                },
                {
                  "alignmentgroup": "True",
                  "hovertemplate": "Industries=%{y}<br>Number of Jobs=%{x}<extra></extra>",
                  "legendgroup": "Entertainment Providers",
                  "marker": {
                    "color": "#00cc96",
                    "pattern": {
                      "shape": ""
                    }
                  },
                  "name": "Entertainment Providers",
                  "offsetgroup": "Entertainment Providers",
                  "orientation": "h",
                  "showlegend": true,
                  "text": [
                    103,
                    60,
                    39,
                    38,
                    37,
                    36,
                    36,
                    35,
                    35,
                    34,
                    33,
                    33,
                    29,
                    23,
                    18,
                    15,
                    12,
                    5,
                    5,
                    3,
                    1,
                    1,
                    1
                  ],
                  "textposition": "outside",
                  "type": "bar",
                  "x": [
                    1
                  ],
                  "xaxis": "x",
                  "y": [
                    "Entertainment Providers"
                  ],
                  "yaxis": "y"
                }
              ],
              "layout": {
                "barmode": "relative",
                "height": 400,
                "legend": {
                  "title": {
                    "text": "Industries"
                  },
                  "tracegroupgap": 0
                },
                "showlegend": false,
                "template": {
                  "data": {
                    "bar": [
                      {
                        "error_x": {
                          "color": "#2a3f5f"
                        },
                        "error_y": {
                          "color": "#2a3f5f"
                        },
                        "marker": {
                          "line": {
                            "color": "#E5ECF6",
                            "width": 0.5
                          },
                          "pattern": {
                            "fillmode": "overlay",
                            "size": 10,
                            "solidity": 0.2
                          }
                        },
                        "type": "bar"
                      }
                    ],
                    "barpolar": [
                      {
                        "marker": {
                          "line": {
                            "color": "#E5ECF6",
                            "width": 0.5
                          },
                          "pattern": {
                            "fillmode": "overlay",
                            "size": 10,
                            "solidity": 0.2
                          }
                        },
                        "type": "barpolar"
                      }
                    ],
                    "carpet": [
                      {
                        "aaxis": {
                          "endlinecolor": "#2a3f5f",
                          "gridcolor": "white",
                          "linecolor": "white",
                          "minorgridcolor": "white",
                          "startlinecolor": "#2a3f5f"
                        },
                        "baxis": {
                          "endlinecolor": "#2a3f5f",
                          "gridcolor": "white",
                          "linecolor": "white",
                          "minorgridcolor": "white",
                          "startlinecolor": "#2a3f5f"
                        },
                        "type": "carpet"
                      }
                    ],
                    "choropleth": [
                      {
                        "colorbar": {
                          "outlinewidth": 0,
                          "ticks": ""
                        },
                        "type": "choropleth"
                      }
                    ],
                    "contour": [
                      {
                        "colorbar": {
                          "outlinewidth": 0,
                          "ticks": ""
                        },
                        "colorscale": [
                          [
                            0,
                            "#0d0887"
                          ],
                          [
                            0.1111111111111111,
                            "#46039f"
                          ],
                          [
                            0.2222222222222222,
                            "#7201a8"
                          ],
                          [
                            0.3333333333333333,
                            "#9c179e"
                          ],
                          [
                            0.4444444444444444,
                            "#bd3786"
                          ],
                          [
                            0.5555555555555556,
                            "#d8576b"
                          ],
                          [
                            0.6666666666666666,
                            "#ed7953"
                          ],
                          [
                            0.7777777777777778,
                            "#fb9f3a"
                          ],
                          [
                            0.8888888888888888,
                            "#fdca26"
                          ],
                          [
                            1,
                            "#f0f921"
                          ]
                        ],
                        "type": "contour"
                      }
                    ],
                    "contourcarpet": [
                      {
                        "colorbar": {
                          "outlinewidth": 0,
                          "ticks": ""
                        },
                        "type": "contourcarpet"
                      }
                    ],
                    "heatmap": [
                      {
                        "colorbar": {
                          "outlinewidth": 0,
                          "ticks": ""
                        },
                        "colorscale": [
                          [
                            0,
                            "#0d0887"
                          ],
                          [
                            0.1111111111111111,
                            "#46039f"
                          ],
                          [
                            0.2222222222222222,
                            "#7201a8"
                          ],
                          [
                            0.3333333333333333,
                            "#9c179e"
                          ],
                          [
                            0.4444444444444444,
                            "#bd3786"
                          ],
                          [
                            0.5555555555555556,
                            "#d8576b"
                          ],
                          [
                            0.6666666666666666,
                            "#ed7953"
                          ],
                          [
                            0.7777777777777778,
                            "#fb9f3a"
                          ],
                          [
                            0.8888888888888888,
                            "#fdca26"
                          ],
                          [
                            1,
                            "#f0f921"
                          ]
                        ],
                        "type": "heatmap"
                      }
                    ],
                    "heatmapgl": [
                      {
                        "colorbar": {
                          "outlinewidth": 0,
                          "ticks": ""
                        },
                        "colorscale": [
                          [
                            0,
                            "#0d0887"
                          ],
                          [
                            0.1111111111111111,
                            "#46039f"
                          ],
                          [
                            0.2222222222222222,
                            "#7201a8"
                          ],
                          [
                            0.3333333333333333,
                            "#9c179e"
                          ],
                          [
                            0.4444444444444444,
                            "#bd3786"
                          ],
                          [
                            0.5555555555555556,
                            "#d8576b"
                          ],
                          [
                            0.6666666666666666,
                            "#ed7953"
                          ],
                          [
                            0.7777777777777778,
                            "#fb9f3a"
                          ],
                          [
                            0.8888888888888888,
                            "#fdca26"
                          ],
                          [
                            1,
                            "#f0f921"
                          ]
                        ],
                        "type": "heatmapgl"
                      }
                    ],
                    "histogram": [
                      {
                        "marker": {
                          "pattern": {
                            "fillmode": "overlay",
                            "size": 10,
                            "solidity": 0.2
                          }
                        },
                        "type": "histogram"
                      }
                    ],
                    "histogram2d": [
                      {
                        "colorbar": {
                          "outlinewidth": 0,
                          "ticks": ""
                        },
                        "colorscale": [
                          [
                            0,
                            "#0d0887"
                          ],
                          [
                            0.1111111111111111,
                            "#46039f"
                          ],
                          [
                            0.2222222222222222,
                            "#7201a8"
                          ],
                          [
                            0.3333333333333333,
                            "#9c179e"
                          ],
                          [
                            0.4444444444444444,
                            "#bd3786"
                          ],
                          [
                            0.5555555555555556,
                            "#d8576b"
                          ],
                          [
                            0.6666666666666666,
                            "#ed7953"
                          ],
                          [
                            0.7777777777777778,
                            "#fb9f3a"
                          ],
                          [
                            0.8888888888888888,
                            "#fdca26"
                          ],
                          [
                            1,
                            "#f0f921"
                          ]
                        ],
                        "type": "histogram2d"
                      }
                    ],
                    "histogram2dcontour": [
                      {
                        "colorbar": {
                          "outlinewidth": 0,
                          "ticks": ""
                        },
                        "colorscale": [
                          [
                            0,
                            "#0d0887"
                          ],
                          [
                            0.1111111111111111,
                            "#46039f"
                          ],
                          [
                            0.2222222222222222,
                            "#7201a8"
                          ],
                          [
                            0.3333333333333333,
                            "#9c179e"
                          ],
                          [
                            0.4444444444444444,
                            "#bd3786"
                          ],
                          [
                            0.5555555555555556,
                            "#d8576b"
                          ],
                          [
                            0.6666666666666666,
                            "#ed7953"
                          ],
                          [
                            0.7777777777777778,
                            "#fb9f3a"
                          ],
                          [
                            0.8888888888888888,
                            "#fdca26"
                          ],
                          [
                            1,
                            "#f0f921"
                          ]
                        ],
                        "type": "histogram2dcontour"
                      }
                    ],
                    "mesh3d": [
                      {
                        "colorbar": {
                          "outlinewidth": 0,
                          "ticks": ""
                        },
                        "type": "mesh3d"
                      }
                    ],
                    "parcoords": [
                      {
                        "line": {
                          "colorbar": {
                            "outlinewidth": 0,
                            "ticks": ""
                          }
                        },
                        "type": "parcoords"
                      }
                    ],
                    "pie": [
                      {
                        "automargin": true,
                        "type": "pie"
                      }
                    ],
                    "scatter": [
                      {
                        "fillpattern": {
                          "fillmode": "overlay",
                          "size": 10,
                          "solidity": 0.2
                        },
                        "type": "scatter"
                      }
                    ],
                    "scatter3d": [
                      {
                        "line": {
                          "colorbar": {
                            "outlinewidth": 0,
                            "ticks": ""
                          }
                        },
                        "marker": {
                          "colorbar": {
                            "outlinewidth": 0,
                            "ticks": ""
                          }
                        },
                        "type": "scatter3d"
                      }
                    ],
                    "scattercarpet": [
                      {
                        "marker": {
                          "colorbar": {
                            "outlinewidth": 0,
                            "ticks": ""
                          }
                        },
                        "type": "scattercarpet"
                      }
                    ],
                    "scattergeo": [
                      {
                        "marker": {
                          "colorbar": {
                            "outlinewidth": 0,
                            "ticks": ""
                          }
                        },
                        "type": "scattergeo"
                      }
                    ],
                    "scattergl": [
                      {
                        "marker": {
                          "colorbar": {
                            "outlinewidth": 0,
                            "ticks": ""
                          }
                        },
                        "type": "scattergl"
                      }
                    ],
                    "scattermapbox": [
                      {
                        "marker": {
                          "colorbar": {
                            "outlinewidth": 0,
                            "ticks": ""
                          }
                        },
                        "type": "scattermapbox"
                      }
                    ],
                    "scatterpolar": [
                      {
                        "marker": {
                          "colorbar": {
                            "outlinewidth": 0,
                            "ticks": ""
                          }
                        },
                        "type": "scatterpolar"
                      }
                    ],
                    "scatterpolargl": [
                      {
                        "marker": {
                          "colorbar": {
                            "outlinewidth": 0,
                            "ticks": ""
                          }
                        },
                        "type": "scatterpolargl"
                      }
                    ],
                    "scatterternary": [
                      {
                        "marker": {
                          "colorbar": {
                            "outlinewidth": 0,
                            "ticks": ""
                          }
                        },
                        "type": "scatterternary"
                      }
                    ],
                    "surface": [
                      {
                        "colorbar": {
                          "outlinewidth": 0,
                          "ticks": ""
                        },
                        "colorscale": [
                          [
                            0,
                            "#0d0887"
                          ],
                          [
                            0.1111111111111111,
                            "#46039f"
                          ],
                          [
                            0.2222222222222222,
                            "#7201a8"
                          ],
                          [
                            0.3333333333333333,
                            "#9c179e"
                          ],
                          [
                            0.4444444444444444,
                            "#bd3786"
                          ],
                          [
                            0.5555555555555556,
                            "#d8576b"
                          ],
                          [
                            0.6666666666666666,
                            "#ed7953"
                          ],
                          [
                            0.7777777777777778,
                            "#fb9f3a"
                          ],
                          [
                            0.8888888888888888,
                            "#fdca26"
                          ],
                          [
                            1,
                            "#f0f921"
                          ]
                        ],
                        "type": "surface"
                      }
                    ],
                    "table": [
                      {
                        "cells": {
                          "fill": {
                            "color": "#EBF0F8"
                          },
                          "line": {
                            "color": "white"
                          }
                        },
                        "header": {
                          "fill": {
                            "color": "#C8D4E3"
                          },
                          "line": {
                            "color": "white"
                          }
                        },
                        "type": "table"
                      }
                    ]
                  },
                  "layout": {
                    "annotationdefaults": {
                      "arrowcolor": "#2a3f5f",
                      "arrowhead": 0,
                      "arrowwidth": 1
                    },
                    "autotypenumbers": "strict",
                    "coloraxis": {
                      "colorbar": {
                        "outlinewidth": 0,
                        "ticks": ""
                      }
                    },
                    "colorscale": {
                      "diverging": [
                        [
                          0,
                          "#8e0152"
                        ],
                        [
                          0.1,
                          "#c51b7d"
                        ],
                        [
                          0.2,
                          "#de77ae"
                        ],
                        [
                          0.3,
                          "#f1b6da"
                        ],
                        [
                          0.4,
                          "#fde0ef"
                        ],
                        [
                          0.5,
                          "#f7f7f7"
                        ],
                        [
                          0.6,
                          "#e6f5d0"
                        ],
                        [
                          0.7,
                          "#b8e186"
                        ],
                        [
                          0.8,
                          "#7fbc41"
                        ],
                        [
                          0.9,
                          "#4d9221"
                        ],
                        [
                          1,
                          "#276419"
                        ]
                      ],
                      "sequential": [
                        [
                          0,
                          "#0d0887"
                        ],
                        [
                          0.1111111111111111,
                          "#46039f"
                        ],
                        [
                          0.2222222222222222,
                          "#7201a8"
                        ],
                        [
                          0.3333333333333333,
                          "#9c179e"
                        ],
                        [
                          0.4444444444444444,
                          "#bd3786"
                        ],
                        [
                          0.5555555555555556,
                          "#d8576b"
                        ],
                        [
                          0.6666666666666666,
                          "#ed7953"
                        ],
                        [
                          0.7777777777777778,
                          "#fb9f3a"
                        ],
                        [
                          0.8888888888888888,
                          "#fdca26"
                        ],
                        [
                          1,
                          "#f0f921"
                        ]
                      ],
                      "sequentialminus": [
                        [
                          0,
                          "#0d0887"
                        ],
                        [
                          0.1111111111111111,
                          "#46039f"
                        ],
                        [
                          0.2222222222222222,
                          "#7201a8"
                        ],
                        [
                          0.3333333333333333,
                          "#9c179e"
                        ],
                        [
                          0.4444444444444444,
                          "#bd3786"
                        ],
                        [
                          0.5555555555555556,
                          "#d8576b"
                        ],
                        [
                          0.6666666666666666,
                          "#ed7953"
                        ],
                        [
                          0.7777777777777778,
                          "#fb9f3a"
                        ],
                        [
                          0.8888888888888888,
                          "#fdca26"
                        ],
                        [
                          1,
                          "#f0f921"
                        ]
                      ]
                    },
                    "colorway": [
                      "#636efa",
                      "#EF553B",
                      "#00cc96",
                      "#ab63fa",
                      "#FFA15A",
                      "#19d3f3",
                      "#FF6692",
                      "#B6E880",
                      "#FF97FF",
                      "#FECB52"
                    ],
                    "font": {
                      "color": "#2a3f5f"
                    },
                    "geo": {
                      "bgcolor": "white",
                      "lakecolor": "white",
                      "landcolor": "#E5ECF6",
                      "showlakes": true,
                      "showland": true,
                      "subunitcolor": "white"
                    },
                    "hoverlabel": {
                      "align": "left"
                    },
                    "hovermode": "closest",
                    "mapbox": {
                      "style": "light"
                    },
                    "paper_bgcolor": "white",
                    "plot_bgcolor": "#E5ECF6",
                    "polar": {
                      "angularaxis": {
                        "gridcolor": "white",
                        "linecolor": "white",
                        "ticks": ""
                      },
                      "bgcolor": "#E5ECF6",
                      "radialaxis": {
                        "gridcolor": "white",
                        "linecolor": "white",
                        "ticks": ""
                      }
                    },
                    "scene": {
                      "xaxis": {
                        "backgroundcolor": "#E5ECF6",
                        "gridcolor": "white",
                        "gridwidth": 2,
                        "linecolor": "white",
                        "showbackground": true,
                        "ticks": "",
                        "zerolinecolor": "white"
                      },
                      "yaxis": {
                        "backgroundcolor": "#E5ECF6",
                        "gridcolor": "white",
                        "gridwidth": 2,
                        "linecolor": "white",
                        "showbackground": true,
                        "ticks": "",
                        "zerolinecolor": "white"
                      },
                      "zaxis": {
                        "backgroundcolor": "#E5ECF6",
                        "gridcolor": "white",
                        "gridwidth": 2,
                        "linecolor": "white",
                        "showbackground": true,
                        "ticks": "",
                        "zerolinecolor": "white"
                      }
                    },
                    "shapedefaults": {
                      "line": {
                        "color": "#2a3f5f"
                      }
                    },
                    "ternary": {
                      "aaxis": {
                        "gridcolor": "white",
                        "linecolor": "white",
                        "ticks": ""
                      },
                      "baxis": {
                        "gridcolor": "white",
                        "linecolor": "white",
                        "ticks": ""
                      },
                      "bgcolor": "#E5ECF6",
                      "caxis": {
                        "gridcolor": "white",
                        "linecolor": "white",
                        "ticks": ""
                      }
                    },
                    "title": {
                      "x": 0.05
                    },
                    "xaxis": {
                      "automargin": true,
                      "gridcolor": "white",
                      "linecolor": "white",
                      "ticks": "",
                      "title": {
                        "standoff": 15
                      },
                      "zerolinecolor": "white",
                      "zerolinewidth": 2
                    },
                    "yaxis": {
                      "automargin": true,
                      "gridcolor": "white",
                      "linecolor": "white",
                      "ticks": "",
                      "title": {
                        "standoff": 15
                      },
                      "zerolinecolor": "white",
                      "zerolinewidth": 2
                    }
                  }
                },
                "title": {
                  "text": "Data Analyst Jobs Based On Industries Expectations"
                },
                "width": 1100,
                "xaxis": {
                  "anchor": "y",
                  "domain": [
                    0,
                    1
                  ],
                  "title": {
                    "text": "Number of Jobs"
                  }
                },
                "yaxis": {
                  "anchor": "x",
                  "categoryarray": [
                    "Entertainment Providers",
                    "IT Services and IT Consulting and Financial Services",
                    "Oil and Gas",
                    "Motor Vehicle Manufacturing",
                    "Construction",
                    "Medical Equipment Manufacturing, Biotechnology Research, and Pharmaceutical Manufacturing",
                    "Appliances, Electrical, and Electronics Manufacturing, Nanotechnology Research, and Semiconductor Manufacturing",
                    "Entertainment Providers and Hospitals and Health Care",
                    "Financial Services",
                    "IT Services and IT Consulting, Medical Equipment Manufacturing, and Pharmaceutical Manufacturing",
                    "Insurance and Investment Management",
                    "Advertising Services and Online Audio and Video Media",
                    "Software Development",
                    "IT Services and IT Consulting and Hospitals and Health Care",
                    "Retail",
                    "IT Services and IT Consulting and Software Development",
                    "Telecommunications",
                    "Business Consulting and Services",
                    "IT Services and IT Consulting and Motor Vehicle Manufacturing",
                    "Hospitals and Health Care",
                    "Advertising Services",
                    "Staffing and Recruiting",
                    "IT Services and IT Consulting"
                  ],
                  "categoryorder": "array",
                  "domain": [
                    0,
                    1
                  ],
                  "title": {
                    "text": "Industries"
                  }
                }
              }
            }
          },
          "metadata": {},
          "output_type": "display_data"
        }
      ],
      "source": [
        "Industries=pd.Series(ind)\n",
        "\n",
        "# Using Plotly Express for bar chart\n",
        "fig = px.bar(pd.DataFrame({'Industries': Industries.value_counts().index,\n",
        "                           'count': Industries.value_counts().values}),\n",
        "             x='count', y='Industries',\n",
        "             orientation='h',\n",
        "             color='Industries',\n",
        "             title=\"Data Analyst Jobs Based On Industries Expectations\",\n",
        "             labels={'Industries': 'Industries', 'count': 'Number of Jobs'},\n",
        "             height=400, width=1100)\n",
        "\n",
        "fig.update_layout(yaxis=dict(title='Industries'),\n",
        "                  xaxis=dict(title='Number of Jobs'),\n",
        "                  showlegend=False)\n",
        "\n",
        "fig.update_traces(text=Industries.value_counts().values, textposition='outside')\n",
        "\n",
        "fig.show()"
      ]
    },
    {
      "cell_type": "markdown",
      "metadata": {},
      "source": [
        "Industri yang sering membuka lowongan sebagai `Data Analyst` yaitu industri `IT Services` dan `IT Consulting`."
      ]
    },
    {
      "cell_type": "markdown",
      "metadata": {},
      "source": [
        "## Kesimpulan"
      ]
    },
    {
      "cell_type": "markdown",
      "metadata": {},
      "source": [
        "Dari analisis data, terlihat bahwa Insight Global menonjol sebagai perusahaan dengan aktivitas perekrutan Data Analyst yang tinggi, menciptakan peluang bagi pelamar yang tertarik dengan perusahaan tersebut. Lebih lanjut, Amerika Serikat menjadi pasar pekerjaan utama untuk peran ini, sehingga mengeksplorasi peluang di sana mungkin memberikan keuntungan lebih besar.\n",
        "\n",
        "Penting untuk diperhatikan bahwa sebagian besar pekerjaan Data Analyst dapat dilakukan secara remote, menawarkan fleksibilitas yang penting bagi banyak profesional. Selain itu, pengumuman lowongan cenderung dilakukan pada awal pekan, memberikan waktu bagi pelamar untuk bersiap dan merespons dengan cepat.\n",
        "\n",
        "Dalam hal persyaratan, walaupun pengalaman dihargai (44%), peluang masih terbuka lebar untuk pemula (20%) dan bagi mereka yang menganggap pengalaman tidak berlaku (20%). Oleh karena itu, tidak ada salahnya untuk melamar meskipun Anda mungkin berada di awal karir atau sedang mencari perubahan.\n",
        "\n",
        "Gaji yang bervariasi menunjukkan keragaman dalam penawaran, sehingga sebaiknya calon pelamar melakukan penelitian tambahan untuk menentukan nilai gaji yang wajar berdasarkan kualifikasi dan pengalaman mereka. Selain itu, kerja kontrak dan full-time memiliki porsi yang seimbang, memberikan opsi lebih untuk memenuhi preferensi gaya kerja.\n",
        "\n",
        "Dengan memahami dominasi industri seperti Technology dan Finance, pelamar dapat mengarahkan pencarian mereka dengan lebih strategis. Khususnya, industri IT Services dan IT Consulting menonjol sebagai sumber peluang yang signifikan.\n",
        "\n",
        "Secara keseluruhan, melalui analisis ini, calon pelamar Data Analyst dapat mengidentifikasi tren utama, menyesuaikan diri dengan ekspektasi pasar, dan menyiapkan strategi yang tepat untuk mendapatkan peluang pekerjaan yang sesuai dengan keinginan dan kualifikasi mereka."
      ]
    }
  ],
  "metadata": {
    "colab": {
      "collapsed_sections": [
        "_J0lql0HtXyC",
        "2BiTzNq7ttYK",
        "oftmQO_7I1rP",
        "OOXRkxeBI1rZ",
        "HptT14bhtqxu",
        "UogK1TPdA3ER",
        "lnhKJJh1MawR",
        "bzut4d2ZNrVz",
        "ZHnD2LLNoe99",
        "pz7B0QfLFOS_",
        "yL3A-fmXDnJ0",
        "q7ITXyCsKabb",
        "stwOJj-9TSOe"
      ],
      "provenance": []
    },
    "kernelspec": {
      "display_name": "base",
      "language": "python",
      "name": "python3"
    },
    "language_info": {
      "codemirror_mode": {
        "name": "ipython",
        "version": 3
      },
      "file_extension": ".py",
      "mimetype": "text/x-python",
      "name": "python",
      "nbconvert_exporter": "python",
      "pygments_lexer": "ipython3",
      "version": "3.11.5"
    }
  },
  "nbformat": 4,
  "nbformat_minor": 0
}
